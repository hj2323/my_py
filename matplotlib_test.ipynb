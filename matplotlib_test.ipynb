{
 "cells": [
  {
   "cell_type": "code",
   "execution_count": null,
   "metadata": {},
   "outputs": [],
   "source": [
    "import matplotlib\n",
    "import matplotlib.pyplot as plt\n",
    "import pandas as pd\n",
    "import numpy as np"
   ]
  },
  {
   "cell_type": "code",
   "execution_count": null,
   "metadata": {},
   "outputs": [],
   "source": [
    "s=pd.Series(np.random.randn(10).cumsum(), index=np.arange(0,100,10))\n",
    "s"
   ]
  },
  {
   "cell_type": "code",
   "execution_count": null,
   "metadata": {},
   "outputs": [],
   "source": [
    "s.plot()"
   ]
  },
  {
   "cell_type": "code",
   "execution_count": null,
   "metadata": {},
   "outputs": [],
   "source": [
    "df=pd.DataFrame(np.random.rand(10,4),columns=['A','B','C','D'], index=np.arange(0,100,10))\n",
    "df"
   ]
  },
  {
   "cell_type": "code",
   "execution_count": null,
   "metadata": {},
   "outputs": [],
   "source": [
    "#위 데이터로 차트 그리기\n",
    "#df.plot()"
   ]
  },
  {
   "cell_type": "code",
   "execution_count": null,
   "metadata": {},
   "outputs": [],
   "source": [
    "#그래프를 조작\n",
    "#%matplotlib nbagg\n",
    "%matplotlib inline"
   ]
  },
  {
   "cell_type": "code",
   "execution_count": null,
   "metadata": {},
   "outputs": [],
   "source": [
    "df.가.plot()\n",
    "df.나.plot()\n",
    "df.다.plot()"
   ]
  },
  {
   "cell_type": "code",
   "execution_count": null,
   "metadata": {},
   "outputs": [],
   "source": [
    "df.plot(kind='bar')"
   ]
  },
  {
   "cell_type": "code",
   "execution_count": null,
   "metadata": {},
   "outputs": [],
   "source": [
    "df.plot(kind='barh')"
   ]
  },
  {
   "cell_type": "code",
   "execution_count": null,
   "metadata": {},
   "outputs": [],
   "source": [
    "from matplotlib import rc, font_manager\n",
    "\n",
    "font_name=font_manager.FontProperties(fname='C:/Windows/Fonts/SeoulNamsanB.ttf').get_name()\n",
    "rc('font',family=font_name)\n",
    "df.columns.name=\"종류\"\n",
    "df.columns=['가','나','다','라']"
   ]
  },
  {
   "cell_type": "code",
   "execution_count": null,
   "metadata": {},
   "outputs": [],
   "source": [
    "df.plot(kind='bar',stacked=True)"
   ]
  },
  {
   "cell_type": "code",
   "execution_count": null,
   "metadata": {},
   "outputs": [],
   "source": [
    "#히스토그램\n",
    "s2=pd.Series(np.random.normal(0,100,size=200))\n",
    "plt.rcParams['axes.unicode_minus']=False   #마이너스 표시해줌\n",
    "#s2.hist()\n",
    "s2.hist(bins=50)\n",
    "#거의 정규분포를 따름"
   ]
  },
  {
   "cell_type": "code",
   "execution_count": null,
   "metadata": {},
   "outputs": [],
   "source": [
    "x1=np.random.normal(1,1,size=(100,1))\n",
    "x2=np.random.normal(-2,4,size=(100,1))"
   ]
  },
  {
   "cell_type": "code",
   "execution_count": null,
   "metadata": {},
   "outputs": [],
   "source": [
    "x=np.concatenate((x1, x2),axis=1)\n",
    "df=pd.DataFrame(x, columns=['x1','x2'])\n",
    "df.x1.corr(df.x2)\n",
    "plt.scatter(df['x1'],df['x2'])"
   ]
  },
  {
   "cell_type": "code",
   "execution_count": null,
   "metadata": {},
   "outputs": [],
   "source": [
    "df.x1.corr(df.x2)"
   ]
  },
  {
   "cell_type": "code",
   "execution_count": null,
   "metadata": {},
   "outputs": [],
   "source": [
    "a=[1,2,3,4,5]\n",
    "b=[10,20,30,40,50]\n",
    "data={'a':a, 'b':b}\n",
    "df2=pd.DataFrame(data)\n",
    "plt.scatter(df2.a, df2.b)"
   ]
  },
  {
   "cell_type": "code",
   "execution_count": null,
   "metadata": {},
   "outputs": [],
   "source": [
    "df2.a.corr(df2.b)"
   ]
  },
  {
   "cell_type": "code",
   "execution_count": null,
   "metadata": {},
   "outputs": [],
   "source": [
    "import csv\n",
    "from datetime import datetime\n",
    "from matplotlib import pyplot as plt"
   ]
  },
  {
   "cell_type": "code",
   "execution_count": null,
   "metadata": {},
   "outputs": [],
   "source": [
    "filename=\"C:\\chj\\data/temperature_2014.csv\"\n",
    "with open(filename) as f:\n",
    "    reader=csv.reader(f)\n",
    "    header_row=next(reader)\n",
    "    dates, highs,lows=[],[],[]\n",
    "    for row in reader:\n",
    "        try:\n",
    "            current_date=datetime.strptime(row[0],\"%Y-%m-%d\")\n",
    "            high=int(row[1])\n",
    "            low=int(row[3])\n",
    "        except ValueError:\n",
    "            print(current_date, 'missing date')\n",
    "        else:\n",
    "            dates.append(current_date)\n",
    "            highs.append(high)\n",
    "            lows.append(low)\n",
    "            "
   ]
  },
  {
   "cell_type": "code",
   "execution_count": null,
   "metadata": {
    "scrolled": false
   },
   "outputs": [],
   "source": [
    "fig=plt.figure(dpi=128, figsize=(10,6))\n",
    "fig.add_subplot(1,1,1)\n",
    "plt.plot(dates, highs,c='red', alpha=0.5)\n",
    "plt.plot(dates, lows,c='blue', alpha=0.5)\n",
    "plt.fill_between(dates, highs, lows, facecolor='green', alpha=0.2)\n",
    "plt.title('온도 통계', fontsize=20)\n",
    "plt.xlabel('기간', fontsize=16)\n",
    "plt.ylabel('온도', fontsize=16)\n",
    "plt.tick_params(axis='both', labelsize=16)\n",
    "\n",
    "plt.savefig('C:/chj/data/plot1.png',dpi=400)\n",
    "plt.show()"
   ]
  },
  {
   "cell_type": "code",
   "execution_count": null,
   "metadata": {},
   "outputs": [],
   "source": [
    "#판다스 사용 파일 처리\n",
    "input_file=\"C:/chj/data/temperature_2014.csv\"\n",
    "df=pd.read_csv(input_file)\n",
    "df1=df.iloc[:,[0,1,3]]\n",
    "df1.columns=['dates','highs','lows']\n",
    "df1.dates=pd.to_datetime(df1.dates)"
   ]
  },
  {
   "cell_type": "code",
   "execution_count": null,
   "metadata": {},
   "outputs": [],
   "source": [
    "fig=plt.figure(dpi=128, figsize=(10,6))\n",
    "fig.add_subplot(1,1,1)\n",
    "plt.plot(df1.dates, df1.highs,c='red', alpha=0.5)\n",
    "plt.plot(df1.dates, df1.lows,c='blue', alpha=0.5)\n",
    "plt.fill_between(df1.dates, df1.highs, df1.lows, facecolor='green', alpha=0.2)\n",
    "plt.title('온도 통계', fontsize=20)\n",
    "plt.xlabel('기간', fontsize=16)\n",
    "plt.ylabel('온도', fontsize=16)\n",
    "plt.tick_params(axis='both', labelsize=16)\n",
    "plt.show()\n",
    "plt.savefig('C:/chj/data/plot2.png',dpi=400, bbox_inches='tight')"
   ]
  },
  {
   "cell_type": "code",
   "execution_count": null,
   "metadata": {},
   "outputs": [],
   "source": []
  }
 ],
 "metadata": {
  "kernelspec": {
   "display_name": "Python 3",
   "language": "python",
   "name": "python3"
  },
  "language_info": {
   "codemirror_mode": {
    "name": "ipython",
    "version": 3
   },
   "file_extension": ".py",
   "mimetype": "text/x-python",
   "name": "python",
   "nbconvert_exporter": "python",
   "pygments_lexer": "ipython3",
   "version": "3.8.5"
  }
 },
 "nbformat": 4,
 "nbformat_minor": 4
}
