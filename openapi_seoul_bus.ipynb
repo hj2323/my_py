{
 "metadata": {
  "language_info": {
   "codemirror_mode": {
    "name": "ipython",
    "version": 3
   },
   "file_extension": ".py",
   "mimetype": "text/x-python",
   "name": "python",
   "nbconvert_exporter": "python",
   "pygments_lexer": "ipython3",
   "version": "3.8.5-final"
  },
  "orig_nbformat": 2,
  "kernelspec": {
   "name": "python3",
   "display_name": "Python 3.8.5 64-bit (conda)",
   "metadata": {
    "interpreter": {
     "hash": "7983b5f87976c76b3840bf38330c330eda01f8d9b50d3f222b356bd3e7393c9b"
    }
   }
  }
 },
 "nbformat": 4,
 "nbformat_minor": 2,
 "cells": [
  {
   "cell_type": "code",
   "execution_count": 8,
   "metadata": {},
   "outputs": [],
   "source": [
    "from bs4 import BeautifulSoup\n",
    "import urllib.request as req"
   ]
  },
  {
   "cell_type": "code",
   "execution_count": 19,
   "metadata": {},
   "outputs": [],
   "source": [
    "busNum = '360'\n",
    "key ='fWk84AMg02ZB1urJXgQMH%2BX83s0OWsS6w2EL6DeHaB4dcm0UpTxQ2IdYZQduk%2BL4Ebm81maZr08z%2F2ZNCb8qAA%3D%3D'\n",
    "\n",
    "url1 = 'http://ws.bus.go.kr/api/rest/busRouteInfo/getBusRouteList?serviceKey='+key+'&strSrch='+busNum\n",
    "savename = 'C:/chj/data/businfo.xml'\n",
    "req.urlretrieve(url1, savename)\n",
    "\n",
    "xml = open(savename,'r', encoding='utf-8').read()\n",
    "soup = BeautifulSoup(xml, 'xml')\n",
    "\n",
    "busRouteId = None\n",
    "for itemList in soup.find_all('itemList'):\n",
    "    busRouteId = itemList.find('busRouteId').string\n",
    "    busRouteNm = itemList.find('busRouteNm').string\n",
    "    if busRouteNm == busNum : \n",
    "        break"
   ]
  },
  {
   "cell_type": "code",
   "execution_count": 23,
   "metadata": {
    "tags": [
     "outputPrepend"
    ]
   },
   "outputs": [
    {
     "output_type": "stream",
     "name": "stdout",
     "text": [
      "3967561</posY><rtDist>55.7</rtDist><sectDist>0.047</sectDist><sectOrd>19</sectOrd><sectionId>122606264</sectionId><stopFlag>1</stopFlag><trnstnid>118000008</trnstnid><vehId>123060223</vehId></itemList><itemList><busType>0</busType><congetion>3</congetion><dataTm>20210305142647</dataTm><fullSectDist>0.507</fullSectDist><gpsX>127.029839</gpsX><gpsY>37.498829</gpsY><isFullFlag>0</isFullFlag><islastyn>0</islastyn><isrunyn>1</isrunyn><lastStTm>9691</lastStTm><lastStnId>122000181</lastStnId><nextStId>121000021</nextStId><nextStTm>924</nextStTm><plainNo>서울71사1891</plainNo><posX>202638.2293216651</posX><posY>444380.5351975225</posY><rtDist>55.7</rtDist><sectDist>0</sectDist><sectOrd>22</sectOrd><sectionId>121607970</sectionId><stopFlag>1</stopFlag><trnstnid>118000008</trnstnid><vehId>123060221</vehId></itemList><itemList><busType>1</busType><congetion>3</congetion><dataTm>20210305142643</dataTm><fullSectDist>0.667</fullSectDist><gpsX>127.024699</gpsX><gpsY>37.504355</gpsY><isFullFlag>0</isFullFlag><islastyn>0</islastyn><isrunyn>1</isrunyn><lastStTm>9558</lastStTm><lastStnId>121000012</lastStnId><nextStId>121000021</nextStId><nextStTm>800</nextStTm><plainNo>서울75사2685</plainNo><posX>202183.61283782375</posX><posY>444993.6524488195</posY><rtDist>55.7</rtDist><sectDist>0.568</sectDist><sectOrd>23</sectOrd><sectionId>121607972</sectionId><stopFlag>0</stopFlag><trnstnid>118000008</trnstnid><vehId>123060167</vehId></itemList><itemList><busType>0</busType><congetion>3</congetion><dataTm>20210305142632</dataTm><fullSectDist>0.763</fullSectDist><gpsX>127.021537</gpsX><gpsY>37.510898</gpsY><isFullFlag>0</isFullFlag><islastyn>0</islastyn><isrunyn>1</isrunyn><lastStTm>9357</lastStTm><lastStnId>121000014</lastStnId><nextStId>121000021</nextStId><nextStTm>621</nextStTm><plainNo>서울71사1885</plainNo><posX>201903.89752381505</posX><posY>445719.69520329265</posY><rtDist>55.7</rtDist><sectDist>0.545</sectDist><sectOrd>24</sectOrd><sectionId>121608046</sectionId><stopFlag>0</stopFlag><trnstnid>118000008</trnstnid><vehId>123060591</vehId></itemList><itemList><busType>0</busType><congetion>3</congetion><dataTm>20210305142645</dataTm><fullSectDist>0.894</fullSectDist><gpsX>127.001645</gpsX><gpsY>37.505229</gpsY><isFullFlag>0</isFullFlag><islastyn>0</islastyn><isrunyn>1</isrunyn><lastStTm>8960</lastStTm><lastStnId>121000019</lastStnId><nextStId>121000021</nextStId><nextStTm>190</nextStTm><plainNo>서울71사1874</plainNo><posX>200145.43103823788</posX><posY>445090.35954404715</posY><rtDist>55.7</rtDist><sectDist>0.343</sectDist><sectOrd>27</sectOrd><sectionId>121608164</sectionId><stopFlag>0</stopFlag><trnstnid>118000008</trnstnid><vehId>123060594</vehId></itemList><itemList><busType>1</busType><congetion>3</congetion><dataTm>20210305142636</dataTm><fullSectDist>1.373</fullSectDist><gpsX>126.987703</gpsX><gpsY>37.501556</gpsY><isFullFlag>0</isFullFlag><islastyn>0</islastyn><isrunyn>1</isrunyn><lastStTm>8620</lastStTm><lastStnId>121000023</lastStnId><nextStId>119000012</nextStId><nextStTm>770</nextStTm><plainNo>서울74사1658</plainNo><posX>198912.7944705996</posX><posY>444682.8173008519</posY><rtDist>55.7</rtDist><sectDist>0.447</sectDist><sectOrd>29</sectOrd><sectionId>119605395</sectionId><stopFlag>0</stopFlag><trnstnid>118000008</trnstnid><vehId>123060641</vehId></itemList><itemList><busType>0</busType><congetion>3</congetion><dataTm>20210305142644</dataTm><fullSectDist>0.599</fullSectDist><gpsX>126.964775</gpsX><gpsY>37.508024</gpsY><isFullFlag>0</isFullFlag><islastyn>0</islastyn><isrunyn>1</isrunyn><lastStTm>8200</lastStTm><lastStnId>119000034</lastStnId><nextStId>119000012</nextStId><nextStTm>338</nextStTm><plainNo>서울71사1821</plainNo><posX>196885.9468631617</posX><posY>445401.1170364423</posY><rtDist>55.7</rtDist><sectDist>0.185</sectDist><sectOrd>33</sectOrd><sectionId>119600624</sectionId><stopFlag>0</stopFlag><trnstnid>118000008</trnstnid><vehId>123060234</vehId></itemList><itemList><busType>0</busType><congetion>3</congetion><dataTm>20210305142642</dataTm><fullSectDist>0.518</fullSectDist><gpsX>126.944744</gpsX><gpsY>37.513891</gpsY><isFullFlag>0</isFullFlag><islastyn>0</islastyn><isrunyn>1</isrunyn><lastStTm>7864</lastStTm><lastStnId>119000012</lastStnId><nextStId>119000010</nextStId><nextStTm>122</nextStTm><plainNo>서울71사1884</plainNo><posX>195115.49592925725</posX><posY>446053.06094114855</posY><rtDist>55.7</rtDist><sectDist>0.03</sectDist><sectOrd>36</sectOrd><sectionId>119600632</sectionId><stopFlag>1</stopFlag><trnstnid>118000008</trnstnid><vehId>123060257</vehId></itemList><itemList><busType>1</busType><congetion>3</congetion><dataTm>20210305142632</dataTm><fullSectDist>0.733</fullSectDist><gpsX>126.92643</gpsX><gpsY>37.5128</gpsY><isFullFlag>0</isFullFlag><islastyn>0</islastyn><isrunyn>1</isrunyn><lastStTm>7637</lastStTm><lastStnId>119000008</lastStnId><nextStId>118000054</nextStId><nextStTm>1014</nextStTm><plainNo>서울75사2683</plainNo><posX>193496.48532517784</posX><posY>445933.09504755074</posY><rtDist>55.7</rtDist><sectDist>0.598</sectDist><sectOrd>38</sectOrd><sectionId>119604660</sectionId><stopFlag>0</stopFlag><trnstnid>118000008</trnstnid><vehId>123060219</vehId></itemList><itemList><busType>0</busType><congetion>3</congetion><dataTm>20210305142645</dataTm><fullSectDist>0.4</fullSectDist><gpsX>126.918839</gpsX><gpsY>37.514299</gpsY><isFullFlag>0</isFullFlag><islastyn>0</islastyn><isrunyn>1</isrunyn><lastStTm>7365</lastStTm><lastStnId>118000142</lastStnId><nextStId>118000054</nextStId><nextStTm>754</nextStTm><plainNo>서울74사7876</plainNo><posX>192825.591876504</posX><posY>446099.99899147917</posY><rtDist>55.7</rtDist><sectDist>0.159</sectDist><sectOrd>40</sectOrd><sectionId>118608200</sectionId><stopFlag>0</stopFlag><trnstnid>118000008</trnstnid><vehId>123060110</vehId></itemList><itemList><busType>0</busType><congetion>3</congetion><dataTm>20210305142628</dataTm><fullSectDist>1.437</fullSectDist><gpsX>126.915232</gpsX><gpsY>37.520031</gpsY><isFullFlag>0</isFullFlag><islastyn>0</islastyn><isrunyn>1</isrunyn><lastStTm>7267</lastStTm><lastStnId>118000140</lastStnId><nextStId>118000054</nextStId><nextStTm>658</nextStTm><plainNo>서울74사7929</plainNo><posX>192507.3161350409</posX><posY>446736.3917943053</posY><rtDist>55.7</rtDist><sectDist>1.048</sectDist><sectOrd>41</sectOrd><sectionId>118608053</sectionId><stopFlag>0</stopFlag><trnstnid>118000008</trnstnid><vehId>123060297</vehId></itemList><itemList><busType>1</busType><congetion>3</congetion><dataTm>20210305142635</dataTm><fullSectDist>0.62</fullSectDist><gpsX>126.921898</gpsX><gpsY>37.523966</gpsY><isFullFlag>0</isFullFlag><islastyn>0</islastyn><isrunyn>1</isrunyn><lastStTm>6975</lastStTm><lastStnId>118000076</lastStnId><nextStId>118000054</nextStId><nextStTm>355</nextStTm><plainNo>서울74사8124</plainNo><posX>193096.88971159712</posX><posY>447172.5707420609</posY><rtDist>55.7</rtDist><sectDist>0.363</sectDist><sectOrd>42</sectOrd><sectionId>118603077</sectionId><stopFlag>0</stopFlag><trnstnid>118000008</trnstnid><vehId>123060127</vehId></itemList><itemList><busType>0</busType><congetion>3</congetion><dataTm>20210305142636</dataTm><fullSectDist>0.328</fullSectDist><gpsX>126.930345</gpsX><gpsY>37.525612</gpsY><isFullFlag>0</isFullFlag><islastyn>0</islastyn><isrunyn>1</isrunyn><lastStTm>6483</lastStTm><lastStnId>118000075</lastStnId><nextStId>119000013</nextStId><nextStTm>1315</nextStTm><plainNo>서울71사1888</plainNo><posX>193843.62020616347</posX><posY>447354.6502973102</posY><rtDist>55.7</rtDist><sectDist>0.089</sectDist><sectOrd>46</sectOrd><sectionId>118608211</sectionId><stopFlag>1</stopFlag><trnstnid>118000008</trnstnid><vehId>123060547</vehId></itemList><itemList><busType>0</busType><congetion>3</congetion><dataTm>20210305142638</dataTm><fullSectDist>0.473</fullSectDist><gpsX>126.923922</gpsX><gpsY>37.525689</gpsY><isFullFlag>0</isFullFlag><islastyn>0</islastyn><isrunyn>1</isrunyn><lastStTm>6233</lastStTm><lastStnId>118000008</lastStnId><nextStId>119000013</nextStId><nextStTm>1055</nextStTm><plainNo>서울71사1876</plainNo><posX>193275.93731471183</posX><posY>447363.6351846326</posY><rtDist>55.7</rtDist><sectDist>0.159</sectDist><sectOrd>48</sectOrd><sectionId>118607347</sectionId><stopFlag>0</stopFlag><trnstnid>118000008</trnstnid><vehId>123060548</vehId></itemList><itemList><busType>1</busType><congetion>3</congetion><dataTm>20210305142642</dataTm><fullSectDist>1.148</fullSectDist><gpsX>126.912714</gpsX><gpsY>37.518668</gpsY><isFullFlag>0</isFullFlag><islastyn>0</islastyn><isrunyn>1</isrunyn><lastStTm>6107</lastStTm><lastStnId>118000067</lastStnId><nextStId>119000013</nextStId><nextStTm>939</nextStTm><plainNo>서울71사1873</plainNo><posX>192284.60852869856</posX><posY>446585.3356348751</posY><rtDist>55.7</rtDist><sectDist>0.984</sectDist><sectOrd>49</sectOrd><sectionId>118608214</sectionId><stopFlag>0</stopFlag><trnstnid>118000008</trnstnid><vehId>123060220</vehId></itemList><itemList><busType>0</busType><congetion>3</congetion><dataTm>20210305142641</dataTm><fullSectDist>0.491</fullSectDist><gpsX>126.917679</gpsX><gpsY>37.515084</gpsY><isFullFlag>0</isFullFlag><islastyn>0</islastyn><isrunyn>1</isrunyn><lastStTm>5819</lastStTm><lastStnId>118000563</lastStnId><nextStId>119000013</nextStId><nextStTm>644</nextStTm><plainNo>서울71사1887</plainNo><posX>192723.12728674774</posX><posY>446187.2038171552</posY><rtDist>55.7</rtDist><sectDist>0.254</sectDist><sectOrd>51</sectOrd><sectionId>118608223</sectionId><stopFlag>0</stopFlag><trnstnid>118000008</trnstnid><vehId>123060388</vehId></itemList><itemList><busType>0</busType><congetion>3</congetion><dataTm>20210305142645</dataTm><fullSectDist>0.729</fullSectDist><gpsX>126.949347</gpsX><gpsY>37.512747</gpsY><isFullFlag>0</isFullFlag><islastyn>0</islastyn><isrunyn>1</isrunyn><lastStTm>5178</lastStTm><lastStnId>119000013</lastStnId><nextStId>119000293</nextStId><nextStTm>135</nextStTm><plainNo>서울70사9692</plainNo><posX>195522.3222869553</posX><posY>445925.8760524858</posY><rtDist>55.7</rtDist><sectDist>0.13</sectDist><sectOrd>57</sectOrd><sectionId>119605407</sectionId><stopFlag>0</stopFlag><trnstnid>118000008</trnstnid><vehId>123060308</vehId></itemList><itemList><busType>1</busType><congetion>3</congetion><dataTm>20210305142642</dataTm><fullSectDist>0.564</fullSectDist><gpsX>126.963842</gpsX><gpsY>37.508674</gpsY><isFullFlag>0</isFullFlag><islastyn>0</islastyn><isrunyn>1</isrunyn><lastStTm>4958</lastStTm><lastStnId>119000030</lastStnId><nextStId>119000033</nextStId><nextStTm>102</nextStTm><plainNo>서울74사2135</plainNo><posX>196803.4930572506</posX><posY>445473.28228067094</posY><rtDist>55.7</rtDist><sectDist>0.409</sectDist><sectOrd>59</sectOrd><sectionId>119605400</sectionId><stopFlag>0</stopFlag><trnstnid>118000008</trnstnid><vehId>123060720</vehId></itemList><itemList><busType>0</busType><congetion>3</congetion><dataTm>20210305142531</dataTm><fullSectDist>0.662</fullSectDist><gpsX>126.971124</gpsX><gpsY>37.505498</gpsY><isFullFlag>0</isFullFlag><islastyn>0</islastyn><isrunyn>1</isrunyn><lastStTm>4735</lastStTm><lastStnId>119000039</lastStnId><nextStId>121000011</nextStId><nextStTm>1493</nextStTm><plainNo>서울71사1872</plainNo><posX>197447.14186140004</posX><posY>445120.6022812524</posY><rtDist>55.7</rtDist><sectDist>0</sectDist><sectOrd>62</sectOrd><sectionId>119601762</sectionId><stopFlag>0</stopFlag><trnstnid>118000008</trnstnid><vehId>123060595</vehId></itemList><itemList><busType>1</busType><congetion>3</congetion><dataTm>20210305142632</dataTm><fullSectDist>1.028</fullSectDist><gpsX>126.984627</gpsX><gpsY>37.499776</gpsY><isFullFlag>0</isFullFlag><islastyn>0</islastyn><isrunyn>1</isrunyn><lastStTm>4621</lastStTm><lastStnId>119000040</lastStnId><nextStId>121000011</nextStId><nextStTm>1382</nextStTm><plainNo>서울71사1818</plainNo><posX>198640.8060992998</posX><posY>444485.3214686583</posY><rtDist>55.7</rtDist><sectDist>0.804</sectDist><sectOrd>63</sectOrd><sectionId>121608175</sectionId><stopFlag>0</stopFlag><trnstnid>118000008</trnstnid><vehId>123060169</vehId></itemList><itemList><busType>0</busType><congetion>3</congetion><dataTm>20210305142635</dataTm><fullSectDist>1.638</fullSectDist><gpsX>127.000447</gpsX><gpsY>37.504642</gpsY><isFullFlag>0</isFullFlag><islastyn>0</islastyn><isrunyn>1</isrunyn><lastStTm>4305</lastStTm><lastStnId>121000022</lastStnId><nextStId>121000011</nextStId><nextStTm>1065</nextStTm><plainNo>서울74사7827</plainNo><posX>200039.5186523367</posX><posY>445025.215893188</posY><rtDist>55.7</rtDist><sectDist>1.33</sectDist><sectOrd>65</sectOrd><sectionId>121608080</sectionId><stopFlag>0</stopFlag><trnstnid>118000008</trnstnid><vehId>123060259</vehId></itemList><itemList><busType>0</busType><congetion>3</congetion><dataTm>20210305142643</dataTm><fullSectDist>0.813</fullSectDist><gpsX>127.011659</gpsX><gpsY>37.508176</gpsY><isFullFlag>0</isFullFlag><islastyn>0</islastyn><isrunyn>1</isrunyn><lastStTm>3927</lastStTm><lastStnId>121000018</lastStnId><nextStId>121000011</nextStId><nextStTm>686</nextStTm><plainNo>서울71사1879</plainNo><posX>201030.70749100044</posX><posY>445417.4662936437</posY><rtDist>55.7</rtDist><sectDist>0.19</sectDist><sectOrd>67</sectOrd><sectionId>121608088</sectionId><stopFlag>0</stopFlag><trnstnid>118000008</trnstnid><vehId>123060222</vehId></itemList><itemList><busType>1</busType><congetion>3</congetion><dataTm>20210305142522</dataTm><fullSectDist>0.61</fullSectDist><gpsX>127.021124</gpsX><gpsY>37.511122</gpsY><isFullFlag>0</isFullFlag><islastyn>0</islastyn><isrunyn>1</isrunyn><lastStTm>3666</lastStTm><lastStnId>121000114</lastStnId><nextStId>121000011</nextStId><nextStTm>426</nextStTm><plainNo>서울74사7885</plainNo><posX>201867.38223015744</posX><posY>445744.54540960584</posY><rtDist>55.7</rtDist><sectDist>0.247</sectDist><sectOrd>68</sectOrd><sectionId>121600010</sectionId><stopFlag>0</stopFlag><trnstnid>118000008</trnstnid><vehId>123060717</vehId></itemList><itemList><busType>0</busType><congetion>3</congetion><dataTm>20210305142631</dataTm><fullSectDist>0.614</fullSectDist><gpsX>127.027356</gpsX><gpsY>37.498138</gpsY><isFullFlag>0</isFullFlag><islastyn>0</islastyn><isrunyn>1</isrunyn><lastStTm>3235</lastStTm><lastStnId>121000011</lastStnId><nextStId>122000156</nextStId><nextStTm>863</nextStTm><plainNo>서울71사1892</plainNo><posX>202418.71598394748</posX><posY>444303.7846758687</posY><rtDist>55.7</rtDist><sectDist>0.464</sectDist><sectOrd>70</sectOrd><sectionId>122606273</sectionId><stopFlag>0</stopFlag><trnstnid>118000008</trnstnid><vehId>123060268</vehId></itemList><itemList><busType>0</busType><congetion>3</congetion><dataTm>20210305142639</dataTm><fullSectDist>0.446</fullSectDist><gpsX>127.029994</gpsX><gpsY>37.498554</gpsY><isFullFlag>0</isFullFlag><islastyn>0</islastyn><isrunyn>1</isrunyn><lastStTm>2965</lastStTm><lastStnId>122000184</lastStnId><nextStId>122000156</nextStId><nextStTm>593</nextStTm><plainNo>서울74사7871</plainNo><posX>202651.94344596032</posX><posY>444350.0213899929</posY><rtDist>55.7</rtDist><sectDist>0.119</sectDist><sectOrd>71</sectOrd><sectionId>122600745</sectionId><stopFlag>0</stopFlag><trnstnid>118000008</trnstnid><vehId>123060113</vehId></itemList><itemList><busType>1</busType><congetion>3</congetion><dataTm>20210305142647</dataTm><fullSectDist>0.595</fullSectDist><gpsX>127.045465</gpsX><gpsY>37.503302</gpsY><isFullFlag>0</isFullFlag><islastyn>0</islastyn><isrunyn>1</isrunyn><lastStTm>2527</lastStTm><lastStnId>122000202</lastStnId><nextStId>122000156</nextStId><nextStTm>158</nextStTm><plainNo>서울75사3454</plainNo><posX>204019.5697791502</posX><posY>444877.4799053483</posY><rtDist>55.7</rtDist><sectDist>0.187</sectDist><sectOrd>74</sectOrd><sectionId>122603864</sectionId><stopFlag>0</stopFlag><trnstnid>118000008</trnstnid><vehId>123060084</vehId></itemList><itemList><busType>0</busType><congetion>3</congetion><dataTm>20210305142635</dataTm><fullSectDist>0.426</fullSectDist><gpsX>127.061653</gpsX><gpsY>37.508313</gpsY><isFullFlag>0</isFullFlag><islastyn>0</islastyn><isrunyn>1</isrunyn><lastStTm>2107</lastStTm><lastStnId>122000148</lastStnId><nextStId>123000069</nextStId><nextStTm>472</nextStTm><plainNo>서울71사1820</plainNo><posX>205450.38990411983</posX><posY>445434.3915545931</posY><rtDist>55.7</rtDist><sectDist>0.041</sectDist><sectOrd>77</sectOrd><sectionId>122606553</sectionId><stopFlag>1</stopFlag><trnstnid>118000008</trnstnid><vehId>123060715</vehId></itemList><itemList><busType>0</busType><congetion>3</congetion><dataTm>20210305142632</dataTm><fullSectDist>0.426</fullSectDist><gpsX>127.062529</gpsX><gpsY>37.508595</gpsY><isFullFlag>0</isFullFlag><islastyn>0</islastyn><isrunyn>1</isrunyn><lastStTm>2099</lastStTm><lastStnId>122000148</lastStnId><nextStId>123000069</nextStId><nextStTm>473</nextStTm><plainNo>서울71사1889</plainNo><posX>205527.8112774163</posX><posY>445465.7376985648</posY><rtDist>55.7</rtDist><sectDist>0.12</sectDist><sectOrd>77</sectOrd><sectionId>122606553</sectionId><stopFlag>0</stopFlag><trnstnid>118000008</trnstnid><vehId>123060163</vehId></itemList><itemList><busType>1</busType><congetion>3</congetion><dataTm>20210305142644</dataTm><fullSectDist>0.462</fullSectDist><gpsX>127.079555</gpsX><gpsY>37.511613</gpsY><isFullFlag>0</isFullFlag><islastyn>0</islastyn><isrunyn>1</isrunyn><lastStTm>1716</lastStTm><lastStnId>123000068</lastStnId><nextStId>123000069</nextStId><nextStTm>82</nextStTm><plainNo>서울75사3205</plainNo><posX>207032.69417315203</posX><posY>445801.7977324175</posY><rtDist>55.7</rtDist><sectDist>0</sectDist><sectOrd>80</sectOrd><sectionId>123604363</sectionId><stopFlag>1</stopFlag><trnstnid>118000008</trnstnid><vehId>123060307</vehId></itemList><itemList><busType>0</busType><congetion>3</congetion><dataTm>20210305142629</dataTm><fullSectDist>0.594</fullSectDist><gpsX>127.084326</gpsX><gpsY>37.511645</gpsY><isFullFlag>0</isFullFlag><islastyn>0</islastyn><isrunyn>1</isrunyn><lastStTm>1626</lastStTm><lastStnId>123000069</lastStnId><nextStId>123000057</nextStId><nextStTm>303</nextStTm><plainNo>서울71사1880</plainNo><posX>207454.4493972266</posX><posY>445805.7162294071</posY><rtDist>55.7</rtDist><sectDist>0.117</sectDist><sectOrd>81</sectOrd><sectionId>123604517</sectionId><stopFlag>1</stopFlag><trnstnid>118000008</trnstnid><vehId>123060593</vehId></itemList><itemList><busType>0</busType><congetion>3</congetion><dataTm>20210305142632</dataTm><fullSectDist>0.476</fullSectDist><gpsX>127.105252</gpsX><gpsY>37.507105</gpsY><isFullFlag>0</isFullFlag><islastyn>0</islastyn><isrunyn>1</isrunyn><lastStTm>1109</lastStTm><lastStnId>123000004</lastStnId><nextStId>123000010</nextStId><nextStTm>394</nextStTm><plainNo>서울71사1890</plainNo><posX>209304.87953782058</posX><posY>445303.75151730375</posY><rtDist>55.7</rtDist><sectDist>0</sectDist><sectOrd>84</sectOrd><sectionId>123604445</sectionId><stopFlag>1</stopFlag><trnstnid>118000008</trnstnid><vehId>123060164</vehId></itemList><itemList><busType>1</busType><congetion>3</congetion><dataTm>20210305142549</dataTm><fullSectDist>0.717</fullSectDist><gpsX>127.120775</gpsX><gpsY>37.48901</gpsY><isFullFlag>0</isFullFlag><islastyn>0</islastyn><isrunyn>1</isrunyn><lastStTm>563</lastStTm><lastStnId>123000012</lastStnId><nextStId>123000010</nextStId><nextStTm>105</nextStTm><plainNo>서울75사1156</plainNo><posX>210679.77890444727</posX><posY>443297.3035735893</posY><rtDist>55.7</rtDist><sectDist>0</sectDist><sectOrd>88</sectOrd><sectionId>123603243</sectionId><stopFlag>1</stopFlag><trnstnid>118000008</trnstnid><vehId>123060309</vehId></itemList><itemList><busType>0</busType><congetion>3</congetion><dataTm>20210305142632</dataTm><fullSectDist>0.482</fullSectDist><gpsX>127.123836</gpsX><gpsY>37.482803</gpsY><isFullFlag>0</isFullFlag><islastyn>0</islastyn><isrunyn>1</isrunyn><lastStTm>438</lastStTm><lastStnId>123000014</lastStnId><nextStId>123000010</nextStId><nextStTm>105</nextStTm><plainNo>서울74사4072</plainNo><posX>210951.3603054734</posX><posY>442608.83362361975</posY><rtDist>55.7</rtDist><sectDist>0.064</sectDist><sectOrd>89</sectOrd><sectionId>123604614</sectionId><stopFlag>1</stopFlag><trnstnid>118000008</trnstnid><vehId>123060372</vehId></itemList></msgBody></ServiceResult>\n"
     ]
    }
   ],
   "source": [
    "from urllib.request import urlopen\n",
    "key ='fWk84AMg02ZB1urJXgQMH%2BX83s0OWsS6w2EL6DeHaB4dcm0UpTxQ2IdYZQduk%2BL4Ebm81maZr08z%2F2ZNCb8qAA%3D%3D'\n",
    "\n",
    "url = 'http://ws.bus.go.kr/api/rest/buspos/getBusPosByRtid'\n",
    "queryParams = '?ServiceKey='+key+'&busRouteId=100100057'\n",
    "\n",
    "\n",
    "request=url+queryParams\n",
    "response_body=urlopen(request).read().decode('utf-8')\n",
    "print(response_body)"
   ]
  },
  {
   "cell_type": "code",
   "execution_count": 36,
   "metadata": {},
   "outputs": [
    {
     "output_type": "stream",
     "name": "stdout",
     "text": [
      "[360번 버스의 운행 위치 ]\n360번 버스 91대 운행중...\n복정역환승센터3번승강장 37.4699297672 127.1275897549\n장지역.가든파이브 37.4790433896 127.1261237834\n문정법조단지.건영아파트 37.482125 127.124748\n문정로데오거리입구 37.4883648963 127.1213627915\n가락시장.가락시장역 37.4943822012 127.1171609467\n송파역 37.5002084826 127.1118384337\n석촌역 37.5034082968 127.1089442853\n석촌호수.한솔병원 37.5068001738 127.1058262006\n잠실역.롯데월드 37.5128993133 127.0979457604\n잠실5단지 37.5122132454 127.0939144028\n잠실새내역.잠실2동주민센터 37.5117722886 127.0872805398\n잠실엘스아파트앞 37.5118706155 127.0833904794\n종합운동장사거리 37.512009235 127.0796916235\n잠실종합운동장 37.5111175337 127.0720732937\n강남경찰서면허시험장 37.5099462683 127.0657996068\n한국무역센터.삼성역 37.5086670057 127.0617005963\n포스코건너편 37.5066831874 127.0554269279\n선릉역 37.505143 127.050205\n서울상록회관.한국기술센터 37.503232 127.044057\n아가방빌딩.하나은행 37.5015409767 127.0386328674\n역삼역 37.5004418394 127.0350786317\n강남역12번출구 37.4988294041 127.0298390986\n지하철2호선강남역 37.500785 127.02637\n논현역 37.506367 127.023728\n논현사거리.논현역5번출구 37.5106480618 127.0192203041\n반포역 37.5083418804 127.0121292217\n고속터미널 37.5062923789 127.0052834138\n신반포역.세화여중고 37.5034152049 126.9958263651\n구반포역.세화고등학교 37.5019451598 126.9900264523\n동작역.국립현충원 37.503188597 126.9766525988\n흑석동한강현대아파트 37.505867 126.971748\n비계 37.5064370015 126.9685844969\n흑석역.명수대현대아파트 37.5075850724 126.9655921789\n흑석동효사정앞 37.5115728985 126.9612375315\n노들역 37.512734203 126.9509621786\n노량진역 37.5138325876 126.9447114504\n노량진수산시장.CTS기독교TV 37.5134800797 126.9388655754\n현대아파트.유한양행 37.5132368488 126.9323737344\n대방역 37.5130048235 126.9242224384\n신길새마을금고 37.5140830291 126.9195131812\n신길역 37.516815 126.916956\n전경련회관 37.5218906273 126.9188836862\n여의도환승센터 37.5254720914 126.9241508208\n파크원타워.LG트윈타워 37.5269560563 126.9270250084\n여의나루역 37.5273043795 126.9316210834\n여의도공작아파트 37.5259920176 126.9309977447\n현대백화점 37.5250045778 126.9281836353\n여의도환승센터 37.5260593379 126.9246697181\n여의도공원 37.523605 126.920262\n신길역 37.5183978581 126.9148883495\n신길역1호선 37.5167591036 126.9166368877\n신길새마을금고 37.5136409433 126.9200351486\n대방역 37.512907 126.923495\n현대아파트 37.513174 126.931437\n노량진수산시장.CTS기독교TV 37.513423 126.938456\n노량진역 37.513733 126.943811\n노들역 37.512825 126.949256\n동작실버센터입구 37.5130085949 126.9567458811\n흑석동효사정앞 37.511297 126.96101\n흑석역.명수대현대아파트 37.5074984059 126.9650447528\n비계 37.5063016864 126.9680257853\n흑석동한강현대아파트 37.5054978005 126.9711242049\n동작역.국립현충원 37.5024209111 126.9769231591\n구반포역.세화고등학교 37.5016386844 126.9888988467\n신반포역.세화여중고 37.5029429707 126.9944510234\n고속터미널 37.5057382586 127.003792583\n반포역 37.5079040519 127.0110398687\n논현사거리.논현역4번출구 37.510420605 127.0196823939\n논현역 37.5072264964 127.0230319441\n지하철2호선강남역 37.501817 127.025438\n강남역.역삼세무서 37.4981357274 127.0291477897\n역삼역.포스코타워역삼 37.4995717499 127.0337900061\n한서병원 37.501137 127.038818\n한국자산신탁.르네상스호텔 37.502783 127.044247\n선릉역 37.5047611955 127.050462265\n포스코빌딩 37.506043 127.054803\n한국무역센터.삼성역 37.5081065399 127.0616639386\n강남경찰서.강남운전면허시험장 37.5095036021 127.0660087348\n잠실종합운동장 37.5104187252 127.0728158016\n종합운동장사거리 37.5116128425 127.0795554593\n잠실새내역4번출구 37.5114066648 127.0844951326\n잠실트리지움아파트앞 37.5115116112 127.0912020656\n잠실역.롯데월드 37.51241161 127.0981962498\n석촌호수.한솔병원 37.507105259 127.1052520216\n석촌역 37.5036628588 127.108453771\n송파역 37.5005992316 127.111232788\n가락시장.가락시장역 37.4947387984 127.1164919903\n문정로데오거리입구 37.48901 127.120775\n문정법조단지.건영아파트 37.48309 127.123873\n장지역.가든파이브 37.479907 127.125472\n복정역 37.470728 127.128144\n"
     ]
    }
   ],
   "source": [
    "url2 = 'http://ws.bus.go.kr/api/rest/busRouteInfo/getStaionByRoute?ServiceKey='+key+'&busRouteId=100100057'\n",
    "\n",
    "savename = 'C:/chj/data/buspos.xml'\n",
    "req.urlretrieve(url2, savename)\n",
    "\n",
    "xml = open(savename, 'r', encoding='utf-8').read()\n",
    "soup = BeautifulSoup(xml, 'xml')\n",
    "\n",
    "busPos = []\n",
    "for itemList in soup.find_all('itemList'):\n",
    "    stationNm=itemList.find('stationNm').string\n",
    "    gpsY = itemList.find('gpsY').string\n",
    "    gpsX = itemList.find('gpsX').string\n",
    "\n",
    "    busPos.append((stationNm, gpsY, gpsX))\n",
    "    \n",
    "\n",
    "print('[' +busNum+'번 버스의 운행 위치 ]')\n",
    "if len(busPos) != 0 :\n",
    "    print(busNum + '번 버스 ' + str(len(busPos)) + '대 운행중...')\n",
    "    for stationNm,lat,lng in busPos :\n",
    "        print(stationNm,lat,lng)\n",
    "else :\n",
    "    print('현재 운행중인 ' + busNum + '번 버스가 없어요...')\n"
   ]
  },
  {
   "cell_type": "code",
   "execution_count": null,
   "metadata": {},
   "outputs": [],
   "source": []
  }
 ]
}