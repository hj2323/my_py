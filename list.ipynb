{
 "cells": [
  {
   "cell_type": "code",
   "execution_count": 1,
   "metadata": {},
   "outputs": [
    {
     "name": "stdout",
     "output_type": "stream",
     "text": [
      "['red', 'green', 'blue']\n",
      "red\n",
      "3\n",
      "<class 'list'>\n"
     ]
    }
   ],
   "source": [
    "colors=['red','green','blue']\n",
    "print(colors)\n",
    "print(colors[0])\n",
    "print(len(colors))\n",
    "print(type(colors))"
   ]
  },
  {
   "cell_type": "code",
   "execution_count": 2,
   "metadata": {},
   "outputs": [],
   "source": [
    "cities=['서울','부산','인천','대구','대전','광주','울산','수원']"
   ]
  },
  {
   "cell_type": "code",
   "execution_count": 3,
   "metadata": {},
   "outputs": [
    {
     "name": "stdout",
     "output_type": "stream",
     "text": [
      "['서울', '부산', '인천', '대구']\n",
      "['서울', '인천']\n",
      "['서울', '인천', '대전', '울산']\n",
      "['서울', '부산', '인천', '대구', '대전']\n",
      "['광주', '울산', '수원']\n"
     ]
    }
   ],
   "source": [
    "#인덱싱과 슬라이싱\n",
    "print(cities[0:4:1])\n",
    "print(cities[0:4:2])\n",
    "print(cities[0::2])\n",
    "print(cities[:5])\n",
    "print(cities[5:])"
   ]
  },
  {
   "cell_type": "code",
   "execution_count": 4,
   "metadata": {},
   "outputs": [
    {
     "data": {
      "text/plain": [
       "['서울', '부산', '인천', '대구', '대전', '광주']"
      ]
     },
     "execution_count": 4,
     "metadata": {},
     "output_type": "execute_result"
    }
   ],
   "source": [
    "#리버스 인덱스\n",
    "cities[-8:-2]"
   ]
  },
  {
   "cell_type": "code",
   "execution_count": 5,
   "metadata": {},
   "outputs": [
    {
     "data": {
      "text/plain": [
       "['서울', '부산', '인천', '대구', '대전', '광주', '울산', '수원']"
      ]
     },
     "execution_count": 5,
     "metadata": {},
     "output_type": "execute_result"
    }
   ],
   "source": [
    "#인덱스 범위를 넘어가는 슬라이싱\n",
    "cities[-50:50]"
   ]
  },
  {
   "cell_type": "code",
   "execution_count": 6,
   "metadata": {},
   "outputs": [
    {
     "data": {
      "text/plain": [
       "['수원', '울산', '광주', '대전', '대구', '인천', '부산', '서울']"
      ]
     },
     "execution_count": 6,
     "metadata": {},
     "output_type": "execute_result"
    }
   ],
   "source": [
    "#증가값 - 역으로 슬라이싱\n",
    "cities[::-1]"
   ]
  },
  {
   "cell_type": "code",
   "execution_count": 7,
   "metadata": {},
   "outputs": [
    {
     "data": {
      "text/plain": [
       "['red', 'blue', 'green', 'orange', 'black', 'white']"
      ]
     },
     "execution_count": 7,
     "metadata": {},
     "output_type": "execute_result"
    }
   ],
   "source": [
    "#리스트의 연산\n",
    "color1=['red','blue','green']\n",
    "color2=['orange','black','white']\n",
    "color=color1+color2\n",
    "color"
   ]
  },
  {
   "cell_type": "code",
   "execution_count": 8,
   "metadata": {},
   "outputs": [
    {
     "data": {
      "text/plain": [
       "['red', 'blue', 'green', 'red', 'blue', 'green']"
      ]
     },
     "execution_count": 8,
     "metadata": {},
     "output_type": "execute_result"
    }
   ],
   "source": [
    "color1*2"
   ]
  },
  {
   "cell_type": "code",
   "execution_count": 9,
   "metadata": {},
   "outputs": [
    {
     "data": {
      "text/plain": [
       "True"
      ]
     },
     "execution_count": 9,
     "metadata": {},
     "output_type": "execute_result"
    }
   ],
   "source": [
    "'red' in color1"
   ]
  },
  {
   "cell_type": "code",
   "execution_count": 10,
   "metadata": {},
   "outputs": [
    {
     "data": {
      "text/plain": [
       "False"
      ]
     },
     "execution_count": 10,
     "metadata": {},
     "output_type": "execute_result"
    }
   ],
   "source": [
    "'red' in color2"
   ]
  },
  {
   "cell_type": "code",
   "execution_count": 11,
   "metadata": {},
   "outputs": [
    {
     "name": "stdout",
     "output_type": "stream",
     "text": [
      "['red', 'blue', 'green']\n",
      "['red', 'blue', 'green', 'white']\n",
      "['red', 'blue', 'green', 'white', 'orange', 'pink']\n",
      "['red', 'purple', 'blue', 'green', 'white', 'orange', 'pink']\n",
      "['red', 'purple', 'green', 'white', 'orange', 'pink']\n",
      "['purple', 'green', 'white', 'orange', 'pink']\n"
     ]
    }
   ],
   "source": [
    "print(color1)\n",
    "color1.append('white')\n",
    "print(color1)\n",
    "color1.extend(['orange', 'pink'])\n",
    "print(color1)\n",
    "color1.insert(1, 'purple')\n",
    "print(color1)\n",
    "color1.remove('blue')\n",
    "print(color1)\n",
    "del color1[0]\n",
    "print(color1)"
   ]
  },
  {
   "cell_type": "code",
   "execution_count": 12,
   "metadata": {},
   "outputs": [
    {
     "name": "stdout",
     "output_type": "stream",
     "text": [
      "[1, 2, 3, 4]\n",
      "1 2 [3, 4]\n"
     ]
    }
   ],
   "source": [
    "t=[1,2,3,4]\n",
    "print(t)\n",
    "a,b,*c=t#첫번째는 a에 할당 두번째는 b에 할당 나머지는 c에 할당\n",
    "print(a,b,c)"
   ]
  },
  {
   "cell_type": "code",
   "execution_count": 13,
   "metadata": {},
   "outputs": [
    {
     "data": {
      "text/plain": [
       "[[49, 79, 20, 100, 89], [43, 59, 85, 30, 90], [49, 79, 48, 60, 100]]"
      ]
     },
     "execution_count": 13,
     "metadata": {},
     "output_type": "execute_result"
    }
   ],
   "source": [
    "#이차원 리스트\n",
    "kor_score=[49,79,20,100,89]\n",
    "math_score=[43,59,85,30,90]\n",
    "eng_score=[49,79,48,60,100]\n",
    "midterm_score=[kor_score, math_score, eng_score]\n",
    "midterm_score"
   ]
  },
  {
   "cell_type": "code",
   "execution_count": 14,
   "metadata": {},
   "outputs": [
    {
     "data": {
      "text/plain": [
       "[[49, 79, 20, 100, 89], [[1000], 59, 85, 30, 90], [49, 79, 48, 60, 100]]"
      ]
     },
     "execution_count": 14,
     "metadata": {},
     "output_type": "execute_result"
    }
   ],
   "source": [
    "math_score[0]=[1000]\n",
    "midterm_score"
   ]
  },
  {
   "cell_type": "code",
   "execution_count": 15,
   "metadata": {},
   "outputs": [],
   "source": [
    "#color=['red','green','blue']\n",
    "#a[0]=color\n",
    "#a"
   ]
  },
  {
   "cell_type": "code",
   "execution_count": 16,
   "metadata": {},
   "outputs": [
    {
     "name": "stdout",
     "output_type": "stream",
     "text": [
      "[5, 4, 3, 2, 1]\n"
     ]
    }
   ],
   "source": [
    "#메모리 저장 구조로 인한 리스트의 특징\n",
    "a=[5,4,3,2,1]\n",
    "b=a\n",
    "print(b)"
   ]
  },
  {
   "cell_type": "code",
   "execution_count": 17,
   "metadata": {},
   "outputs": [
    {
     "name": "stdout",
     "output_type": "stream",
     "text": [
      "[1, 2, 3, 4, 5]\n"
     ]
    }
   ],
   "source": [
    "a.sort()\n",
    "print(b)"
   ]
  },
  {
   "cell_type": "code",
   "execution_count": 18,
   "metadata": {},
   "outputs": [
    {
     "name": "stdout",
     "output_type": "stream",
     "text": [
      "age:1\n",
      "Welcome to the Club\n",
      "~\n",
      "End\n"
     ]
    }
   ],
   "source": [
    "#조건문\n",
    "age=int(input(\"age:\"))\n",
    "if age<30:\n",
    "    print(\"Welcome to the Club\")\n",
    "    print(\"~\")\n",
    "print('End')"
   ]
  },
  {
   "cell_type": "code",
   "execution_count": 19,
   "metadata": {},
   "outputs": [
    {
     "name": "stdout",
     "output_type": "stream",
     "text": [
      "age:1\n",
      "Welcome to the Club\n",
      "end\n"
     ]
    }
   ],
   "source": [
    "age=int(input(\"age:\"))\n",
    "if age<30:\n",
    "    print(\"Welcome to the Club\")\n",
    "else:\n",
    "    print(\"Oh No You are not accepted\")\n",
    "print('end')"
   ]
  },
  {
   "cell_type": "code",
   "execution_count": 20,
   "metadata": {},
   "outputs": [
    {
     "name": "stdout",
     "output_type": "stream",
     "text": [
      "True\n"
     ]
    }
   ],
   "source": [
    "#조건의 판단 True는 1로, False는 0으로 처리\n",
    "if 1:\n",
    "    print('True')\n",
    "else:\n",
    "    print('False')"
   ]
  },
  {
   "cell_type": "code",
   "execution_count": 21,
   "metadata": {},
   "outputs": [
    {
     "name": "stdout",
     "output_type": "stream",
     "text": [
      "a는 b보다 작고 b는 c보다 작습니다\n"
     ]
    }
   ],
   "source": [
    "#조건에 변수 여러개 가능\n",
    "a=10\n",
    "b=20\n",
    "c=30\n",
    "if a<b<c:\n",
    "    print('a는 b보다 작고 b는 c보다 작습니다')"
   ]
  },
  {
   "cell_type": "code",
   "execution_count": 22,
   "metadata": {},
   "outputs": [
    {
     "name": "stdout",
     "output_type": "stream",
     "text": [
      "점수1 : 1\n",
      "점수2 : 1\n",
      "불합격입니다\n"
     ]
    }
   ],
   "source": [
    "score1=int(input(\"점수1 : \"))\n",
    "score2=int(input(\"점수2 : \"))\n",
    "\n",
    "if score1>=70 or score2>=70:\n",
    "    print(\"합격입니다\")\n",
    "else:\n",
    "    print(\"불합격입니다\")\n",
    "    \n",
    "if not(score1<70):\n",
    "    print('합격')"
   ]
  },
  {
   "cell_type": "code",
   "execution_count": 23,
   "metadata": {},
   "outputs": [
    {
     "name": "stdout",
     "output_type": "stream",
     "text": [
      "Enter your score1\n",
      "F\n"
     ]
    }
   ],
   "source": [
    "#elif\n",
    "score=int(input(\"Enter your score\"))\n",
    "\n",
    "if score >= 90: grade='A'\n",
    "elif score >=80: grade='B'\n",
    "elif score >=70: grade='C'\n",
    "elif score >=60: grade='D'\n",
    "else: grade='F'\n",
    "\n",
    "print(grade)"
   ]
  },
  {
   "cell_type": "code",
   "execution_count": 24,
   "metadata": {},
   "outputs": [
    {
     "name": "stdout",
     "output_type": "stream",
     "text": [
      "당신이 태어난 연도를 입력하세요1\n",
      "학생이 아닙니다\n"
     ]
    }
   ],
   "source": [
    "#어떤 종류의 학생인지 맞히는 프로그램\n",
    "year=int(input(\"당신이 태어난 연도를 입력하세요\"))\n",
    "age = (2021-year + 1)\n",
    "\n",
    "if age >= 20 and age <= 26: student='대학생'\n",
    "elif age >= 17 and age < 20: student='고등학생'\n",
    "elif age >= 14 and age < 17: student='중학생'\n",
    "elif age >= 8 and age < 14: student='초등학생'\n",
    "else: student='학생이 아닙니다'\n",
    "\n",
    "print(student)"
   ]
  },
  {
   "cell_type": "code",
   "execution_count": 25,
   "metadata": {},
   "outputs": [
    {
     "name": "stdout",
     "output_type": "stream",
     "text": [
      "당신이 태어난 연도를 입력하세요1\n",
      "학생이 아닙니다\n"
     ]
    }
   ],
   "source": [
    "#어떤 종류의 학생인지 맞히는 프로그램 - 선생님 코드\n",
    "year=int(input(\"당신이 태어난 연도를 입력하세요\"))\n",
    "age = 2021-year + 1\n",
    "\n",
    "if  (age<8 or age>26): \n",
    "    print('학생이 아닙니다')\n",
    "elif age<14 : \n",
    "    print('초등학생 입니다')\n",
    "elif age<17 : \n",
    "    print('중학생 입니다')\n",
    "elif age<20 : \n",
    "    print('고등학생 입니다')\n",
    "else:\n",
    "    print('대학생 입니다')"
   ]
  },
  {
   "cell_type": "code",
   "execution_count": 26,
   "metadata": {},
   "outputs": [
    {
     "name": "stdout",
     "output_type": "stream",
     "text": [
      "hello\n",
      "hello\n",
      "hello\n",
      "hello\n",
      "hello\n"
     ]
    }
   ],
   "source": [
    "for i in [1,2,3,4,5]:\n",
    "    print('hello')"
   ]
  },
  {
   "cell_type": "code",
   "execution_count": 27,
   "metadata": {},
   "outputs": [
    {
     "name": "stdout",
     "output_type": "stream",
     "text": [
      "1\n",
      "2\n",
      "3\n",
      "4\n",
      "5\n"
     ]
    }
   ],
   "source": [
    "for i in [1,2,3,4,5]:\n",
    "    print(i)"
   ]
  },
  {
   "cell_type": "code",
   "execution_count": 28,
   "metadata": {},
   "outputs": [],
   "source": [
    "#for i in range(10,1.-1):\n",
    "#   print(i)"
   ]
  },
  {
   "cell_type": "code",
   "execution_count": 29,
   "metadata": {},
   "outputs": [
    {
     "name": "stdout",
     "output_type": "stream",
     "text": [
      "americano\n",
      "latte\n",
      "frappuccino\n"
     ]
    }
   ],
   "source": [
    "for i in ['americano', 'latte','frappuccino']:\n",
    "    print(i)"
   ]
  },
  {
   "cell_type": "code",
   "execution_count": 30,
   "metadata": {},
   "outputs": [
    {
     "name": "stdout",
     "output_type": "stream",
     "text": [
      "1\n",
      "2\n",
      "3\n",
      "4\n",
      "5\n",
      "6\n",
      "7\n",
      "8\n",
      "9\n"
     ]
    }
   ],
   "source": [
    "i=1\n",
    "while i<10:\n",
    "    print(i)\n",
    "    i+=1"
   ]
  },
  {
   "cell_type": "code",
   "execution_count": 31,
   "metadata": {},
   "outputs": [
    {
     "name": "stdout",
     "output_type": "stream",
     "text": [
      "0\n",
      "1\n",
      "2\n",
      "3\n",
      "4\n",
      "End of Program\n"
     ]
    }
   ],
   "source": [
    "for i in range(10):\n",
    "    if i==5:\n",
    "        break\n",
    "    print(i)\n",
    "print(\"End of Program\")"
   ]
  },
  {
   "cell_type": "code",
   "execution_count": 32,
   "metadata": {},
   "outputs": [
    {
     "name": "stdout",
     "output_type": "stream",
     "text": [
      "1\n",
      "2\n",
      "4\n",
      "5\n",
      "7\n",
      "8\n",
      "End of program\n"
     ]
    }
   ],
   "source": [
    "for i in range(10):\n",
    "    if i%3==0:\n",
    "        continue\n",
    "    print(i)\n",
    "print('End of program')"
   ]
  },
  {
   "cell_type": "code",
   "execution_count": 33,
   "metadata": {},
   "outputs": [
    {
     "name": "stdout",
     "output_type": "stream",
     "text": [
      "0\n",
      "1\n",
      "2\n",
      "3\n",
      "4\n",
      "5\n",
      "6\n",
      "7\n",
      "8\n",
      "9\n",
      "end of for\n"
     ]
    }
   ],
   "source": [
    "for i in range(10):\n",
    "    print(i)\n",
    "else:\n",
    "    print(\"end of for\")"
   ]
  },
  {
   "cell_type": "code",
   "execution_count": 35,
   "metadata": {},
   "outputs": [
    {
     "name": "stdout",
     "output_type": "stream",
     "text": [
      "구구단 몇 단을 계산할까?\n",
      "5\n",
      "구구단 5 단을 계산한다.\n",
      "5 x 1 = 5\n",
      "5 x 2 = 10\n",
      "5 x 3 = 15\n",
      "5 x 4 = 20\n",
      "5 x 5 = 25\n",
      "5 x 6 = 30\n",
      "5 x 7 = 35\n",
      "5 x 8 = 40\n",
      "5 x 9 = 45\n"
     ]
    }
   ],
   "source": [
    "#구구단 계산기\n",
    "print(\"구구단 몇 단을 계산할까?\")\n",
    "user_input=input()\n",
    "print(\"구구단\", user_input, \"단을 계산한다.\")\n",
    "int_input=int(user_input)\n",
    "for i in range(1, 10):\n",
    "    result=int_input*i\n",
    "    print(user_input, \"x\", i, \"=\", result)"
   ]
  },
  {
   "cell_type": "code",
   "execution_count": 36,
   "metadata": {},
   "outputs": [
    {
     "name": "stdout",
     "output_type": "stream",
     "text": [
      "uoy evol I\n"
     ]
    }
   ],
   "source": [
    "# 문자열 역순 출력\n",
    "# reverse_sentence: 입력된 문자열을 역순으로 출력하는 변수이다.\n",
    "sentence = \"I love you\"\n",
    "reverse_sentence=''\n",
    "for char in sentence:\n",
    "    reverse_sentence = char + reverse_sentence\n",
    "print(reverse_sentence)"
   ]
  }
 ],
 "metadata": {
  "kernelspec": {
   "display_name": "Python 3",
   "language": "python",
   "name": "python3"
  },
  "language_info": {
   "codemirror_mode": {
    "name": "ipython",
    "version": 3
   },
   "file_extension": ".py",
   "mimetype": "text/x-python",
   "name": "python",
   "nbconvert_exporter": "python",
   "pygments_lexer": "ipython3",
   "version": "3.8.5"
  }
 },
 "nbformat": 4,
 "nbformat_minor": 4
}
