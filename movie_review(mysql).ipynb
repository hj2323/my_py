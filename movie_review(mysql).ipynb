{
 "cells": [
  {
   "cell_type": "code",
   "execution_count": 1,
   "metadata": {},
   "outputs": [],
   "source": [
    "import requests\n",
    "from bs4 import BeautifulSoup\n",
    "\n",
    "movie_title=[]\n",
    "movie_point=[]\n",
    "movie_review=[]\n",
    "\n",
    "for n in range(1,6):\n",
    "    url='https://movie.naver.com/movie/point/af/list.nhn?page='+str(n)\n",
    "    html_doc=requests.get(url).text\n",
    "    #print(html_doc)\n",
    "    bs=BeautifulSoup(html_doc,'html.parser')\n",
    "    titles=bs.select('.movie')\n",
    "    points=bs.select('td.title > div > em')\n",
    "    reviews=bs.select('td.title')\n",
    "\n",
    "\n",
    "    for title in titles:\n",
    "        movie_title.append(title.text)\n",
    "    for point in points:\n",
    "        movie_point.append(point.text)\n",
    "    for review in reviews:\n",
    "        content=review.text.replace('\\n','').replace('신고','\\n')\n",
    "        movie_review.append(content)\n",
    "        \n",
    "import pandas as pd\n",
    "data={'titles':movie_title, 'points':movie_point, 'reviews':movie_review}\n",
    "df=pd.DataFrame(data)\n",
    "df.to_csv('c:/chj/data/moive.csv', index=False)"
   ]
  },
  {
   "cell_type": "code",
   "execution_count": 6,
   "metadata": {},
   "outputs": [],
   "source": [
    "items=[]\n",
    "for i in range(len(movie_title)):\n",
    "    t=tuple([movie_title[i],movie_point[i], movie_review[i]])\n",
    "    items.append(t)"
   ]
  },
  {
   "cell_type": "code",
   "execution_count": 7,
   "metadata": {},
   "outputs": [],
   "source": [
    "import pymysql\n",
    "conn=pymysql.connect(\n",
    "    host='localhost',\n",
    "    user='chj',                 \n",
    "    password='1234',\n",
    "    db='chj_db',\n",
    "    charset='utf8')\n",
    "cursor=conn.cursor()\n",
    "sql=\"insert into movie(title, point, review) values(%s,%s,%s)\"\n",
    "cursor.executemany(sql, items)\n",
    "conn.commit()\n",
    "conn.close()"
   ]
  }
 ],
 "metadata": {
  "kernelspec": {
   "display_name": "Python 3",
   "language": "python",
   "name": "python3"
  },
  "language_info": {
   "codemirror_mode": {
    "name": "ipython",
    "version": 3
   },
   "file_extension": ".py",
   "mimetype": "text/x-python",
   "name": "python",
   "nbconvert_exporter": "python",
   "pygments_lexer": "ipython3",
   "version": "3.8.5"
  }
 },
 "nbformat": 4,
 "nbformat_minor": 4
}
