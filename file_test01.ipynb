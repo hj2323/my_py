{
 "cells": [
  {
   "cell_type": "code",
   "execution_count": 5,
   "metadata": {},
   "outputs": [],
   "source": [
    "import numpy as np\n",
    "import pandas as pd"
   ]
  },
  {
   "cell_type": "code",
   "execution_count": 3,
   "metadata": {},
   "outputs": [
    {
     "name": "stdout",
     "output_type": "stream",
     "text": [
      "['Supplier Name', 'Invoice Number', 'Part Number', 'Cost', 'Purchase Date']\n",
      "['A', '001-1001', '2341', '\"$500', '000\"', '2014-01-20']\n",
      "['A', '001-1001', '5467', '500000', '2014-01-20']\n",
      "['A', '001-1001', '5407', '750000', '2014-01-20']\n",
      "['A', '001-1001', '2341', '750000', '2014-01-20']\n",
      "['B', '50-9501', '7009', '250000', '2018-01-30']\n",
      "['B', '50-9501', '7009', '250000', '2018-01-30']\n",
      "['B', '50-9505', '6650', '125000', '2017-02-03']\n",
      "['B', '50-9505', '6650', '125000', '2017-02-03']\n",
      "['C', '920-4803', '3321', '615000', '2017-02-03']\n",
      "['C', '920-4804', '3321', '615000', '2017-02-10']\n",
      "['C', '920-4805', '3321', '615000', '2017-02-17']\n",
      "['C', '920-4806', '3321', '615000', '2017-02-24']\n"
     ]
    }
   ],
   "source": [
    "input_file=\"C:/chj/data/input.csv\"\n",
    "output_file=\"C:/chj/data/output.csv\"\n",
    "\n",
    "#with open이 끝나는 지점에서 파일이 자동으로 닫힌다\n",
    "with open(input_file,'r',newline='')as reader:\n",
    "    with open(output_file,'w',newline='')as writer:\n",
    "        header=reader.readline()\n",
    "        header=header.strip()\n",
    "        header_list=header.split(',')\n",
    "        print(header_list)\n",
    "        \n",
    "        writer.write(','.join(map(str,header_list))+'\\n')\n",
    "        \n",
    "        for row in reader:\n",
    "            row=row.strip()\n",
    "            row_list=row.split(',')\n",
    "            print(row_list)\n",
    "            writer.write(','.join(map(str,row_list))+\"\\n\")"
   ]
  },
  {
   "cell_type": "code",
   "execution_count": 7,
   "metadata": {},
   "outputs": [
    {
     "name": "stdout",
     "output_type": "stream",
     "text": [
      "   Supplier Name Invoice Number  Part Number      Cost Purchase Date\n",
      "0              A       001-1001         2341  $500,000    2014-01-20\n",
      "1              A       001-1001         5467    500000    2014-01-20\n",
      "2              A       001-1001         5407    750000    2014-01-20\n",
      "3              A       001-1001         2341    750000    2014-01-20\n",
      "4              B        50-9501         7009    250000    2018-01-30\n",
      "5              B        50-9501         7009    250000    2018-01-30\n",
      "6              B        50-9505         6650    125000    2017-02-03\n",
      "7              B        50-9505         6650    125000    2017-02-03\n",
      "8              C       920-4803         3321    615000    2017-02-03\n",
      "9              C       920-4804         3321    615000    2017-02-10\n",
      "10             C       920-4805         3321    615000    2017-02-17\n",
      "11             C       920-4806         3321    615000    2017-02-24\n"
     ]
    }
   ],
   "source": [
    "#판다스 사용 파일 처리\n",
    "input_file=\"C:/chj/data/input.csv\"\n",
    "output_file=\"C:/chj/data/output2.csv\"\n",
    "\n",
    "df=pd.read_csv(input_file)\n",
    "print(df)\n",
    "df.to_csv(output_file, index=False)"
   ]
  },
  {
   "cell_type": "code",
   "execution_count": 10,
   "metadata": {},
   "outputs": [
    {
     "name": "stdout",
     "output_type": "stream",
     "text": [
      "['Supplier Name', 'Invoice Number', 'Part Number', 'Cost', 'Purchase Date']\n",
      "['A', '001-1001', '2341', '$500,000', '2014-01-20']\n",
      "['A', '001-1001', '5467', '500000', '2014-01-20']\n",
      "['A', '001-1001', '5407', '750000', '2014-01-20']\n",
      "['A', '001-1001', '2341', '750000', '2014-01-20']\n",
      "['B', '50-9501', '7009', '250000', '2018-01-30']\n",
      "['B', '50-9501', '7009', '250000', '2018-01-30']\n",
      "['B', '50-9505', '6650', '125000', '2017-02-03']\n",
      "['B', '50-9505', '6650', '125000', '2017-02-03']\n",
      "['C', '920-4803', '3321', '615000', '2017-02-03']\n",
      "['C', '920-4804', '3321', '615000', '2017-02-10']\n",
      "['C', '920-4805', '3321', '615000', '2017-02-17']\n",
      "['C', '920-4806', '3321', '615000', '2017-02-24']\n"
     ]
    }
   ],
   "source": [
    "#csv 모듈 사용\n",
    "import csv\n",
    "input_file=\"C:/chj/data/input.csv\"\n",
    "output_file=\"C:/chj/data/output3.csv\"\n",
    "\n",
    "with open(input_file,'r',newline='') as csv_in_file:\n",
    "    with open(output_file,'w',newline='')as csv_out_file:\n",
    "        filereader=csv.reader(csv_in_file, delimiter=',')\n",
    "        filewriter=csv.writer(csv_out_file, delimiter=',')\n",
    "        \n",
    "        for row_list in filereader:\n",
    "            print(row_list)\n",
    "            filewriter.writerow(row_list)"
   ]
  },
  {
   "cell_type": "code",
   "execution_count": 13,
   "metadata": {},
   "outputs": [
    {
     "name": "stdout",
     "output_type": "stream",
     "text": [
      "  Supplier Name Invoice Number  Part Number      Cost Purchase Date\n",
      "0             A       001-1001         2341  500000.0    2014-01-20\n",
      "1             A       001-1001         5467  500000.0    2014-01-20\n",
      "2             A       001-1001         5407  750000.0    2014-01-20\n",
      "3             A       001-1001         2341  750000.0    2014-01-20\n"
     ]
    }
   ],
   "source": [
    "#판다스 사용 파일 처리\n",
    "input_file=\"C:/chj/data/input.csv\"\n",
    "output_file=\"C:/chj/data/output4.csv\"\n",
    "\n",
    "df=pd.read_csv(input_file)\n",
    "df['Cost']=df['Cost'].str.strip('$').str.replace(',','').astype(float)\n",
    "result=df.loc[(df['Supplier Name']=='A') & (df.Cost>=500000),:]\n",
    "print(result)\n",
    "result.to_csv(output_file, index=False)"
   ]
  },
  {
   "cell_type": "code",
   "execution_count": 19,
   "metadata": {},
   "outputs": [
    {
     "name": "stdout",
     "output_type": "stream",
     "text": [
      "  Supplier Name  Part Number      Cost\n",
      "1             A         5467  500000.0\n",
      "2             A         5407  750000.0\n"
     ]
    }
   ],
   "source": [
    "#Part Number 5000이상이고 Cost가 500000 이상인 Supplier Name, Part Number, Cost를 출력\n",
    "input_file=\"C:/chj/data/input.csv\"\n",
    "output_file=\"C:/chj/data/output5.csv\"\n",
    "#csv파일을 읽어서 데이터 프레임으로 저장\n",
    "df=pd.read_csv(input_file)\n",
    "\n",
    "df['Cost']=df['Cost'].str.strip('$').str.replace(',','').astype(float)\n",
    "result=df.loc[(df['Part Number']>=5000) & (df.Cost>=500000),\n",
    "              ['Supplier Name', 'Part Number','Cost']]\n",
    "print(result)\n",
    "result.to_csv(output_file, index=False)"
   ]
  },
  {
   "cell_type": "code",
   "execution_count": null,
   "metadata": {},
   "outputs": [],
   "source": []
  }
 ],
 "metadata": {
  "kernelspec": {
   "display_name": "Python 3",
   "language": "python",
   "name": "python3"
  },
  "language_info": {
   "codemirror_mode": {
    "name": "ipython",
    "version": 3
   },
   "file_extension": ".py",
   "mimetype": "text/x-python",
   "name": "python",
   "nbconvert_exporter": "python",
   "pygments_lexer": "ipython3",
   "version": "3.8.5"
  }
 },
 "nbformat": 4,
 "nbformat_minor": 4
}
