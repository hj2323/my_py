{
 "cells": [
  {
   "cell_type": "code",
   "execution_count": 2,
   "metadata": {},
   "outputs": [
    {
     "name": "stdout",
     "output_type": "stream",
     "text": [
      "one two\n",
      "내이름은 홍길동 이고 나이는 20입니다\n"
     ]
    }
   ],
   "source": [
    "print('%s %s' %('one','two'))\n",
    "print('내이름은 %s 이고 나이는 %d입니다'%('홍길동',20))"
   ]
  },
  {
   "cell_type": "code",
   "execution_count": 5,
   "metadata": {},
   "outputs": [
    {
     "name": "stdout",
     "output_type": "stream",
     "text": [
      "이름은 홍길동이고, 나이는 20이며, 키는 182.356000, 몸무게는 80.123450입니다\n",
      "이름은 홍길동  이고, 나이는 20 이며, 키는 182.36, 몸무게는  80.1입니다\n"
     ]
    }
   ],
   "source": [
    "name='홍길동'\n",
    "age=20\n",
    "height=182.356\n",
    "weight=80.12345\n",
    "\n",
    "print(\"이름은 %s이고, 나이는 %d이며, 키는 %f, 몸무게는 %f입니다\"%(name, age, height, weight))\n",
    "print(\"이름은 %-5s이고, 나이는 %-3d이며, 키는 %5.2f, 몸무게는 %5.1f입니다\"%(name, age, height, weight))"
   ]
  },
  {
   "cell_type": "code",
   "execution_count": 10,
   "metadata": {},
   "outputs": [
    {
     "name": "stdout",
     "output_type": "stream",
     "text": [
      "이름은        홍길동이고, 나이는 20   이며, 키는 182.36, 몸무게는 80.1입니다\n"
     ]
    }
   ],
   "source": [
    "print(\"이름은 {0:>10s}이고, 나이는 {1:<5d}이며, 키는 {2:5.2f}, 몸무게는 {3:4.1f}입니다\".format(name, age, height, weight))"
   ]
  },
  {
   "cell_type": "code",
   "execution_count": 11,
   "metadata": {},
   "outputs": [
    {
     "name": "stdout",
     "output_type": "stream",
     "text": [
      "Name:홍길동, Age:20\n"
     ]
    }
   ],
   "source": [
    "print(\"Name:%(name)s, Age:%(age)d\"%{\"age\":20,\"name\":\"홍길동\"})"
   ]
  },
  {
   "cell_type": "code",
   "execution_count": null,
   "metadata": {},
   "outputs": [],
   "source": [
    "print(\"name:%(name)s, Age:%(age)d\"%{\"age\":20,\"name\":\"홍길동\"})"
   ]
  }
 ],
 "metadata": {
  "kernelspec": {
   "display_name": "Python 3",
   "language": "python",
   "name": "python3"
  },
  "language_info": {
   "codemirror_mode": {
    "name": "ipython",
    "version": 3
   },
   "file_extension": ".py",
   "mimetype": "text/x-python",
   "name": "python",
   "nbconvert_exporter": "python",
   "pygments_lexer": "ipython3",
   "version": "3.8.5"
  }
 },
 "nbformat": 4,
 "nbformat_minor": 4
}
