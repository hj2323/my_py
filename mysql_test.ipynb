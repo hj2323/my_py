{
 "cells": [
  {
   "cell_type": "code",
   "execution_count": 1,
   "metadata": {},
   "outputs": [],
   "source": [
    "import pymysql"
   ]
  },
  {
   "cell_type": "code",
   "execution_count": 6,
   "metadata": {},
   "outputs": [],
   "source": [
    "#DB 연결\n",
    "def select_all():\n",
    "    conn=pymysql.connect( #pymysql 라이브러리 사용 DB 연결\n",
    "    host='localhost',\n",
    "    user='chj',\n",
    "    password='1234',\n",
    "    db='chj_db',\n",
    "    charset='utf8'\n",
    "    )\n",
    "    cursor=conn.cursor()\n",
    "    sql='select * from pages'\n",
    "    cursor.execute(sql)\n",
    "    for row in cursor:\n",
    "        print(row[0],row[1],row[2],row[3])\n",
    "    conn.close()"
   ]
  },
  {
   "cell_type": "code",
   "execution_count": 7,
   "metadata": {},
   "outputs": [
    {
     "name": "stdout",
     "output_type": "stream",
     "text": [
      "1 제목1 내용1 2021-02-26 15:14:02\n",
      "2 제목2 내용2 2021-02-26 15:14:02\n"
     ]
    }
   ],
   "source": [
    "select_all()"
   ]
  },
  {
   "cell_type": "code",
   "execution_count": 8,
   "metadata": {},
   "outputs": [],
   "source": [
    "def insert_data(data):\n",
    "    conn=pymysql.connect( #pymysql 라이브러리 사용 DB 연결\n",
    "    host='localhost',\n",
    "    user='chj',\n",
    "    password='1234',\n",
    "    db='chj_db',\n",
    "    charset='utf8'\n",
    "    )\n",
    "    cursor=conn.cursor()\n",
    "    sql='insert into pages(title, content) values(%s, %s)'\n",
    "    cursor.execute(sql, data)\n",
    "    conn.commit()\n",
    "    conn.close()"
   ]
  },
  {
   "cell_type": "code",
   "execution_count": 9,
   "metadata": {},
   "outputs": [],
   "source": [
    "data=('python board1', 'python content1')\n",
    "insert_data(data)"
   ]
  },
  {
   "cell_type": "code",
   "execution_count": 10,
   "metadata": {},
   "outputs": [
    {
     "name": "stdout",
     "output_type": "stream",
     "text": [
      "1 제목1 내용1 2021-02-26 15:14:02\n",
      "2 제목2 내용2 2021-02-26 15:14:02\n",
      "3 python board1 python content1 2021-02-26 15:24:45\n"
     ]
    }
   ],
   "source": [
    "select_all()"
   ]
  },
  {
   "cell_type": "code",
   "execution_count": 11,
   "metadata": {},
   "outputs": [],
   "source": [
    "def select_all_books():\n",
    "    conn=pymysql.connect( #pymysql 라이브러리 사용 DB 연결\n",
    "    host='localhost',\n",
    "    user='chj',\n",
    "    password='1234',\n",
    "    db='chj_db',\n",
    "    charset='utf8'\n",
    "    )\n",
    "    cursor=conn.cursor()\n",
    "    sql='select * from books'\n",
    "    cursor.execute(sql)\n",
    "    for row in cursor:\n",
    "        print(row[0],row[1],row[2],row[3], row[4])\n",
    "    conn.close()"
   ]
  },
  {
   "cell_type": "code",
   "execution_count": 12,
   "metadata": {},
   "outputs": [
    {
     "name": "stdout",
     "output_type": "stream",
     "text": [
      "1 python blake 위키북스 20000\n",
      "2 java lynne 한빛 20000\n"
     ]
    }
   ],
   "source": [
    "select_all_books()"
   ]
  },
  {
   "cell_type": "code",
   "execution_count": 23,
   "metadata": {},
   "outputs": [],
   "source": [
    "def insert_data_books(data):\n",
    "    conn=pymysql.connect( #pymysql 라이브러리 사용 DB 연결\n",
    "    host='localhost',\n",
    "    user='chj',\n",
    "    password='1234',\n",
    "    db='chj_db',\n",
    "    charset='utf8'\n",
    "    )\n",
    "    cursor=conn.cursor()\n",
    "    sql=\"insert into books(title, author, publisher, price) values(%s, %s, %s, %s)\"\n",
    "    cursor.executemany(sql, datas)\n",
    "    conn.commit()\n",
    "    conn.close()"
   ]
  },
  {
   "cell_type": "code",
   "execution_count": 24,
   "metadata": {},
   "outputs": [],
   "source": [
    "datas=[\n",
    "    ('빅데이터 분석', '주진우','길벗', 28000),\n",
    "    ('NoSQL', '주종명','인피니티북스', 30000),\n",
    "    ('안드로이드', '최혜지','위키북스', 20000),\n",
    "]\n",
    "\n",
    "insert_data_books(datas)"
   ]
  },
  {
   "cell_type": "code",
   "execution_count": 38,
   "metadata": {},
   "outputs": [],
   "source": [
    "def update_books(data):\n",
    "    conn=pymysql.connect( #pymysql 라이브러리 사용 DB 연결\n",
    "    host='localhost',\n",
    "    user='chj',\n",
    "    password='1234',\n",
    "    db='chj_db',\n",
    "    charset='utf8'\n",
    "    )\n",
    "    cursor=conn.cursor()\n",
    "    sql=\"update books set title=%s, author=%s where id=%s\"\n",
    "    cursor.execute(sql, data)\n",
    "    conn.commit()\n",
    "    conn.close()"
   ]
  },
  {
   "cell_type": "code",
   "execution_count": 39,
   "metadata": {},
   "outputs": [
    {
     "name": "stdout",
     "output_type": "stream",
     "text": [
      "1 python programming 이진우 위키북스 20000\n",
      "2 java lynne 한빛 20000\n",
      "3 빅데이터 분석 주진우 길벗 28000\n",
      "4 NoSQL 주종명 인피니티북스 30000\n",
      "5 안드로이드 최혜지 위키북스 20000\n"
     ]
    }
   ],
   "source": [
    "data=('python programming', '이진우', 1)\n",
    "update_books(data)\n",
    "select_all_books()"
   ]
  },
  {
   "cell_type": "code",
   "execution_count": 44,
   "metadata": {},
   "outputs": [],
   "source": [
    "def delete_books(data):\n",
    "    conn=pymysql.connect( #pymysql 라이브러리 사용 DB 연결\n",
    "    host='localhost',\n",
    "    user='chj',\n",
    "    password='1234',\n",
    "    db='chj_db',\n",
    "    charset='utf8'\n",
    "    )\n",
    "    cursor=conn.cursor()\n",
    "    sql=\"delete from books where id=%s\"\n",
    "    cursor.execute(sql, data)\n",
    "    conn.commit()\n",
    "    conn.close()"
   ]
  },
  {
   "cell_type": "code",
   "execution_count": 45,
   "metadata": {},
   "outputs": [
    {
     "name": "stdout",
     "output_type": "stream",
     "text": [
      "1 python programming 이진우 위키북스 20000\n",
      "3 빅데이터 분석 주진우 길벗 28000\n",
      "4 NoSQL 주종명 인피니티북스 30000\n",
      "5 안드로이드 최혜지 위키북스 20000\n"
     ]
    }
   ],
   "source": [
    "delete_books(2)\n",
    "select_all_books()"
   ]
  },
  {
   "cell_type": "code",
   "execution_count": null,
   "metadata": {},
   "outputs": [],
   "source": []
  }
 ],
 "metadata": {
  "kernelspec": {
   "display_name": "Python 3",
   "language": "python",
   "name": "python3"
  },
  "language_info": {
   "codemirror_mode": {
    "name": "ipython",
    "version": 3
   },
   "file_extension": ".py",
   "mimetype": "text/x-python",
   "name": "python",
   "nbconvert_exporter": "python",
   "pygments_lexer": "ipython3",
   "version": "3.8.5"
  }
 },
 "nbformat": 4,
 "nbformat_minor": 4
}
