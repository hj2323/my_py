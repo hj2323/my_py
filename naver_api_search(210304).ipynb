{
 "metadata": {
  "language_info": {
   "codemirror_mode": {
    "name": "ipython",
    "version": 3
   },
   "file_extension": ".py",
   "mimetype": "text/x-python",
   "name": "python",
   "nbconvert_exporter": "python",
   "pygments_lexer": "ipython3",
   "version": "3.8.5-final"
  },
  "orig_nbformat": 2,
  "kernelspec": {
   "name": "python3",
   "display_name": "Python 3.8.5 64-bit (conda)",
   "metadata": {
    "interpreter": {
     "hash": "7983b5f87976c76b3840bf38330c330eda01f8d9b50d3f222b356bd3e7393c9b"
    }
   }
  }
 },
 "nbformat": 4,
 "nbformat_minor": 2,
 "cells": [
  {
   "cell_type": "code",
   "execution_count": 7,
   "metadata": {
    "tags": []
   },
   "outputs": [
    {
     "output_type": "stream",
     "name": "stdout",
     "text": [
      "코로나 백신에 대한 네이버 블로그 글\n1 : 독일 요양원 종사자 폭로 : <b>코로나 백신</b> 접종 후 사망\n한국 <b>코로나 백신</b> 접종 시작, 65세 이상 제외 이번 주부터 한국에서도 코로나19 백신 접종이 시작됩니다. 질병관리청이 발표한 1분기 접종 계획(순서)에 의하면, 2월 26일 요양병원 · 노인 요양 시설 · 정신요양... \n2 : <b>코로나 백신</b>접종 후 사망에 불안감↑..&quot;접종 피하지 마시길&quot;\n설대우 중앙대 약학대학 교수는 &quot;불안감 때문에 이상반응 신고가 더 늘어날 수 있다&quot;며 &quot;<b>코로나</b>19 <b>백신</b>이 단기간에 빠르게 개발됐기 때문에 접종을 받고 심리적으로 '찜찜하다'는 생각이 들 수 있고, 이 때문에... \n3 : <b>코로나 백신</b> 접종 순서 누구부터 맞나?\n약 7만 8천여명 / 코로나 19 1차 대응요원(코로나19 방역, 역학조사, 검역 요원등) - 119 구급대 / 역삭조사... 자, 여기까지 <b>코로나 백신</b> 접종 순서랑 어떤 종류 백신 맞는지 알아봤음. 어쨌든 모든게 순조롭게 잘... \n4 : 난치병 아나필락시스(Anaphylaxis), <b>코로나 백신</b> 예방접종... \n하지만 <b>코로나</b>19 <b>백신</b>은 대부분 2차례 접종해야 하는 만큼 1차 접종 여부를 묻는 질문이 담겨있습니다. 접종 구역에서는 의료진이 문진표를 바탕으로 실제 접종이 가능한지 최종 판단한다. 이때 의료진이... \n5 : <b>코로나 백신</b> 이야기 - SK바이오사이언스, 녹십자 관심\n백신 보급이 본격화 되고 있고 앞으로 코로나가 풍토병으로 정착될 가능성이 높다. 따라서... <b>코로나백신</b> 이해에 아주 좋은 자료다. 별첨. 끝나지 않은 COVID19 백신 이야기 • 2021.2월말까지... \n6 : 서울시 <b>코로나 백신</b> 접종순서 정리\n내손안에서울) 접종 방법 - 예방접종 센터 : 화이자, 모더나 백신 접종으로 중앙접종센터는... ^^ [아래 유용한 건강정보 모음] - <b>코로나 백신</b> 접종 거부, 재접종 가능 시기 - 코로나 증상 순서, 발현시기, 그리고... \n7 : <b>코로나 백신</b> 접종 시기에 따른 의료폐기물 관련주 정리\n백신과 폐기물 <b>코로나 백신</b> 접종 시기가 확정되었다는 소식이 곳곳에서 들리고 있습니다. 일단... 주로 코로나19 전담 병원 종사자들부터 접종예정이고 3/22일 부터는 코로나19 1차 대응요원(보건소 선별진료... \n8 : <b>코로나 백신</b> 접종 순서 및 종류, 부작용\n이는 단점보다는 <b>코로나 백신</b>을 맞음으로 효과라든지 면역형성 등의 장점이 더 많기 때문에 전 국민 접종을 권하는 실정입니다. 코로나19백신은 숙취 같은 느낌이나 두통, 열, 근육통 등을 보인다고 알려져... \n9 : <b>코로나</b> - 감기 바이러스 때문에 유전자 <b>백신</b>을 맞는다?\n미국기업 화이자(Pfizer)와 독일의 BioNTech가 개발한 <b>코로나 백신</b>을 맞고 사망한 사람이 최소 23명이며, 이 가운데 13명은 백신 부작용으로 사망했다고 노르웨이 보건당국이 밝혔다. 정부의 코로나19 정책에... \n10 : <b>코로나 백신</b> 접종 시기, 순서, 우선순위 총정리!\n<b>코로나 백신</b> 접종 순서 큰 흐름을 살펴보시겠습니다 위 순서는 중증 진행 위험성, 의료 방역체계 및 사회 안정, 코로나19의 전파특성을 고려하여 예방접종전문위원회 심의를 거쳐 결정한 사항이라고 합니다... \n11 : 터키 <b>코로나</b> 확진자 현황 중국산 <b>백신</b> 사용 현재 진행중\n일일 코로나 확진자 평균 숫자는 최근 1주 기준 약 9천명 정도라서.. 아무리 <b>코로나 백신</b>이 도입된다고... 물론 난 중국산 백신에 대해서 굉장히 회의적이지만 말이다. 그래도 중국산이라서 그런지 생각보다... \n12 : <b>코로나 백신</b> 접종 순서, 종류 외 질문들\n<b>코로나 백신</b> 접종 순서는 어떻게 되나요? 우선순위는 어떻게 될까요? 제외되는 대상군이 있을까요?... 2월 3일날 기준으로 올라온 백신 접종 순서 자료에요 1차 : 직접적으로 코로나19 환자를 치료하는 기관... \n13 : <b>코로나 백신</b> - 접종 순서 우선순위, 종류 총정리\n이르면 2월부터 <b>코로나 백신</b> 접종이 예상되는 가운데 접종 순서, 우선순위 등에 관심이 쏠리고 있다. 나... 최근 소식에는 미국에서 코로나19 백신을 접종한 어느 의원이 무증상 감염이 되었다고 한다. 백신을... \n14 : <b>코로나 백신</b> 우선순위, 접종 순서는 어떻게 될까?\n포함) <b>코로나 백신</b> 접종 순서 ▶ 1~2순위 백신 접종은 의료진부터(2월~3월) - 아무래도 5만 명의 치료병원 의료진부터 접종을 하는 것이 맞는 이야기긴 하다. 하루에도 수백 명의 코로나 환자를 접하게 되니... \n15 : <b>코로나</b>19 <b>백신</b> 예방접종 전후 주의사항\n위하여 코로나19 백신접종이 시작된다. 2월 26일 오늘부터는 전국 요양병원·요양시설에서 예방접종이 시작되어 우리나라 <b>코로나백신</b> 접종의 막이 오른다. 우리나라에서 처음으로 허가받은 아스트라제네카... \n16 : 인구대비 5배 캐나다 <b>코로나 백신</b> 확보 및 접종 현황 및 나이대... \n7개의 백신 공급업체와 계약을 맺었다고 하니 정말 코로나 만큼은 캐나다가 가장 발빠르게 대처하는 국가 중 하나임은 확실 한 것 같습니다. 캐나다는 지난 2020년 12월14일부터 <b>코로나 백신</b> 접종을 시작하기도... \n17 : 독일 <b>코로나 백신</b> 접종 현황, 신청(+우리나라 백신접종 일정)\n아직 상용화되는 날은 멀었겠지만 관광산업에 의존도가 높은 나라들은 벌써 백신여권(<b>코로나 백신</b>접... 내일부터 백신접종이 시작되죠. 출처 : 질병관리청 1분기 - 요양병원 및 코로나를 치료하는 의료기관... \n18 : <b>코로나 백신</b> 패닉…고양·평택 AZ접종 환자 사망\n3일 경기 고양시와 평택시에서 <b>코로나</b>19 <b>백신</b> 접종 후 사망 사례가 연이어 발생했다. 보건당국 등에 따르면 전날 오전 고양시 일산동구 한 요양병원에서 아스트라제네카(AZ) <b>백신</b>을 접종한 50대 A씨가 당일... \n19 : <b>코로나 백신</b> 접종 거부, 재접종 시기\n<b>코로나 백신</b> 접종 거부 - 아스트라제네카 : 요양병원 동의율 92.7%, 노인요양시설/정신요양-재활시설 95.5% - 화이자 : 코로나19 환자 치료병원 94.6% 위의 수치만큼 현재 백신 접종에 대한 동의율입니다. 저는 현재... \n20 : <b>코로나 백신</b> '국민 절반 접종' 이스라엘 노하우 듣는다(2021)\n서정협 서울시장 권한대행이 3일 본청 3층 대회의실에서 열린 ‘서울-이스라엘 <b>코로나</b>19 <b>백신</b>접종 온라인 컨퍼런스’에서 <b>백신</b>접종을 총괄하는 이스라엘 보건부 요아브 키쉬 차관과 화상으로 대화를 나누고... \n21 : <b>백신</b>접종,2월26일부터 <b>코로나</b>19 <b>백신</b>접종시작!\n백신접종,2월26일부터 코로나19 백신접종시작! 아스트라제네카(AZ)백신 오늘(2월25일) 전국 각지로 배송... 본격적인 접종은 26일 오전 9시부터 전국적으로 일제히 시작될 전망 <b>코로나 백신</b> 접종순서 현재까지... \n22 : <b>코로나 백신</b> 접종 순서와 시기, 종류는?\n코로나야 없어져라~ <b>코로나 백신</b> 접종 시기는 2월 26일 오전 9시부터 순차적으로 진행 될 예정인데요. 가장 먼저 접종되는 백신 종류는 아스트라제네카 입니다. 접종 비용은 전 국민 대상 전액 무료입니다... \n23 : 2021년 2월 24일 - <b>코로나 백신</b> 2차 접종 후기\n그동안 한국이 확보한 <b>코로나 백신</b>은 mRNA 타입인 Pfizer와 Moderna, DNA 타입인 AstraZeneca와 Johnson &amp; Johnson... 이스라엘은 벌써 국민 중 코로나19 백신 1차 접종을 마친 사람은 50.5%에 이른다. 이스라엘에서... \n24 : AZ <b>코로나</b>19 <b>백신</b> 접종 사망자 연이은 발생에 불안감 증폭\n코로나19 백신 접종 5일 째 3일 경기도 고양시 한 요양시설의 입소자가 <b>코로나 백신</b> 접종을 받은 뒤 사망했다. 고양시에 따르면 전날 오전 고양시 일산동구 한 요양병원에서 아스트라제네카 백신을 접종산 50대... \n25 : <b>코로나</b>19 <b>백신</b> 접종순서 부작용 우선순위\n코로나19백신 예방접종이 2월 26일 오전 9시부터 전국 동시에 시작됩니다 코로나19백신 접종순서... <b>코로나백신</b> 접종 전 주의사항 부작용 이상반응 발열 호흡기 증상의 경우 연기하기 접종 후 15분~30분 정도... \n26 : &lt;멕시코&gt; 남편의 <b>코로나</b>19 <b>백신</b> 접종\n작년 12월부터 멕시코에도 화이자 사의 코로나19 백신이 공급되었다. 수도인 멕시코 시티와 대도시인... 유독 <b>코로나 백신</b>에 대해 부정적인 얘기가 많은 것은 전염병 발생 후 고작 1년 지나서 만들어진 신생... \n27 : <b>코로나 백신</b> 효과(이스라엘 사례, 접종률 및 확진자 현황)\n그럼 <b>코로나 백신</b> 효과는 2회 접종을 마친 60세 이상의 인구의 확진자 추이를 보면 나오겠죠!! 그럼 과연 화이자 백신은 코로나 예방효과가 있을까? 이스라엘의 확진자 현황은? 코로나로 인한 입원환자 수... \n28 : 호주 <b>코로나 백신</b> 접종 시작\n호주정부가 코로나바이러스문제를 해결하기 위한 다음단계인 백신접종을 독려하기 위함인데요. <b>코로나백신</b>접종을 정부가 강요할수없기때문에 적극적인 홍보(???)아닌 홍보를 했다고 보여집니다. 많은사람들이... \n29 : 우리나라 <b>코로나 백신</b> 접종계획 및 접종 순서와 시기, 우선순위는?\n일본 역시 의료종사자들을 대상으로 오늘부터 '화이자' <b>코로나 백신</b>의 접종을 시작했다. 이후에는... 본격적으로 코로나 극복을 위한 백신접종이 진행되고 있는 만큼 빠른시일내에 우리의 일상을 되 찾을... \n30 : 아스트라제네카 화이자백신 차이/ <b>코로나백신</b>비교/ 백신 접종시기\n백신에 대한 글들을 많이 보니 맞아야 하나? 싶기도 하다. 적어도 딸은 모르겠지만ㅠㅠ <b>코로나 백신</b>... 처음엔 반신반의 했던 코로나19 백신.. 아직도 믿을수 있을지 없을지 걱정이 되었지만, 최근 뉴스에서... \n31 : 서울시 <b>코로나</b> 19 <b>백신</b> 접종계획\n요즘 <b>코로나 백신</b> 접종이 시작되면서 뉴스에서는 연일 백신접종후 반응 및 부작용에 대한 내용이... 서울시에서 발표한 2월 24일 코로나19 백신 접종계획안이다 우리가족은 모두 1단계, 2단계 해당사항이... \n32 : <b>코로나 백신</b> 접종 시기와 접종 순서까지! 코로나19 백신 접종... \n백신 효과, 방역 목표에 따라 순차적으로 접종을 진행하는데요. 접종 순서는 의료·방역체계 및 사회안전, 코로나19 전파특성 등을 고려하여 예방접종위원회 심의 후 수시 조정됩니다. ▼ <b>코로나 백신</b> 접종... \n33 : 이스라엘 <b>코로나 백신</b> 효과?\n감염증(코로나19) 백신 접종을 진행한 나라가 이스라엘이죠. 세계적인 코로나 팬데믹에서 벗어날지에... 정부가 코로나 방역에 자신감을 보여준 걸로 볼 수 있는데요. 현재까지 1,2차 <b>코로나 백신</b> 접종을 모두... \n34 : 바레인에서 <b>코로나 백신</b> 맞기/Sputnik 스푸트닉\n드디어 <b>코로나 백신</b>을 맞으러 간다 1월 17일에 화이자 신청을 했는데 한 달 째 연락이 없어 다시... 나보고 코로나 검사하러 가냐고 백신 맞는다 했다 암때나 내려줘서 누구 붙잡고 물어봄ㅋㅋ 입구에서... \n35 : 호주<b>코로나</b>소식: <b>백신</b>접종 시작\n현재 <b>코로나 백신</b>은 #화이자백신 이며 곧 #아스트라제니카백신 에 대해서도 접종할 계획이라고 했습니다. 그럼 호주 입국은 언제부터 될까요? 호주 입국은 코로나 진정세를 보고 결정될 거 같지만 향후... \n36 : <b>코로나 백신</b> 접종 시작일 &gt;&gt; 27일(토)\n두근두근 국민 70%가 접종하면 11월에는 집단면역 가능 ♥️.♥️ 다함께 이겨내보자 <b>코로나</b>!!!! . . 어디선가 주워 온 <b>백신</b> 정리표 &gt;&gt; 화이자 <b>백신</b>이 예방효과가 95% 구나.. but -70도 이하의 초저온으로 보관... \n37 : 천안21세기병원 <b>코로나 백신</b> 시작\n하는데 코로나 같은 경우는 전 세계적으로 퍼진 바이러스인 만큼 많은 사람들이 노력하여 빠른 속도로 백신이 탄생했습니다 먼저 경찰과 군인이 함께 <b>코로나 백신</b>을 직접 호송하여 천안21세기병원으로 가지고... \n38 : <b>코로나</b>19 <b>백신</b> 접종 시작<b>코로나</b>19 종식을 위한 첫 걸음을... \n지난 달 26일부터 시작된 코로나19 백신 접종. 시화병원에도 <b>코로나 백신</b>인 AZ(아스트라제네카)가 바로 어제(3일) 입고됐는데요. 물량이 예정됐던 날짜보다 빨리 들어오게 되면서 오늘(4일)부터 시화병원도... \n39 : <b>코로나 백신</b> 접종순서 건강한 성인은 10월에 접종 시작\n화이자 <b>백신</b> 1호 접종 자는 <b>코로나</b>19 병동에서 근무하시는 환경미화원입니다. 연합뉴스 그럼 도대체 나는 언제 <b>백신</b>을 맞을 수 있는 건지 궁금하지 않으신가요? 때 되면 맞겠거니 하고 생각하고 계시는지요?... \n40 : [제니일기] <b>코로나 백신</b> 접종\n뭔가 코로나는 멀어진 것 같이 느껴지는 요즘 격리 호텔에서 일 하고 있기 때문에 <b>코로나 백신</b> 접종... 올ㅋ 부럽노 #코로나 #호주백신 백신을 맞으려고 최종 관문에 섰는데 넘나 떨렸다 ㅠ_ㅠ 병원냄새도 한 몫... \n41 : <b>코로나 백신</b> 접종 방법\n예방접종 <b>코로나 백신</b>을 접종받는다. 관찰실에서 접종 후 이상반응이 있을 수 있어 15분~30분... #코로나19백신접종방법 #코로나19 #아스트라제네카백신 #화이자백신 #코로나19백신부작용 #백신부작용... \n42 : <b>코로나 백신</b> 접종 일정\n16 06:13 정부가 <b>코로나 백신</b> 접종계획을 발표한 가운데 AZ백신은 만 65세 이상 접종을 보류했다. 지난 15일 뉴시스의 보도에 따르면 이날 코로나19 예방접종 대응 추진단은 '코로나19 예방 접종 2~3월 시행 계획... \n43 : <b>코로나 백신</b> 접종 순서 및 시기 확인! 화이자 백신도 접종시작\n<b>코로나 백신</b> 접종 순서 및 시기 일상회복을 위한 코로나19 예방접종이 시작된다고 하는데요. <b>코로나 백신</b> , 화이자 백신이 무엇인지 예방접종은 어떻게 진행되는 지 <b>코로나 백신</b> 접종 순서와 시기 한번... \n44 : <b>코로나 백신</b> 접종 부작용, 접종 후 주의 사항\n쓰기, 자주 손씻기, 사람들 많은곳 피하기 등의 방역 수칙 먼저 지켜야 할듯 합니다. #<b>코로나백신</b>부작용 #<b>코로나백신</b>접종 #<b>코로나백신</b>접종부작용 #코로나 #<b>코로나백신</b> #<b>코로나백신</b>주의사항 #백신접종후주의사항\n45 : [2021 <b>코로나</b>19 예방접종 완료 - 아스트라제네카 <b>백신</b>]\n선생님들과 접종을 준비하였습니다~ 백신접종을 했다고 해서 안전한건 아니라서..... 코로나 검사도... 내일 또 <b>코로나 백신</b> 접종이 시작됩니다~~ 저는 아직까지는 특이사항이 관찰되지 않고 있습니다. 좀... \n46 : <b>코로나 백신</b> 접종 순서, 당뇨 고혈압, 임산부 접종가능?\n오늘은 <b>코로나 백신</b> 접종 순서를 제대로 알아보겠습니다. 백신 접종 순서결정 중증진행 위험, 의료 뱅역체계 및 사회안전, 코로나19 전파특성 등을 고려하여 예방접종전문위원회 심의를 거쳐... \n47 : <b>백신</b> 접종 전 알아두면 좋은  <b>코로나</b>19 <b>백신</b> 접종백서\n우리나라는 현재 <b>코로나 백신</b> 접종이 진행중에 있는데요. 백신 접종에 앞서 궁금한 부분도 많으실거라고 생각됩니다. 그래서 오늘은 행정공제회에서 준비한 코로나19 백신 접종백서를 준비해보았는데요.... \n48 : <b>백신</b> 접종 개시는 <b>코로나</b> 끝의 시작\n백신 접종 개시는 코로나 끝의 시작 © macauphotoagency, 출처 Unsplash 코로나19 백신접종이 시작되었다.... 그런데 <b>코로나 백신</b>으로 생기는 면역은 감염을 원천적으로 차단하는 살균 면역(sterilizing immunity)이... \n49 : 경기광주시 <b>코로나 백신</b>접종 일정\n2021년 2월 26일 드디어 <b>코로나</b>19 <b>백신</b>이 국내에서 접종이 시작되는 날입니다! 반격의 시작이라고들 하지요! 어제는 아스트라제네카 <b>백신</b>이 오늘은 화이자 <b>백신</b>이 접종이 시작되었습니다. 현재는 요양시설... \n50 : <b>코로나 백신</b> 효과 95%라는 말의 의미는?\n어차피 내가 원한다고 골라서 맞을 수는 없는 <b>코로나 백신</b>이기에 오늘 이야기가 큰 의미는 없을 수... 여기에 또 하나 변수가 최근 항체 및 백신을 약화하는 영국, 남아공, 브라질 발 코로나 변이 바이러스가... \n51 : <b>코로나백신</b> 접종순서\n&quot;나는 언제쯤 접종할까?&quot; 2분기 <b>코로나 백신</b> 접종 대상은? 코로나19 백신 접종이 26일 시작됨에 따라 일반 국민은 언제쯤 백신을 맞을 수 있게 될지에 관심이 쏠리고 있다. 각 보건소에는 이미 자신이 언제... \n52 : <b>백신</b>접종이 시작된다. <b>코로나</b> 종식 관련주 생각해보기... \n드디어 다음주 26일부터 말도 많고 탈도 많았던 <b>코로나 백신</b>접종이 시작됩니다. 백신 접종을 앞두고... 그런데 저라면 이번에는 한 번 시세를 줬었던 백신 테마들이 아닌 백신접종과 함께 코로나가 종식된다는... \n53 : 윤재승 팬젠! 높은 안전성의 <b>코로나 백신</b> 개발 착수\n높은 안전성의 <b>코로나 백신</b> 개발 착수 바이오의약품 전문기업 팬젠(윤재승 대표)이 8일 국제백신연구소(IVI)와 신종 코로나 바이러스 감염증(코로나19) 백신 개발에 힘쓴다. 팬젠은 지난 7일 국제백신연구소와... \n54 : <b>코로나백신</b> 접종순서, 접종시기, 부작용까지\n접종 제외 ① 소아·청소년 ② 임신부 * 임상 결과에 따라 추가 가능 <b>코로나백신</b> 접종시기 <b>코로나백신</b> 접종시기 - 화이자 백신￼ 보건당국이 발표한 '코로나19 예방접종 계획'에 따르면 올해 접종... \n55 : <b>코로나백신</b> 접종률 상승과 확진자 감소세\n아래 표는 인구 100명당 <b>코로나 백신</b> 접종자 숫자입니다. 이스라엘이 58.8 % 접종, 영국 14.9%. 미국 9.8... 그래서 백신 보급이 본격화 되면 코로나는 통제될 가능성이 높다고 봅니다. 오늘 나온 기사중에서... \n56 : 포항시 <b>코로나 백신</b> 접종 추진 상황 및 계획\n포항시 코로나19 백신 접종 추진 상황 및 계획 포항시에서는 11월까지 시민 70%가 코로나19 백신... ② <b>코로나 백신</b> 접종 교육을 이수한 의료기관 159개소 선정 예정 ▶ 예방접종 가능 병원 : 남구 63개소... \n57 : 중국, 올해(2021년) 말까지 8억 9천만명에게 <b>코로나 백신</b>을... \n&quot; 중국 내 전문가들은 일부 코로나19 백신이 해외로 수출된 점을 들어서 <b>코로나 백신</b>이 모자랄 수 있다는 우려를 표명했는데, 이에 대해, 「환구시보:글로벌 타임즈」는 다음과 같이 답변하였습니다... \n58 : <b>코로나</b>19 부산시 남구 <b>백신</b>접종 일정 및 접종장소\n부산시 남구주민 <b>코로나 백신</b> 접종 출처: 부산 남구 신문 코로나 19 백신 접종이 2월 26일 전국적으로 실시된 가운데, 부산 남구의 백신 접종 일정에 대해 살펴보겠습니다. 부산 남구주민 백신접종 일정 2021.... \n59 : <b>코로나 백신</b> 맞아야 하지만, 두려운 이유\n하지만, 어떤경우든 <b>코로나</b>19에 감염되었다면 누구든 치료제를 거부하기는 힘들겠지요. 즉, <b>백신</b> 접종은 선택사항이지만 확진된 환자에게 치료제는 필수가 되는겁니다. 그래서도 더욱 <b>백신</b>보다 효과좋은... \n60 : [관심주] <b>코로나 백신</b> 접종 수혜주 및 접종순서 알아보기\n백신유통 과정에 꼭 필요한게 바로 의료용 냉장고죠. 나는 언제 맞을 수 있지? - 대상군별 <b>코로나 백신</b> 접종시기 아무래도 코로나 취약계층부터 접종이 시작되다보니 건강한 젊은이들은 올 하반기에나... \n61 : <b>코로나 백신</b> 접종순서 및 시기는??\n2월 26일부터 접종 예정인 아스트라제네카는 현재 약 2,000만 명 분의 백신이 확보된 상태라 하며, 2번에... 현재 <b>코로나 백신</b> 접종에 있어, 부작용을 걱정하여 코로나 접종 거부의 움직임도 일어나고 있는... \n62 : <b>코로나 백신</b> 및 예방 접종\n<b>코로나</b>19 <b>백신</b>의 종류 대부분의 <b>코로나</b>19 <b>백신</b>은 <b>코로나</b>바이러스의 ‘스파이크’ 단백질을 이용해 면역반응을 일으켜줘요. 우리 몸의 면역체계가 <b>코로나</b>바이러스의 스파이크 단백질을 이물질로 인식하여... \n63 : 강남구 <b>코로나</b>19<b>백신</b> 무료 예방접종\n#코로나19백신, #<b>코로나백신</b>, #강남구<b>코로나백신</b>, 강남구 코로나19 백신 무료 예방접종 계획 (2021.03.01)  접종목표: 강남구민의 70%, 38만명 * 2021.1월 인구 53만8536명 3월: 1만 4,000명 요양병원, 시설 13개소... \n64 : 2월 26일부터 대상자별로 <b>코로나</b>19 <b>백신</b> 예방접종을... \n#속초 #속초시 #속초시청 #코로나19 #백신 #<b>코로나백신</b> #코로나예방 #코로나예방접종 #코로나극복 #이기자코로나19 #속초시민안전제일 #의료진덕분에 #감사합니다\n65 : 국산 <b>코로나 백신</b>은 가능할까? 관련주는 어떤 종목?\n[기자] <b>코로나</b>19 <b>백신</b>을 개발하고 있는 국내의 바이오 기업입니다. 지난달 고대구로병원과 함께 임상 1상 시험을 시작했고, 3월에는 2상 시험, 8월에는 조건부 허가 신청을 계획하고 있습니다. 국내 개발 <b>백신</b>은... \n66 : 딩동, <b>코로나 백신</b> 접종에 동의하십니까?\n역시도 <b>코로나</b> 환자 입원 병동 당직을 서고 있는 상황에서 언젠가는 그런 상황이 오겠지? 하고 막연히 생각하고 있다가 막상 <b>백신</b> 접종이 필요한 상황이 되니 멈칫하게 되었다. 언론에서 <b>백신</b>의 부작용에 대한... \n67 : 건보료 인상되나? <b>코로나 백신</b> 무료 아님주의\n애초에 코로나 무료 접종이라는 말은 어불성설 이란 생각임돠. 어쨋든 <b>코로나 백신</b> 비용은 국가예산 30%, 국민건강보험 70%로 조달방안이 결정됐다니 따라야 겠지요. 다만, 이로 인해 또다시 건보료 인상이 되진... \n68 : <b>코로나 백신</b> 맞아야 할까? 과학으로 답하다\n현재 국내에 도입된 <b>백신</b>은 바이러스 벡터(아스트라제네카와 얀센), mRNA(화이자와 모더나) <b>백신</b>이다.[사진= 이미지투데이] 지난 26일부터 아스트라제네카와 화이자 등 국내도 <b>코로나</b>19 <b>백신</b> 접종이 시작됐다.... \n69 : 화이자 <b>백신</b> 접종 시작, 1호 접종자는 <b>코로나</b>19 병동 미화원\n<b>코로나 백신</b> 접종 소식이 들려오고 있어요. 어제는 아스트라제네카 백신 국내 접종이 시작되었구요.... 코로나19 대응 최일선에 있는 의료진을 대상으로 한 백신 접종이 본격 시작되는데 의미가 있다고... \n70 : 대전시 <b>코로나</b>19 <b>백신</b> 접종 계획 과 현황 전담 홈 페이지 운영\n대전시 <b>코로나백신</b> 접종 홈페이지 발췌 코로나 19백신 접종은 65세 미만 요양병원 종사자 및 입원자 와 고위험군의료기관 보건의료인 .코로나 19 1차 대응인. 코로나19 환자 치료기관종사자 를 대상으로... \n71 : <b>코로나백신</b> 전국민 무료접종 시작합니다!\n2월 말부터 코로나19 백신 접종이 시작됩니다 &lt;<b>코로나 백신</b>접종 일정&gt;  2월 26일 - 요양시설 종사자 27만 2천명  3월 - 고위험 의료기관 보건의료인 35만명 - 코로나19 1차 대응요원 7만 8천여명  3분기 - 전국민 대상... \n72 : <b>코로나 백신</b> 완제품, 경북 안동 첫 출하! <b>코로나 백신</b> 접종시기... \n<b>코로나 백신</b> 접종시기 다시 확인하세요! 2월 24일 수요일 오전 10시 SK바이오사이언스 안동 공장에서 78만 7000명분 코로나19 백신 국내 첫 출하식이 진행되었습니다. SK바이오사이언스(주) 안동공장에서 정세균... \n73 : 필리핀, <b>코로나 백신</b> 접종 시작\n드디어, <b>코로나 백신</b>을 필리핀도 접종하기 시작했습니다. 첫 백신은 중국에서 온 시노백(SINOVAC)의... 거부하자 백신을 처음 맞은 사람의 사진과 함께 저런 내용을 올렸습니다. 저 글의 내용은 우리는 코로나19와... \n74 : <b>코로나백신</b>접종대상 아스트라제네카 접종1순위\n빨리 <b>코로나</b>로 부터 벗어나고 싶어진다. 정부에서 긴급으로 <b>백신</b>을 구해서 위험한 구간부터 정하여 <b>백신</b>접종을 한다는 소식이 뉴스판을 달군다. 드뎌 지역 보건소에서 <b>백신</b>접종 희망자를 접수받고 내일이면... \n75 : <b>코로나백신</b> 맞기 전후 수칙사항\n<b>코로나백신</b> 맞기 전후 수칙사항 백신이 시작이 되었습니다 이제 많은 분들이 조금은 안심을 해 보실 수 있을 것 같아요 일단은 백신을 맞기전 후 수칙 사항이 있으니 꼭 읽어 보시고 가셨으면 좋겠습니다 하루... \n76 : 임산부 <b>코로나 백신</b> 4분기부터, 면역력에 더욱 신경써야 할 때!\n임산부 백신 4분기부터, 면역력에 신경써야 할 때 임산부 <b>코로나 백신</b> 4분기부터, 면역력에 더욱 신경써야 할 때! 안심은 이르다 백신 접종 시작, 하지만 길고 길었던 코로나19의 종지부를 찍어줄 코로나 바이러스... \n77 : 한국 의사들 <b>코로나</b>19 <b>백신</b> 의무접종 반대 성명 발표, 전 국민... \n스크린샷: http://endpandemic.kr/ <b>코로나 백신</b> 의무접종 반대하는 이유 의료인들은 아래와 같은 일곱 가지 이유로 백신 의무접종에 반대합니다. 1. 코로나19 백신은 안전성이 충분히 검증되지 않았다. 2. 코로나19... \n78 : 2021 Social Buzz Insight Report - <b>코로나 백신</b> 소셜분석\n이에 에스엠투네트웍스에서는 코로나바이러스와 백신에 대한 글로벌 소셜분석을 진행하여... 온라인내에서의 <b>코로나 백신</b>에 대한 국가별 버즈량 및 버즈추이와 화이자, 아스트라제네카, 모더나... \n79 : 2월26일, <b>코로나</b>19 <b>백신</b> 첫 접종!\n백신에 대해 궁금한 사항은 성북구 홈페이지에 없는 게 없답니다! ↓↓↓ #코로나19 #<b>코로나백신</b> #아스트라제네카 #백신 #백신접종 #첫접종 #성북구청 #성북누리\n80 : 필리핀 3월 1일 <b>코로나 백신</b> 접종 시작\n이미지 출처 : Sunstar.com.ph 3월 1일 필리핀에서도 <b>코로나 백신</b> 접종이 시작되었습니다. 2월 28일 중국에서 온 60만 회분의 시노백 백신이 먼저 코로나 바이러스와 연관이 있는 직업에 해당하는 사람들의 동의... \n81 : 익산시 <b>코로나 백신</b> 접종 26일 시작 ‘이상 무’\n- 정헌율 시장, 지역예방접종센터 지정 실내체육관 현장 점검 - - 26일부터 요양병원, 의료기관 종사자부터 <b>백신</b> 접종 진행 - 익산시가 오는 26일 요양병원과 의료기관 종사자 등을 시작으로 <b>코로나</b>19 <b>백신</b>... \n82 : 2월 26일 <b>코로나 백신</b> 접종 시작! ft.아스트라제네카 백신\n(다만, 백신을 안 맞는다면 일주일에 1번 코로나19 검사를 받아야 한다고한다... 헉;;;) 그리고 접종 당일 <b>코로나 백신</b>을 거부하면 11월 이후에 다시 접종 기회가 온다고.. http://ncv.kdca.go.kr/content/cardnews_06.... \n83 : 일본 냉동고 온동 상승 <b>코로나</b>19 <b>백신</b> 1000회분 폐기! 원인은... \n코로나19 화이자 백신 172병 폐기 일본 <b>코로나 백신</b> 보관 초저온 냉동고 온도 상승으로 1천회분 폐기! 원인은 전력 부족 3월 1일 일본 병원에서 신종 코로나바이러스 감염증(코로나19) 백신을 보관하는... \n84 : 어과동!  과학법정, <b>코로나 백신</b> 흥미로운 스토리 가득하네\n과학법정, <b>코로나 백신</b> 흥미로운 스토리 가득하네 어린이 과학동아 저희 아들이 특히 과학에... 코로나19백신. 많이 알게 되고. 그래서 더 많은 희망을 갖게 합니다. 섭섭박사 실험실 아이가 제일... \n85 : 일상복귀 첫걸음 익산 ‘<b>코로나 백신</b> 접종’ 시작\n될 ‘<b>코로나</b>19 <b>백신</b>’접종을 본격 시행한다. 시는 <b>백신</b>관리부터 접종시행, 이상반응 대응까지 철저한 사점점검을 통해 시민들이 신속하고 안전하게 <b>백신</b> 접종을 마칠 수 있도록 지원할 방침이다. 한명란... \n86 : <b>코로나 백신</b> 예방접종 안내\n2ㆍ코로나19 예방백신 접종 추진 안내 ‥사진 참조 바랍니다‥ 3ㆍ2021년 저소득주민 자립지원금... 참조 바랍니다‥ 우리관내<b>코로나 백신</b> 예방접종 안내 위와같이 안내문을 문자로 보내왓어요.\n87 : &lt;<b>코로나 백신</b> 접종&gt; 순서, 횟수, 나이, 우선순위, 시기, 방법\n&lt;<b>코로나 백신</b> 접종&gt; 순서, 횟수, 나이, 우선순위, 시기, 방법 병이없는 대한민국 일반성인은 언제쯤... 대상별 #코로나19백신예방접종시기 관련사항은 제로뉴스라는 사이트에서 찾아봤는데요. 더 궁금하시면... \n88 : <b>코로나 백신</b> 선택권, 어떻게 생각하는가?\n<b>코로나 백신</b> 선택권, 어떻게 생각하는가? 영국에서는 아스트라제네카 백신과 화이자... 영국에서는 이미 인구의 4분의 1이 최소 1회차 백신을 접종한 상황에서 최근 코로나19 확진자가 감소하고 있다.... \n89 : <b>코로나 백신</b>접종 일정\n드디어 한국에 <b>코로나백신</b> 접종이 시작되었다. 소식만 들어도 마음이 한결 가볍다. 세상은 자신의... me/GMRFPSYF [이데일리 김영환 기자] 문재인 대통령은 국내 코로나19 백신 접종이 처음 시작된 26일 현장을... \n90 : 일상을 되찾기 위한 시작! 창원시 <b>코로나 백신</b> 접종 시작!\n일정한 수준의 거리두기, 마스크 착용은 필수라는 점, 잊지 마세요 ! #창원시백신 #창원백신접종 #함께이겨내요코로나19 #코로나19 #코로나19백신접종 #<b>코로나백신</b>접종시작 #마스크착용필수 #거리두기함께해요\n91 : <b>코로나 백신</b> 접종 시작\n국내에서도 <b>백신</b>을 접종을 시작했고 올해 연말쯤은 <b>코로나</b>에 대해 사회적면역체계를 형성하여 일상에 대한 감사함을 느끼고 싶네 #첫<b>백신</b>접종 #아스트로제네카 #하이자 공부를 재밌게 하기 위한... \n92 : 2021.02.28 <b>코로나 백신</b>\n것들이어서 <b>백신</b> 살포 이후 좋게 갈지 아닐지는 아무도 모른다. 생각보다 <b>코로나</b> 발병후 퇴원한 사람들 중에 후유증인지 잔류 효과인지 심각한 사람 들도 있는 듯하고 나는 맞아야 하나? 아스트라 제네카... \n93 : <b>코로나 백신</b> 예방접종을 시행했네요\n종사자 코로나 백식 접종계획 <b>코로나 백신</b>유통 '화이자 백신 수송' <b>코로나백신</b> 접종시기 <b>코로나 백신</b> 접종후 부작용 이상반응 관리 및 신속대응 하루 빨리 코로나19가 종식되기를 기원합니다 코로나 없는... \n94 : <b>코로나 백신</b> 접종\n<b>코로나 백신</b> 접종 급성 중증 알레르기 병력 땐 금지 모유수유 엄마 '금기' 없을 땐 가능 임신부·코로나 유증상자는 제외 접종간격 모더나 28·화이자 21일 AZ백신은 12주 간격 두고 접종 코로나19 백신을 맞는 날... \n95 : <b>코로나 백신</b> 접종 D-6…1차 대상자 93.8% 동의\n<b>코로나 백신</b> 접종 D-6…1차 대상자 93.8% 동의 댓글 0 세상과의 만남 2021. 2. 20. 아스트라제네카 백신. 로이터 연합뉴스 코로나19 백신인 아스트라제네카 접종이 26일부터 시작되는 가운데 1차 대상자의 93.8... \n96 : <b>코로나 백신</b>에는 감염예방보다 더한 효능이 담겨있다\n<b>코로나 백신</b>에는 감염예방보다 더한 효능이 담겨있다 원문보기: http://www.hani.co.kr/arti/science/science... 세계 코로나19 백신 접종 횟수가 2억회를 넘어섰다. 사진은 존슨앤존슨(얀센) 백신. 지난해 12월8일 세계... \n97 : <b>코로나 백신</b> &quot;화이자&quot; 예방효과 95%, 만 16세 이상 접종 허가 권고\n반응형 화이자의 신종<b>코로나</b>바이러스 감염증 <b>백신</b> &quot;코미나티주&quot;가 허가받을 만한 충분한 예방 효과가 있다는 전문가 견해가 나왔다고 한다. <b>백신</b>은 만 16~17세 청소년과 65세 이상 고령자를... \n98 : <b>코로나 백신</b>접종 후 붓기.두통.구토 흔해. 심한 아레르기 땐 119\n&quot;<b>백신</b>접종 후 붓기·구토·두통 흔해&quot;..심한 알레르기 땐 119(종합) 질병청 &quot;정상적 면역형성 과정..대부분 3일 이내 사라져&quot; 통증엔 냉찜질·진통제 복용도 도움..호흡곤란·두드러기·고열은 주의 <b>코로나</b>19 <b>백신</b>... \n99 : 나도 맞았다, <b>코로나</b>19 화이자 <b>백신</b> 주사\n반응형 세상에 코로나 바이러스가 퍼지고 , 백신이 나오는데 또 약간의 시간이 걸렸죠 . 백신이... 우리 요양원 직원들 중에 “ <b>코로나 백신</b> 주사 희망자 ” 들이 주사를 맞는다는 건 알고 있었는데 .. 나중에... \n100 : 이탈리아 의사 &quot;<b>코로나 백신</b>은 죽음이다 &quot;\n의사가 직접 나서서 <b>코로나 백신</b>은 대량학살 프로그램 이라고 밝히고, 애초에 코로나 테스트 자체부터 받지 말라 는 걸 소신있게 말하는 의사의 속 시원한 영상은 처음이라 공유해 봅니다.... \n"
     ]
    }
   ],
   "source": [
    "import urllib.request\n",
    "import json\n",
    "\n",
    "client_key='wgqAfQoTSjHIs9ty3sHX'\n",
    "client_secret='_TeHoburyv'\n",
    "\n",
    "query='코로나 백신'\n",
    "encText=urllib.parse.quote_plus(query)\n",
    "\n",
    "num=100\n",
    "naver_url='https://openapi.naver.com/v1/search/blog.json?query='+encText+'&display='+str(num)\n",
    "request=urllib.request.Request(naver_url)\n",
    "request.add_header('X-Naver-Client-Id',client_key)\n",
    "request.add_header('X-Naver-Client-Secret',client_secret)\n",
    "response=urllib.request.urlopen(request)\n",
    "rescode=response.getcode()\n",
    "if rescode==200:# 정상적으로 read됨\n",
    "    response_body=response.read()\n",
    "    dataList=json.loads(response_body)\n",
    "    count=1\n",
    "    print(query+'에 대한 네이버 블로그 글')\n",
    "    for data in dataList['items']:\n",
    "        print(count,':',data['title'])\n",
    "        print(data['description'])\n",
    "        count+=1\n",
    "else:\n",
    "    print('오류 코드:', rescode)"
   ]
  },
  {
   "cell_type": "code",
   "execution_count": 9,
   "metadata": {
    "tags": [
     "outputPrepend"
    ]
   },
   "outputs": [
    {
     "output_type": "stream",
     "name": "stdout",
     "text": [
      "15251.jpg&type=b150', 'sizeheight': '1000', 'sizewidth': '1000'}, {'title': 'e-요리 - 이마트몰, 당신과 가장 가까운 이마트 [오늘은e-요리]에그인헬 레시피, 이스라엘 가정식 샥슈카 만드는 법!', 'link': 'http://img.ssgcdn.com/trans.ssg?src=/cmpt/recipe/201703/13c1ec1e0cde438b349307a468a5eeb21.jpg&w=640&h=500&edit=c&t=4959418d965205bfea3ba7fc745c17054e70bc8f', 'thumbnail': 'https://search.pstatic.net/sunny/?src=http://img.ssgcdn.com/trans.ssg?src=/cmpt/recipe/201703/13c1ec1e0cde438b349307a468a5eeb21.jpg&w=640&h=500&edit=c&t=4959418d965205bfea3ba7fc745c17054e70bc8f&type=b150', 'sizeheight': '500', 'sizewidth': '640'}, {'title': '알고보면 부드러운 가모장 그녀를 위한 아침요리 - 샥슈카 (에그인헬) _by 핸디쿡', 'link': 'http://post.phinf.naver.net/20160519_109/1463643679430nKa7F_JPEG/IQ6O-yoEgnrvMVDzjf3U3XFOBgQM.jpg', 'thumbnail': 'https://search.pstatic.net/common/?src=http://post.phinf.naver.net/20160519_109/1463643679430nKa7F_JPEG/IQ6O-yoEgnrvMVDzjf3U3XFOBgQM.jpg&type=b150', 'sizeheight': '800', 'sizewidth': '1200'}, {'title': '한국에서 즐기는에그인헬(샥슈카) 맛집', 'link': 'http://post.phinf.naver.net/MjAxODAyMjNfMTIw/MDAxNTE5MzY5MTg2MTM0.kTIiYNJMyKksULsLkwqiVhqQY0do9XFlQoYgXZhq7h0g.9-QlzKBOLxPy4NHoXCp0FQJqUgNCSpu64Rj8-qGFHK0g.JPEG/IFNIDiKrlFd0Vhgu02vodLaZC9cE.jpg', 'thumbnail': 'https://search.pstatic.net/common/?src=http://post.phinf.naver.net/MjAxODAyMjNfMTIw/MDAxNTE5MzY5MTg2MTM0.kTIiYNJMyKksULsLkwqiVhqQY0do9XFlQoYgXZhq7h0g.9-QlzKBOLxPy4NHoXCp0FQJqUgNCSpu64Rj8-qGFHK0g.JPEG/IFNIDiKrlFd0Vhgu02vodLaZC9cE.jpg&type=b150', 'sizeheight': '961', 'sizewidth': '961'}, {'title': '샥슈카(에그인헬) - 아내의 식탁 | 식품 아이디어, 음식 요리법, 음식', 'link': 'https://i.pinimg.com/736x/d8/2c/e6/d82ce648b6874d6016099ba1b758baab.jpg', 'thumbnail': 'https://search.pstatic.net/sunny/?src=https://i.pinimg.com/736x/d8/2c/e6/d82ce648b6874d6016099ba1b758baab.jpg&type=b150', 'sizeheight': '736', 'sizewidth': '736'}, {'title': '요리 판 - 오늘은 샥슈카 샥슈카', 'link': 'http://www.dogdrip.net/dvs/b/i/16/09/17/37396208/329/881/107/2ef7d56618bfabb10f56c863f6b5dd28.jpg', 'thumbnail': 'https://search.pstatic.net/sunny/?src=http://www.dogdrip.net/dvs/b/i/16/09/17/37396208/329/881/107/2ef7d56618bfabb10f56c863f6b5dd28.jpg&type=b150', 'sizeheight': '3024', 'sizewidth': '4032'}, {'title': \"'중동식 계란요리' 샥슈카, 집에서도 간단하게 만들 수 있는 '간단 레시피'는?\", 'link': 'http://imgnews.naver.net/image/5353/2018/05/08/0000339278_001_20180508114431134.jpg', 'thumbnail': 'https://search.pstatic.net/common/?src=http://imgnews.naver.net/image/5353/2018/05/08/0000339278_001_20180508114431134.jpg&type=b150', 'sizeheight': '508', 'sizewidth': '1000'}, {'title': 'Mina 샥슈카 모로칸 토마토 소스 454g : consistent', 'link': 'http://shop1.phinf.naver.net/20210105_149/1609832332694vx8LH_JPEG/10968228395512971_265306255.jpg', 'thumbnail': 'https://search.pstatic.net/common/?src=http://shop1.phinf.naver.net/20210105_149/1609832332694vx8LH_JPEG/10968228395512971_265306255.jpg&type=b150', 'sizeheight': '1000', 'sizewidth': '1000'}, {'title': 'e-요리 - 이마트몰, 당신과 가장 가까운 이마트 [오늘은e-요리](?>?<?)내 맘대로 에그인헬 (샥슈카)', 'link': 'http://img.ssgcdn.com/trans.ssg?src=/cmpt/recipe/201904/27/c19af803b29c5df8878aa56d2f6f75d01.jpg&w=640&h=500&edit=c&t=2ea67bae6b16480e6264676d2a8154828614f9d3', 'thumbnail': 'https://search.pstatic.net/sunny/?src=http://img.ssgcdn.com/trans.ssg?src=/cmpt/recipe/201904/27/c19af803b29c5df8878aa56d2f6f75d01.jpg&w=640&h=500&edit=c&t=2ea67bae6b16480e6264676d2a8154828614f9d3&type=b150', 'sizeheight': '500', 'sizewidth': '640'}, {'title': '간단브런치 에그인헬 만드는법 (샥슈카)', 'link': 'http://post.phinf.naver.net/MjAyMDA2MTdfODMg/MDAxNTkyNDAxNzM1NDYz.I_dHiZ_6JUNBQ9PbDLb9MoZzOw2rCCIJcv2YQ4qPSZMg.AEXABsuOdcoWm9iHchEaZQomV4JLlVcBn1XOGnrnmwkg.JPEG/IDYdRbSi7tgFSKrZrNNmbOFLXJzc.jpg', 'thumbnail': 'https://search.pstatic.net/common/?src=http://post.phinf.naver.net/MjAyMDA2MTdfODMg/MDAxNTkyNDAxNzM1NDYz.I_dHiZ_6JUNBQ9PbDLb9MoZzOw2rCCIJcv2YQ4qPSZMg.AEXABsuOdcoWm9iHchEaZQomV4JLlVcBn1XOGnrnmwkg.JPEG/IDYdRbSi7tgFSKrZrNNmbOFLXJzc.jpg&type=b150', 'sizeheight': '600', 'sizewidth': '900'}, {'title': '맥주 안주 에그인헬 샥슈카 | Food, Rice, Grains', 'link': 'https://i.pinimg.com/736x/f9/39/24/f93924775af2db5aaed4c3b3684f9c00.jpg', 'thumbnail': 'https://search.pstatic.net/sunny/?src=https://i.pinimg.com/736x/f9/39/24/f93924775af2db5aaed4c3b3684f9c00.jpg&type=b150', 'sizeheight': '490', 'sizewidth': '735'}, {'title': '맥주 안주 에그인헬 샥슈카 | Food, Breakfast, Eggs', 'link': 'https://i.pinimg.com/736x/cf/6d/69/cf6d69ae37606857f7b36c057c1cf87d.jpg', 'thumbnail': 'https://search.pstatic.net/sunny/?src=https://i.pinimg.com/736x/cf/6d/69/cf6d69ae37606857f7b36c057c1cf87d.jpg&type=b150', 'sizeheight': '490', 'sizewidth': '735'}, {'title': 'e-요리 - 이마트몰, 당신과 가장 가까운 이마트 [오늘은e-요리]맛있어서 0 칼로리 에그인헬 Egg In Hell 만들기, 샥슈카 Shakshuka 만드는법', 'link': 'http://img.ssgcdn.com/trans.ssg?src=/cmpt/recipe/201907/24/4f1084b8c71b7b38ee08851b50e5247a1.jpg&w=640&h=500&edit=c&t=d8de754966152dcac9a629c2b1821c64bda1e340', 'thumbnail': 'https://search.pstatic.net/sunny/?src=http://img.ssgcdn.com/trans.ssg?src=/cmpt/recipe/201907/24/4f1084b8c71b7b38ee08851b50e5247a1.jpg&w=640&h=500&edit=c&t=d8de754966152dcac9a629c2b1821c64bda1e340&type=b150', 'sizeheight': '500', 'sizewidth': '640'}, {'title': '맥주 안주 에그인헬 샥슈카 | 요리, 토마토 소스, 소세지', 'link': 'https://i.pinimg.com/736x/16/49/60/1649602dfcd2497e30f41234a34ccbd5.jpg', 'thumbnail': 'https://search.pstatic.net/sunny/?src=https://i.pinimg.com/736x/16/49/60/1649602dfcd2497e30f41234a34ccbd5.jpg&type=b150', 'sizeheight': '490', 'sizewidth': '735'}, {'title': '샥슈카(에그인헬) - 아내의 식탁 | 식탁, 음식, 디자인 웹', 'link': 'https://i.pinimg.com/736x/c4/b1/52/c4b1529d1b6bd5bc2c347157f820bf0b.jpg', 'thumbnail': 'https://search.pstatic.net/sunny/?src=https://i.pinimg.com/736x/c4/b1/52/c4b1529d1b6bd5bc2c347157f820bf0b.jpg&type=b150', 'sizeheight': '736', 'sizewidth': '736'}, {'title': '‘1%의 우정’ 장승조의 중동계란요리 샥슈카 만들기, 간단한 중동음식 만드는법', 'link': 'http://imgnews.naver.net/image/5284/2018/05/15/20180515143808233_20180515145024799.jpg', 'thumbnail': 'https://search.pstatic.net/common/?src=http://imgnews.naver.net/image/5284/2018/05/15/20180515143808233_20180515145024799.jpg&type=b150', 'sizeheight': '531', 'sizewidth': '960'}, {'title': 'e-요리 - 이마트몰, 당신과 가장 가까운 이마트 [오늘은e-요리]에그인헬로 알려진 이스라엘 가정식 샥슈카', 'link': 'http://ui.ssgcdn.com/cmpt/recipe/201704/241505229151f7b089666388e49fa5041.jpg', 'thumbnail': 'https://search.pstatic.net/sunny/?src=http://ui.ssgcdn.com/cmpt/recipe/201704/241505229151f7b089666388e49fa5041.jpg&type=b150', 'sizeheight': '844', 'sizewidth': '1500'}, {'title': '샤크슈카/샥슈카(Shakshuka) 또는 에그인헬(Egg in hell)', 'link': 'http://post.phinf.naver.net/MjAxODA3MTFfNyAg/MDAxNTMxMjg4MDA1NjI5.0MqPfXwY_0LlBCcTQPlWS0k8hYNc3C8_RWXHzkf_sE4g.gY-e-6rbk0FyU_EI3Qdi2pY32NCV_Phn2daAV_KhaU4g.JPEG/IZPLstro1muzRglmHBHzdU-sDn-I.jpg', 'thumbnail': 'https://search.pstatic.net/common/?src=http://post.phinf.naver.net/MjAxODA3MTFfNyAg/MDAxNTMxMjg4MDA1NjI5.0MqPfXwY_0LlBCcTQPlWS0k8hYNc3C8_RWXHzkf_sE4g.gY-e-6rbk0FyU_EI3Qdi2pY32NCV_Phn2daAV_KhaU4g.JPEG/IZPLstro1muzRglmHBHzdU-sDn-I.jpg&type=b150', 'sizeheight': '675', 'sizewidth': '900'}, {'title': 'MINA Shakshuka Tomato Sauce 미나 샥슈카 토마토 마리나라 소스 26oz 2개 : 팍부넷', 'link': 'http://shop1.phinf.naver.net/20201215_61/16079650888343ByAM_JPEG/9100987498011641_1543542428.jpg', 'thumbnail': 'https://search.pstatic.net/common/?src=http://shop1.phinf.naver.net/20201215_61/16079650888343ByAM_JPEG/9100987498011641_1543542428.jpg&type=b150', 'sizeheight': '1000', 'sizewidth': '1000'}, {'title': '간단브런치 에그인헬 만드는법 (샥슈카)', 'link': 'http://post.phinf.naver.net/MjAyMDA2MTdfMTA4/MDAxNTkyNDAxNzM1NDM1.UYKeKzV2Sib58fMTSKAqZY75Yv0iKmI8Wu04Ad8kl1Eg.nJB7YxOkW-PcmlJ1Rtqy8p9-ultRUZcEFwOuaj30f5og.JPEG/IgopVk23KUDLNbzRfYrQTUUBY6eY.jpg', 'thumbnail': 'https://search.pstatic.net/common/?src=http://post.phinf.naver.net/MjAyMDA2MTdfMTA4/MDAxNTkyNDAxNzM1NDM1.UYKeKzV2Sib58fMTSKAqZY75Yv0iKmI8Wu04Ad8kl1Eg.nJB7YxOkW-PcmlJ1Rtqy8p9-ultRUZcEFwOuaj30f5og.JPEG/IgopVk23KUDLNbzRfYrQTUUBY6eY.jpg&type=b150', 'sizeheight': '600', 'sizewidth': '900'}, {'title': '간단브런치 에그인헬 만드는법 (샥슈카)', 'link': 'http://post.phinf.naver.net/MjAyMDA2MTdfMjkz/MDAxNTkyNDAxNzM1NDYx.LADUFqS50LMKcWhtzTBGVAhYPdx06mhypWM88gsul8Qg.yMlBegPQnJjXyKz1cYTxDlve-38wV6ooamMSROneNusg.JPEG/In7DTAe6bCJGUPJdOaGn-tUFU4Zw.jpg', 'thumbnail': 'https://search.pstatic.net/common/?src=http://post.phinf.naver.net/MjAyMDA2MTdfMjkz/MDAxNTkyNDAxNzM1NDYx.LADUFqS50LMKcWhtzTBGVAhYPdx06mhypWM88gsul8Qg.yMlBegPQnJjXyKz1cYTxDlve-38wV6ooamMSROneNusg.JPEG/In7DTAe6bCJGUPJdOaGn-tUFU4Zw.jpg&type=b150', 'sizeheight': '600', 'sizewidth': '900'}, {'title': '카인다쿡 달걀 브런치 요리 샥슈카 에그인헬 15분 간편 조리 홈파티 캠핑 로맨틱 와인안주 : 카인다리브', 'link': 'http://shop1.phinf.naver.net/20201214_247/1607956991374svtwo_JPEG/9092771091377488_2072369341.jpg', 'thumbnail': 'https://search.pstatic.net/common/?src=http://shop1.phinf.naver.net/20201214_247/1607956991374svtwo_JPEG/9092771091377488_2072369341.jpg&type=b150', 'sizeheight': '1000', 'sizewidth': '1000'}, {'title': '해연갤 - ㅃ 붕붕이 샥슈카(에그인헬) 만들엇서', 'link': 'https://1.gall-img.com/hygall/files/attach/images/82/274/372/138/6029841f9af7dc4b6629de2acfcc908e.jpg', 'thumbnail': 'https://search.pstatic.net/sunny/?src=https://1.gall-img.com/hygall/files/attach/images/82/274/372/138/6029841f9af7dc4b6629de2acfcc908e.jpg&type=b150', 'sizeheight': '1000', 'sizewidth': '1000'}, {'title': '\\'짠내투어\\' 헝가리 부다페스트 브런치 카페 맛집, 6000원대 크로크무슈·샥슈카 \\'침샘 자극\\'…EXID 하니 \"진짜 맛있어!\"', 'link': 'http://imgnews.naver.net/image/5353/2018/12/22/0000468895_001_20181222231908650.jpg', 'thumbnail': 'https://search.pstatic.net/common/?src=http://imgnews.naver.net/image/5353/2018/12/22/0000468895_001_20181222231908650.jpg&type=b150', 'sizeheight': '561', 'sizewidth': '1000'}, {'title': 'e-요리 - 이마트몰, 당신과 가장 가까운 이마트 [오늘은e-요리]에그인헬로 알려진 이스라엘 가정식 샥슈카', 'link': 'http://ui.ssgcdn.com/cmpt/recipe/201704/d74aed794e80cc1a838403702e3e41f91.jpg', 'thumbnail': 'https://search.pstatic.net/sunny/?src=http://ui.ssgcdn.com/cmpt/recipe/201704/d74aed794e80cc1a838403702e3e41f91.jpg&type=b150', 'sizeheight': '844', 'sizewidth': '1500'}, {'title': \"세븐스프링스, '비프 샥슈카' 등 새 메뉴 7종 출시\", 'link': 'http://imgnews.naver.net/image/079/2014/08/11/20140811113558854232_99_20140811113903.jpg', 'thumbnail': 'https://search.pstatic.net/common/?src=http://imgnews.naver.net/image/079/2014/08/11/20140811113558854232_99_20140811113903.jpg&type=b150', 'sizeheight': '333', 'sizewidth': '500'}, {'title': '날백수 점심 ㅡ 샥슈카( 에그인헬 ) - DogDrip.Net 개드립', 'link': 'https://www.dogdrip.net/dvs/c/18/12/19/dd38598df276b0367ac115ea3600587f.jpg', 'thumbnail': 'https://search.pstatic.net/sunny/?src=https://www.dogdrip.net/dvs/c/18/12/19/dd38598df276b0367ac115ea3600587f.jpg&type=b150', 'sizeheight': '465', 'sizewidth': '827'}, {'title': '\\'짠내투어\\' 헝가리 부다페스트 브런치 카페 맛집, 6000원대 크로크무슈·샥슈카 \\'침샘 자극\\'…EXID 하니 \"진짜 맛있어!\"', 'link': 'http://imgnews.naver.net/image/5353/2018/12/22/0000468895_002_20181222231908682.jpg', 'thumbnail': 'https://search.pstatic.net/common/?src=http://imgnews.naver.net/image/5353/2018/12/22/0000468895_002_20181222231908682.jpg&type=b150', 'sizeheight': '561', 'sizewidth': '1000'}, {'title': ' 4월 셋째주 음식일기 - 샥슈카 ', 'link': 'http://post.phinf.naver.net/MjAxNzA0MTlfNzgg/MDAxNDkyNTM3MDE3MzQ5.GpkHQUh7nrxmm7OE4N1jUIdFjUmZr69Mnesrh5uuRlYg.-GBNb9GWGFSAEvrHCrnkI7uCUeuwgajRb66bcUd_f8kg.JPEG/IClXw8WpgbRX1uYcY8UxCsJViF0s.jpg', 'thumbnail': 'https://search.pstatic.net/common/?src=http://post.phinf.naver.net/MjAxNzA0MTlfNzgg/MDAxNDkyNTM3MDE3MzQ5.GpkHQUh7nrxmm7OE4N1jUIdFjUmZr69Mnesrh5uuRlYg.-GBNb9GWGFSAEvrHCrnkI7uCUeuwgajRb66bcUd_f8kg.JPEG/IClXw8WpgbRX1uYcY8UxCsJViF0s.jpg&type=b150', 'sizeheight': '900', 'sizewidth': '600'}, {'title': '에그인헬 | 샥슈카 | 음식 갤러리 | 루리웹 모바일', 'link': 'https://i1.ruliweb.com/img/17/07/29/15d8e5b337d375d26.png', 'thumbnail': 'https://search.pstatic.net/sunny/?src=https://i1.ruliweb.com/img/17/07/29/15d8e5b337d375d26.png&type=b150', 'sizeheight': '533', 'sizewidth': '947'}, {'title': '에그인헬 | 샥슈카 | 음식 갤러리 | 루리웹 모바일', 'link': 'https://i1.ruliweb.com/img/17/07/29/15d8e5c5e1a375d26.png', 'thumbnail': 'https://search.pstatic.net/sunny/?src=https://i1.ruliweb.com/img/17/07/29/15d8e5c5e1a375d26.png&type=b150', 'sizeheight': '533', 'sizewidth': '947'}, {'title': '\\'짠내투어\\' 헝가리 부다페스트 브런치 카페 맛집, 6000원대 크로크무슈·샥슈카 \\'침샘 자극\\'…EXID 하니 \"진짜 맛있어!\"', 'link': 'http://imgnews.naver.net/image/5353/2018/12/22/0000468895_003_20181222231908712.jpg', 'thumbnail': 'https://search.pstatic.net/common/?src=http://imgnews.naver.net/image/5353/2018/12/22/0000468895_003_20181222231908712.jpg&type=b150', 'sizeheight': '561', 'sizewidth': '1000'}, {'title': '외방커뮤니티 > 요리방 > 주말 아침은 샥슈카 ', 'link': 'https://s23.postimg.org/mk0l5ccu3/IMG_1951.jpg', 'thumbnail': 'https://search.pstatic.net/sunny/?src=https://s23.postimg.org/mk0l5ccu3/IMG_1951.jpg&type=b150', 'sizeheight': '800', 'sizewidth': '1066'}, {'title': '365 Everyday Shakshuka Simmer Sauce 샥슈카 소스 미디엄 709g : 여우도깨비', 'link': 'http://shop1.phinf.naver.net/20201102_289/16043179550629p5q3_JPEG/5453738771808286_1512450066.jpg', 'thumbnail': 'https://search.pstatic.net/common/?src=http://shop1.phinf.naver.net/20201102_289/16043179550629p5q3_JPEG/5453738771808286_1512450066.jpg&type=b150', 'sizeheight': '1000', 'sizewidth': '1000'}, {'title': '(대기자료) 샥슈카 곧 완성댐 - 행복한 유머, 웃긴대학에 오셨습니다 !!', 'link': 'http://t.huv.kr/thumb_crop_resize.php?url=http://c.huv.kr/c/be/becb2834c00d180eb5153f7a67220f438da6b101.jpg?SIZE=870x653', 'thumbnail': 'https://search.pstatic.net/sunny/?src=http://t.huv.kr/thumb_crop_resize.php?url=http://c.huv.kr/c/be/becb2834c00d180eb5153f7a67220f438da6b101.jpg?SIZE=870x653&type=b150', 'sizeheight': '653', 'sizewidth': '870'}, {'title': '한국에서 즐기는에그인헬(샥슈카) 맛집', 'link': 'http://post.phinf.naver.net/MjAxODAyMjNfMTgy/MDAxNTE5MzY5MTg2MDEz.8pMiOWFXacOYyOV9vGARu5jw3obkfGH99PN32JG77g0g.nQf1bQsc2St0DgZyNlymq3uWwag8NMTasDr2esmfQ80g.JPEG/IDz0tybQSc9bWPGQqWZjM2fAUJ4s.jpg', 'thumbnail': 'https://search.pstatic.net/common/?src=http://post.phinf.naver.net/MjAxODAyMjNfMTgy/MDAxNTE5MzY5MTg2MDEz.8pMiOWFXacOYyOV9vGARu5jw3obkfGH99PN32JG77g0g.nQf1bQsc2St0DgZyNlymq3uWwag8NMTasDr2esmfQ80g.JPEG/IDz0tybQSc9bWPGQqWZjM2fAUJ4s.jpg&type=b150', 'sizeheight': '961', 'sizewidth': '961'}, {'title': '에그인헬 | 샥슈카 | 음식 갤러리 | 루리웹 모바일', 'link': 'https://i1.ruliweb.com/img/17/07/29/15d8e5af24a375d26.png', 'thumbnail': 'https://search.pstatic.net/sunny/?src=https://i1.ruliweb.com/img/17/07/29/15d8e5af24a375d26.png&type=b150', 'sizeheight': '533', 'sizewidth': '947'}, {'title': '겨울과 잘 어울리는 따뜻한 한 그릇! 스튜 레시피 모음☆', 'link': 'http://post.phinf.naver.net/MjAyMDEyMjNfMTU4/MDAxNjA4NzA2MjMwODc4.zvT9j4Ridzuf8_p1DZgkLDN0z6niqZZwpJ3WRIcU9egg.6QP9Wu6DzfPcQN9WMxu-kIrrAj8d70mtvoVUvHJOg2Mg.JPEG/IugB6TGjF_6mHTACwGyVC3RftlRQ.jpg', 'thumbnail': 'https://search.pstatic.net/common/?src=http://post.phinf.naver.net/MjAyMDEyMjNfMTU4/MDAxNjA4NzA2MjMwODc4.zvT9j4Ridzuf8_p1DZgkLDN0z6niqZZwpJ3WRIcU9egg.6QP9Wu6DzfPcQN9WMxu-kIrrAj8d70mtvoVUvHJOg2Mg.JPEG/IugB6TGjF_6mHTACwGyVC3RftlRQ.jpg&type=b150', 'sizeheight': '1080', 'sizewidth': '1920'}, {'title': 'e-요리 - 이마트몰, 당신과 가장 가까운 이마트 [오늘은e-요리]샥슈카(에그인헬)', 'link': 'http://static.ssgcdn.com/cmpt/recipe/201802/60a24f6a237500fc54709263f662eafa1.jpg', 'thumbnail': 'https://search.pstatic.net/sunny/?src=http://static.ssgcdn.com/cmpt/recipe/201802/60a24f6a237500fc54709263f662eafa1.jpg&type=b150', 'sizeheight': '1500', 'sizewidth': '1125'}, {'title': '지옥에 빠진 계란(에그인헬) 샥슈카 만드는 법, 겸요리TV - kakaoTV 지옥에 빠진 계란(에그인헬) 샥슈카 만드는 법, 겸요리TV', 'link': 'http://t1.daumcdn.net/tvpot/thumb/v64c47214WX18D4EPU2Z1ZW/thumb.png?time=1512881502830', 'thumbnail': 'https://search.pstatic.net/sunny/?src=http://t1.daumcdn.net/tvpot/thumb/v64c47214WX18D4EPU2Z1ZW/thumb.png?time=1512881502830&type=b150', 'sizeheight': '480', 'sizewidth': '854'}, {'title': '에그인헬 | 샥슈카 | 음식 갤러리 | 루리웹 모바일', 'link': 'https://i1.ruliweb.com/img/17/07/29/15d8e491023375d26.png', 'thumbnail': 'https://search.pstatic.net/sunny/?src=https://i1.ruliweb.com/img/17/07/29/15d8e491023375d26.png&type=b150', 'sizeheight': '533', 'sizewidth': '947'}, {'title': '<레시피8공장>-요리레시피-악마의 맛_화끈한 브런치\"샥슈카_에그인 헬\" ', 'link': 'http://post.phinf.naver.net/MjAxNzA1MDhfMTAw/MDAxNDk0MjM0NTIxNjUz.nPm1iOKECbg73n2oH0WU1VqvvLxUlg-oT7NmwyMmnDcg.7QBU3UX85prjoF5U--ITMzihGu9E49eqHkhQgdhwyMcg.PNG/Iv9VL4dgGhvIddAEqMIttWCwjcB4.jpg', 'thumbnail': 'https://search.pstatic.net/common/?src=http://post.phinf.naver.net/MjAxNzA1MDhfMTAw/MDAxNDk0MjM0NTIxNjUz.nPm1iOKECbg73n2oH0WU1VqvvLxUlg-oT7NmwyMmnDcg.7QBU3UX85prjoF5U--ITMzihGu9E49eqHkhQgdhwyMcg.PNG/Iv9VL4dgGhvIddAEqMIttWCwjcB4.jpg&type=b150', 'sizeheight': '800', 'sizewidth': '800'}, {'title': '에그인헬 | 샥슈카 | 음식 갤러리 | 루리웹 모바일', 'link': 'https://i1.ruliweb.com/img/17/07/29/15d8e5b5979375d26.png', 'thumbnail': 'https://search.pstatic.net/sunny/?src=https://i1.ruliweb.com/img/17/07/29/15d8e5b5979375d26.png&type=b150', 'sizeheight': '533', 'sizewidth': '947'}, {'title': '한국에서 즐기는에그인헬(샥슈카) 맛집', 'link': 'http://post.phinf.naver.net/MjAxODAyMjNfMjgy/MDAxNTE5MzY5MTg1OTg4.AQ-J1aQNmEHRnPQvmd23ONCOU346jyMpROlLdhNVmG4g.tEi9HYwhlulbmnEqBhJJh1reh7vqTSz6Rz3tckIxw20g.JPEG/I2umQlwSBQJstiTR1m00oDN5KDBU.jpg', 'thumbnail': 'https://search.pstatic.net/common/?src=http://post.phinf.naver.net/MjAxODAyMjNfMjgy/MDAxNTE5MzY5MTg1OTg4.AQ-J1aQNmEHRnPQvmd23ONCOU346jyMpROlLdhNVmG4g.tEi9HYwhlulbmnEqBhJJh1reh7vqTSz6Rz3tckIxw20g.JPEG/I2umQlwSBQJstiTR1m00oDN5KDBU.jpg&type=b150', 'sizeheight': '961', 'sizewidth': '961'}, {'title': '요리 - 오늘 점심은 샥슈카!', 'link': 'https://www.dmitory.com/files/attach/images/18742/448/657/006/3e4a6594ae0276a7e55d4bd7241f87f0.jpg', 'thumbnail': 'https://search.pstatic.net/sunny/?src=https://www.dmitory.com/files/attach/images/18742/448/657/006/3e4a6594ae0276a7e55d4bd7241f87f0.jpg&type=b150', 'sizeheight': '864', 'sizewidth': '1314'}, {'title': '비프 에그인헬+바게트빵 밀키트 갬성캠핑 커플 기념일 브런치 샥슈카 외국요리 쿠킹박스 : 디다보다', 'link': 'http://shop1.phinf.naver.net/20210107_163/16100285582750tEUU_JPEG/11164446979854205_47614745.jpg', 'thumbnail': 'https://search.pstatic.net/common/?src=http://shop1.phinf.naver.net/20210107_163/16100285582750tEUU_JPEG/11164446979854205_47614745.jpg&type=b150', 'sizeheight': '1000', 'sizewidth': '1000'}, {'title': '요리 - 오늘 점심은 샥슈카!', 'link': 'https://www.dmitory.com/files/attach/images/18742/448/657/006/10d97bb535ba6113bbb74cd6e2e7330c.jpg', 'thumbnail': 'https://search.pstatic.net/sunny/?src=https://www.dmitory.com/files/attach/images/18742/448/657/006/10d97bb535ba6113bbb74cd6e2e7330c.jpg&type=b150', 'sizeheight': '1836', 'sizewidth': '2449'}, {'title': '[TV 레시피]편의점을 털어라, 세계 길거리 음식 편털식! 샥슈카부터 야키소바빵, 팟타이까지 편의점 레시피 공개', 'link': 'http://imgnews.naver.net/image/5426/2017/05/14/0000002975_003_20170514124935735.JPG', 'thumbnail': 'https://search.pstatic.net/common/?src=http://imgnews.naver.net/image/5426/2017/05/14/0000002975_003_20170514124935735.JPG&type=b150', 'sizeheight': '305', 'sizewidth': '600'}, {'title': '에그엔헬 샥슈카 ', 'link': 'https://g-grafolio.pstatic.net/20200323_26/1584930819756S6cjJ_JPEG/illust_111.jpg?type=w896_4', 'thumbnail': 'https://search.pstatic.net/common/?src=https://g-grafolio.pstatic.net/20200323_26/1584930819756S6cjJ_JPEG/illust_111.jpg?type=w896_4&type=b150', 'sizeheight': '800', 'sizewidth': '896'}, {'title': 'e-요리 - 이마트몰, 당신과 가장 가까운 이마트 [오늘은e-요리]샥슈카(에그인헬)만들기 소세지 듬뿍 넣고 만든 맥주안주', 'link': 'http://img.ssgcdn.com/trans.ssg?src=/cmpt/recipe/201905/29/3538c5b74ca62dcf468f369905eb3be11.jpg&w=640&h=500&edit=c&t=63baeb54a00c574475fcc11d930a485dfabc7fb3', 'thumbnail': 'https://search.pstatic.net/sunny/?src=http://img.ssgcdn.com/trans.ssg?src=/cmpt/recipe/201905/29/3538c5b74ca62dcf468f369905eb3be11.jpg&w=640&h=500&edit=c&t=63baeb54a00c574475fcc11d930a485dfabc7fb3&type=b150', 'sizeheight': '500', 'sizewidth': '640'}, {'title': '연말 파티 맥주 페어링', 'link': 'http://post.phinf.naver.net/MjAyMDEyMTdfOTkg/MDAxNjA4MTY5MzQ5OTEz.y5GU3XI2IAAOys8C4SLgQN25VASJ67Eb9INzFEPgjgsg.tCEz_VId4QX_El-OKCousT2gVi0uisUJteEG2uClkbwg.JPEG/IJILjHgPJtIGUE-qS7_VLzlcvSpU.jpg', 'thumbnail': 'https://search.pstatic.net/common/?src=http://post.phinf.naver.net/MjAyMDEyMTdfOTkg/MDAxNjA4MTY5MzQ5OTEz.y5GU3XI2IAAOys8C4SLgQN25VASJ67Eb9INzFEPgjgsg.tCEz_VId4QX_El-OKCousT2gVi0uisUJteEG2uClkbwg.JPEG/IJILjHgPJtIGUE-qS7_VLzlcvSpU.jpg&type=b150', 'sizeheight': '519', 'sizewidth': '850'}]}\n"
     ]
    }
   ],
   "source": [
    "#이미지 검색\n",
    "client_key='wgqAfQoTSjHIs9ty3sHX'\n",
    "client_secret='_TeHoburyv'\n",
    "\n",
    "query='샥슈카'\n",
    "encText=urllib.parse.quote_plus(query)\n",
    "\n",
    "num=100\n",
    "naver_url='https://openapi.naver.com/v1/search/image.json?query='+encText+'&display='+str(num)\n",
    "request=urllib.request.Request(naver_url)\n",
    "request.add_header('X-Naver-Client-Id',client_key)\n",
    "request.add_header('X-Naver-Client-Secret',client_secret)\n",
    "response=urllib.request.urlopen(request)\n",
    "rescode=response.getcode()\n",
    "if rescode==200:# 정상적으로 read됨\n",
    "    response_body=response.read()\n",
    "    dataList=json.loads(response_body)\n",
    "    print(dataList)"
   ]
  },
  {
   "cell_type": "code",
   "execution_count": 13,
   "metadata": {},
   "outputs": [
    {
     "output_type": "stream",
     "name": "stdout",
     "text": [
      "[2021-03-05 10:49:17.397233] Url Request Success\n",
      "[2021-03-05 10:49:17.628614] Url Request Success\n",
      "[2021-03-05 10:49:17.861008] Url Request Success\n",
      "[2021-03-05 10:49:18.113338] Url Request Success\n",
      "[2021-03-05 10:49:18.357194] Url Request Success\n",
      "[2021-03-05 10:49:18.593910] Url Request Success\n",
      "[2021-03-05 10:49:18.859343] Url Request Success\n",
      "[2021-03-05 10:49:19.128689] Url Request Success\n",
      "[2021-03-05 10:49:19.386017] Url Request Success\n",
      "[2021-03-05 10:49:19.664788] Url Request Success\n",
      "HTTP Error 400: Bad Request\n",
      "[2021-03-05 10:49:19.783484] Error for URL: https://openapi.naver.com/v1/search/news.json?query=%EB%B0%B1%EC%8B%A0&start=1001&display=100\n",
      "백신_naver_news.json SAVED\n"
     ]
    }
   ],
   "source": [
    "#Naver API 사용(검색)\n",
    "import urllib.request\n",
    "import datetime\n",
    "import time\n",
    "import json\n",
    "\n",
    "#[CODE1]\n",
    "def get_request_url(url):\n",
    "    req=urllib.request.Request(url)\n",
    "    req.add_header(\"X-Naver-Client-Id\", 'wgqAfQoTSjHIs9ty3sHX')\n",
    "    req.add_header(\"X-Naver-Client-Secret\", '_TeHoburyv')\n",
    "    \n",
    "    try:\n",
    "        response=urllib.request.urlopen(req)\n",
    "        if response.getcode()==200:\n",
    "            print(\"[%s] Url Request Success\" % datetime.datetime.now())\n",
    "            return response.read().decode('utf-8')\n",
    "    except Exception as e:\n",
    "        print(e)\n",
    "        print(\"[%s] Error for URL: %s\" % (datetime.datetime.now(),url))\n",
    "        return None\n",
    "#[CODE2]\n",
    "def getNaverSearchResult(sNode, search_text, page_start, display):\n",
    "    base=\"https://openapi.naver.com/v1/search\"\n",
    "    node = \"/%s.json\" % sNode\n",
    "    parameters=\"?query=%s&start=%s&display=%s\" % (urllib.parse.quote(search_text), page_start, display)\n",
    "    url=base+node+parameters\n",
    "\n",
    "    retData=get_request_url(url)\n",
    "\n",
    "    if(retData==None):\n",
    "        return None\n",
    "    else:\n",
    "        return json.loads(retData)\n",
    "#[CODE3]\n",
    "def getPostData(post, jsonResult):\n",
    "    title=post['title']\n",
    "    description=post['description']\n",
    "    org_link=post['originallink']\n",
    "    link=post['link']\n",
    "\n",
    "    pDate = datetime.datetime.strptime(post['pubDate'], '%a, %d %b %Y %H:%M:%S +0900')\n",
    "    pDate = pDate.strftime('%Y-%m-%d %H:%M:%S')\n",
    "\n",
    "    jsonResult.append({'title':title, 'description':description, 'org_link':org_link, 'link':link, 'pDate':pDate})\n",
    "    return\n",
    "\n",
    "def main():\n",
    "    jsonResult=[]\n",
    "    #'news', 'blog', 'cafearticle'\n",
    "    sNode='news'\n",
    "    search_text='백신'\n",
    "    display_count=100\n",
    "\n",
    "    jsonSearch=getNaverSearchResult(sNode, search_text, 1, display_count)\n",
    "\n",
    "    while((jsonSearch !=None) and (jsonSearch['display']!=0)):\n",
    "        for post in jsonSearch['items']:\n",
    "            getPostData(post, jsonResult)\n",
    "        \n",
    "        nStart = jsonSearch['start']+jsonSearch['display']\n",
    "        jsonSearch=getNaverSearchResult(sNode, search_text, nStart, display_count)\n",
    "\n",
    "    with open('%s_naver_%s.json' % (search_text, sNode), 'w', encoding='utf8') as outfile:\n",
    "        retJson = json.dumps(jsonResult, indent=4, sort_keys=True, ensure_ascii=False)\n",
    "        outfile.write(retJson)\n",
    "    \n",
    "    print('%s_naver_%s.json SAVED' % (search_text, sNode))\n",
    "\n",
    "main()\n",
    "\n",
    "\n",
    "\n",
    "    "
   ]
  },
  {
   "cell_type": "code",
   "execution_count": 14,
   "metadata": {},
   "outputs": [
    {
     "output_type": "stream",
     "name": "stdout",
     "text": [
      "{\"message\":{\"@type\":\"response\",\"@service\":\"naverservice.nmt.proxy\",\"@version\":\"1.0.0\",\"result\":{\"srcLangType\":\"ko\",\"tarLangType\":\"en\",\"translatedText\":\"Scraping with a Web browser\",\"engineType\":\"N2MT\",\"pivot\":null}}}\n"
     ]
    }
   ],
   "source": [
    "#naver Papago API\n",
    "import urllib.request\n",
    "client_key='MDgnFXvycUIEkiPFD31c'\n",
    "client_secret='Cr2ljoNCsJ'\n",
    "\n",
    "encText=urllib.parse.quote(\"웹 브라우저를 이용한 스크레이핑\")\n",
    "data=\"source=ko&target=en&text=\"+encText\n",
    "url = \"https://openapi.naver.com/v1/papago/n2mt\"\n",
    "\n",
    "request = urllib.request.Request(url)\n",
    "\n",
    "request.add_header('X-Naver-Client-Id',client_key)\n",
    "request.add_header('X-Naver-Client-Secret',client_secret)\n",
    "response=urllib.request.urlopen(request, data=data.encode(\"utf-8\"))\n",
    "rescode=response.getcode()\n",
    "if rescode==200:# 정상적으로 read됨\n",
    "    response_body=response.read()\n",
    "    print(response_body.decode('utf-8'))\n",
    "else:\n",
    "    print('Error Code:', + rescode)"
   ]
  },
  {
   "cell_type": "code",
   "execution_count": null,
   "metadata": {},
   "outputs": [],
   "source": []
  }
 ]
}