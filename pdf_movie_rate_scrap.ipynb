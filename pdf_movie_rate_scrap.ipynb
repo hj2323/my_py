{
 "cells": [
  {
   "cell_type": "code",
   "execution_count": 2,
   "metadata": {},
   "outputs": [],
   "source": [
    "#pip install pdfminder3k\n",
    "#pdf 문서 읽기\n",
    "\n",
    "from pdfminer.pdfinterp import PDFResourceManager, process_pdf\n",
    "from pdfminer.converter import TextConverter\n",
    "from pdfminer.layout import LAParams\n",
    "from io import StringIO\n",
    "from io import open\n",
    "from urllib.request import urlopen"
   ]
  },
  {
   "cell_type": "code",
   "execution_count": 3,
   "metadata": {},
   "outputs": [],
   "source": [
    "def readPDF(pdfFile):\n",
    "    rsrcmgr=PDFResourceManager()#pdf 리소스 관리\n",
    "    retstr=StringIO()#pdf내부의 텍스트 입출력을 위한 객체\n",
    "    laparams=LAParams()#파라미터 객체\n",
    "    #pdf 내용을 텍스트로 반환하기 위한 객체\n",
    "    device=TextConverter(rsrcmgr, retstr, laparams=laparams)\n",
    "    process_pdf(rsrcmgr, device, pdfFile)#pdf내용을 텍스트로 변환하는 작업\n",
    "    device.close()\n",
    "    content=retstr.getvalue()#리턴되는 스트링\n",
    "    retstr.close()\n",
    "    return content"
   ]
  },
  {
   "cell_type": "code",
   "execution_count": 6,
   "metadata": {},
   "outputs": [
    {
     "name": "stdout",
     "output_type": "stream",
     "text": [
      "저장되었습니다\n"
     ]
    }
   ],
   "source": [
    "pdfFile=urlopen(\"http://www.pythonscraping.com/pages/warandpeace/chapter1.pdf\")\n",
    "outputString=readPDF(pdfFile)\n",
    "#print(outputString)\n",
    "pdfFile.close()\n",
    "\n",
    "with open(\"c:/chj/data/pdf/result.txt\",'w') as f:\n",
    "    f.write(outputString)\n",
    "    print(\"저장되었습니다\")"
   ]
  },
  {
   "cell_type": "code",
   "execution_count": 23,
   "metadata": {},
   "outputs": [],
   "source": [
    "import requests\n",
    "from bs4 import BeautifulSoup\n",
    "\n",
    "movie_title=[]\n",
    "movie_point=[]\n",
    "movie_review=[]\n",
    "\n",
    "for n in range(1,6):\n",
    "    url='https://movie.naver.com/movie/point/af/list.nhn?page='+str(n)\n",
    "    html_doc=requests.get(url).text\n",
    "    #print(html_doc)\n",
    "    bs=BeautifulSoup(html_doc,'html.parser')\n",
    "    titles=bs.select('.movie')\n",
    "    points=bs.select('td.title > div > em')\n",
    "    reviews=bs.select('td.title')\n",
    "\n",
    "\n",
    "    for title in titles:\n",
    "        movie_title.append(title.text)\n",
    "    for point in points:\n",
    "        movie_point.append(point.text)\n",
    "    for review in reviews:\n",
    "        content=review.text.replace('\\n','').replace('신고','\\n')\n",
    "        movie_review.append(content)"
   ]
  },
  {
   "cell_type": "code",
   "execution_count": 24,
   "metadata": {},
   "outputs": [
    {
     "name": "stdout",
     "output_type": "stream",
     "text": [
      "미나리 8 미나리별점 - 총 10점 중8\"데이비사\" 아름답고도 향긋한 가족 이야기. \t\t\t\t\t\t\t\t\t\t\t\t\t\t\t\t\t\t\t\t\t\t\t\t\t\n",
      "\n",
      "미나리 8 미나리별점 - 총 10점 중8\"데이비사\" 아름답고도 향긋한 가족 이야기. \t\t\t\t\t\t\t\t\t\t\t\t\t\t\t\t\t\t\t\t\t\t\t\t\t\n",
      "\n",
      "미나리 8 미나리별점 - 총 10점 중8\"데이비사\" 아름답고도 향긋한 가족 이야기. \t\t\t\t\t\t\t\t\t\t\t\t\t\t\t\t\t\t\t\t\t\t\t\t\t\n",
      "\n",
      "미나리 10 미나리별점 - 총 10점 중10\n",
      "\n",
      "극장판 귀멸의 칼날: 무한열차편 10 극장판 귀멸의 칼날: 무한열차편별점 - 총 10점 중10지금까지 본 애니메이션 영화 중에 최고였어요 ...마지막은 눈물이 멈추지 못 했어요 ㅠㅠ \t\t\t\t\t\t\t\t\t\t\t\t\t\t\t\t\t\t\t\t\t\t\t\t\t\n",
      "\n",
      "소울 10 소울별점 - 총 10점 중10스토리가 기대했던것보다 너무좋았고재미있었습니다! 교훈도 얻고 재미도 얻고좋았습니다^^ \t\t\t\t\t\t\t\t\t\t\t\t\t\t\t\t\t\t\t\t\t\t\t\t\t\n",
      "\n",
      "톰과 제리 9 톰과 제리별점 - 총 10점 중9재밌었어요! 트렌디한 분위기이면서도 어딘가 자꾸 그리운 마음이 들어서 독특한 느낌이었어요! 그 느낌이 전 정말 좋았어요 ^.^ 톰과제리 애니에 나왔던 조연들도 각자 적절한 역할로 등장해서 영화화를 훌륭하게 한 편이라고 생각이 들어요. 그리고 톰 너무 귀여워요 앙 ㅠㅠㅠㅠ 클로이 모레츠도 너무 사랑스러워요! 스토리는 어른이 보기에 황당한 부분이 있을 수 있지만 그게 저는 아쉽지는 않았어용 굉장한 스토리 전개를 기대하고 본 것은 아니라서요 ㅎㅎ \t\t\t\t\t\t\t\t\t\t\t\t\t\t\t\t\t\t\t\t\t\t\t\t\t\n",
      "\n",
      "극장판 귀멸의 칼날: 무한열차편 10 극장판 귀멸의 칼날: 무한열차편별점 - 총 10점 중10대박구쓴짱킹왕짱슨굿 \t\t\t\t\t\t\t\t\t\t\t\t\t\t\t\t\t\t\t\t\t\t\t\t\t\n",
      "\n",
      "극장판 귀멸의 칼날: 무한열차편 10 극장판 귀멸의 칼날: 무한열차편별점 - 총 10점 중10대박구쓴짱킹왕짱슨굿 \t\t\t\t\t\t\t\t\t\t\t\t\t\t\t\t\t\t\t\t\t\t\t\t\t\n",
      "\n",
      "소울 9 소울별점 - 총 10점 중9\n",
      "\n",
      "소울 9 소울별점 - 총 10점 중9\n",
      "\n",
      "극장판 귀멸의 칼날: 무한열차편 10 극장판 귀멸의 칼날: 무한열차편별점 - 총 10점 중10알고봐도 재밌음 너무 생동감 있고 성우분들 입체적인 연기 너무 좋았습니다ㅠㅠ 각 기술들의 작화도 기억에 남네요 훌륭한 연출이에요 \t\t\t\t\t\t\t\t\t\t\t\t\t\t\t\t\t\t\t\t\t\t\t\t\t\n",
      "\n",
      "몬스터 헌터 10 몬스터 헌터별점 - 총 10점 중10약간 중국 감성영화 \t\t\t\t\t\t\t\t\t\t\t\t\t\t\t\t\t\t\t\t\t\t\t\t\t\n",
      "\n",
      "미나리 10 미나리별점 - 총 10점 중10데이뷧 너무 커여워 ㅋㅋㅋㅋ퓌퓌~ \t\t\t\t\t\t\t\t\t\t\t\t\t\t\t\t\t\t\t\t\t\t\t\t\t\n",
      "\n",
      "승리호 10 승리호별점 - 총 10점 중10평식이 형님도 넷플릭스 결제 하셨나보네 \t\t\t\t\t\t\t\t\t\t\t\t\t\t\t\t\t\t\t\t\t\t\t\t\t\n",
      "\n",
      "아홉수 로맨스 10 아홉수 로맨스별점 - 총 10점 중10\n",
      "\n",
      "미나리 10 미나리별점 - 총 10점 중10메시지는 차치하고 감각적으로(시각, 청각) 너무 황홀했다. 영화는 가능하고, 소설은 불가능 한 것. 영화는 도달할 수 있고, 소설은 도달할 수 없는 것. 영화는 체험시킬 수 있고, 소설은 체험시킬 수 없는 것. 더 확장하면 소설 뿐 아니라 음악과 미술이라는 영역에서 필연적으로 결여될 수 밖에 없는 요소를 한데 결부해 체험시켜 줄 수 있는 예술적 수단이 영화이다. 그래서 영화가 체험자의 체험적인 차원에서 그 느낌이 가장 강렬한 것이고. 그리고 이 지점에서 미나리는 더할 나위 없이 영화적이었고 예술적이었다. \t\t\t\t\t\t\t\t\t\t\t\t\t\t\t\t\t\t\t\t\t\t\t\t\t\n",
      "\n",
      "미나리 8 미나리별점 - 총 10점 중8\n",
      "\n",
      "미나리 8 미나리별점 - 총 10점 중8\n",
      "\n",
      "미나리 8 미나리별점 - 총 10점 중8\n",
      "\n",
      "미나리 9 미나리별점 - 총 10점 중9알싸하고 울컥하지만, 푸근한 봄내음 듬뿍담긴 미나리의 향기 \t\t\t\t\t\t\t\t\t\t\t\t\t\t\t\t\t\t\t\t\t\t\t\t\t\n",
      "\n",
      "클래식 10 클래식별점 - 총 10점 중10엄밀하게는 비극인데도.. 청춘의 행복과 인생의 긍정이 담겨있는 한국 멜로의 초걸작. 빗속을 질주하는 지혜는 젊음의 기쁨 그 자체! \t\t\t\t\t\t\t\t\t\t\t\t\t\t\t\t\t\t\t\t\t\t\t\t\t\n",
      "\n",
      "몰리스 게임 10 몰리스 게임별점 - 총 10점 중102시간 20분이 짧게 느껴짐실제 인물들을 알고보니 더 ㅎㅁㅈㅈ \t\t\t\t\t\t\t\t\t\t\t\t\t\t\t\t\t\t\t\t\t\t\t\t\t\n",
      "\n",
      "그것만이 내 세상 10 그것만이 내 세상별점 - 총 10점 중10이병헌을 보면서 진짜 못 배워먹은 복싱쟁이 같다고 생각하고 박정민을 보면서 진짜 서번트 중후군 같았음. 어색한 순간이 1도 없었음. 윤여정 연기도 진짜 최고. 잘 만들고 배우들이 잘 살린 영화 한 편임 \t\t\t\t\t\t\t\t\t\t\t\t\t\t\t\t\t\t\t\t\t\t\t\t\t\n",
      "\n",
      "우리들의 일기 8 우리들의 일기별점 - 총 10점 중81,2점은 아닌듯. 생각보다는  잼나던데.바람 보다 낫던데 \t\t\t\t\t\t\t\t\t\t\t\t\t\t\t\t\t\t\t\t\t\t\t\t\t\n",
      "\n",
      "디스터비아 1 디스터비아별점 - 총 10점 중1자기를 훔쳐봤던 애랑 사랑에 빠진다고? 사춘기 소년의 망상이 실제라고? 갑자기 비는 왜 오남? 그냥 옆집 소녀와는 공감대가 있어 사귀면 되고 옆집은 그냥 어쩌다가 살인 의심장면을 보게 되고 팽팽한 대결로 ....뭐 이런 식으로 진행되던지 나 살인자요 하고 이름표를 달고 연기하면 어떻게????아무리 영화라도 좀 제대로 만듭시다 제발 제작비 안전하게 회수할려고 상투적인 전개로 끌어간 것 같아서 너무 아쉬운 영화 ㅠㅜ \t\t\t\t\t\t\t\t\t\t\t\t\t\t\t\t\t\t\t\t\t\t\t\t\t\n",
      "\n",
      "말모이 10 말모이별점 - 총 10점 중10재밌었어요. 말이 모이는것 \t\t\t\t\t\t\t\t\t\t\t\t\t\t\t\t\t\t\t\t\t\t\t\t\t\n",
      "\n",
      "미나리 10 미나리별점 - 총 10점 중10정말 좋은 영화입니다. 감동입니다. \t\t\t\t\t\t\t\t\t\t\t\t\t\t\t\t\t\t\t\t\t\t\t\t\t\n",
      "\n",
      "새해전야 8 새해전야별점 - 총 10점 중8보고싶었던 영화인데그냥 무난하게 본거같아요코로나로 여행도 못갔는데영화보는내내 여행가고픈 생각이 드네요이연희님은 역시 예뻐요 \t\t\t\t\t\t\t\t\t\t\t\t\t\t\t\t\t\t\t\t\t\t\t\t\t\n",
      "\n",
      "소울 10 소울별점 - 총 10점 중10삶의목적이 있어야 하고 그것을 찾아야만 행복할수있는줄 알았는데, 그것이 아니라 살아가며 당연히 여겼던 것들이 선물이였고, 행복이 중요하다는걸 다시 한번 깨닫게 되었어요! 영상미도 너무좋고 힐링되는느낌이였고, 위로도 받고 용기도 얻게됐습니다 :) \t\t\t\t\t\t\t\t\t\t\t\t\t\t\t\t\t\t\t\t\t\t\t\t\t\n",
      "\n",
      "소울 10 소울별점 - 총 10점 중10역시 디즈니&픽사 거를타선이없다. 색과구도 점선면활용도 다 최상급인듯.. \t\t\t\t\t\t\t\t\t\t\t\t\t\t\t\t\t\t\t\t\t\t\t\t\t\n",
      "\n",
      "12번째 솔저 10 12번째 솔저별점 - 총 10점 중10좋은 영화입니다 추천해주고 싶네요 \t\t\t\t\t\t\t\t\t\t\t\t\t\t\t\t\t\t\t\t\t\t\t\t\t\n",
      "\n",
      "12번째 솔저 10 12번째 솔저별점 - 총 10점 중10좋은 영화입니다 추천해주고 싶네요 \t\t\t\t\t\t\t\t\t\t\t\t\t\t\t\t\t\t\t\t\t\t\t\t\t\n",
      "\n",
      "그린 북 10 그린 북별점 - 총 10점 중10제 인생 영화입니다. 정말 추천 합니다. \t\t\t\t\t\t\t\t\t\t\t\t\t\t\t\t\t\t\t\t\t\t\t\t\t\n",
      "\n",
      "그린 북 10 그린 북별점 - 총 10점 중10제 인생 영화입니다. 정말 추천 합니다. \t\t\t\t\t\t\t\t\t\t\t\t\t\t\t\t\t\t\t\t\t\t\t\t\t\n",
      "\n",
      "베일리 어게인 10 베일리 어게인별점 - 총 10점 중10\n",
      "\n",
      "새해전야 6 새해전야별점 - 총 10점 중6연말에 봤으면 좋았을텐데... \t\t\t\t\t\t\t\t\t\t\t\t\t\t\t\t\t\t\t\t\t\t\t\t\t\n",
      "\n",
      "덕구 10 덕구별점 - 총 10점 중10어린시절 누구나 기억하는 내편나의 모든걸 다 받아주신 내편할아버지 가슴에 자연스럽게 뭍혀있는기억을 다시 생각나게 하는 영화네요다시 어린시절 국민학교 때로추억을 되살아나네요 \t\t\t\t\t\t\t\t\t\t\t\t\t\t\t\t\t\t\t\t\t\t\t\t\t\n",
      "\n",
      "미나리 8 미나리별점 - 총 10점 중8음악이 잔잔하고 데이빗 넘 귀엽습니다 \t\t\t\t\t\t\t\t\t\t\t\t\t\t\t\t\t\t\t\t\t\t\t\t\t\n",
      "\n",
      "꾼 10 꾼별점 - 총 10점 중10넷플릭스에 있길래 우연히 봤는데 생각보다 넘 재밌네요. 마지막 엔딩 장면보니 시즌2도 나올것 같은데.. 제작 예정이시라면 빨리 크랭크인 해주셨으면 좋겠네요.. 넘 재밌게 봤습니다! \t\t\t\t\t\t\t\t\t\t\t\t\t\t\t\t\t\t\t\t\t\t\t\t\t\n",
      "\n"
     ]
    }
   ],
   "source": [
    "#들어온 내용 확인용\n",
    "for i in range(len(movie_title)):\n",
    "    print(movie_title[i],movie_point[i],movie_review[i])"
   ]
  },
  {
   "cell_type": "code",
   "execution_count": 31,
   "metadata": {},
   "outputs": [],
   "source": [
    "import pandas as pd\n",
    "data={'titles':movie_title, 'points':movie_point, 'reviews':movie_review}\n",
    "df=pd.DataFrame(data)\n",
    "#df\n",
    "#df.to_csv('c:/chj/data/moive.csv', index=False)"
   ]
  },
  {
   "cell_type": "code",
   "execution_count": null,
   "metadata": {},
   "outputs": [],
   "source": []
  }
 ],
 "metadata": {
  "kernelspec": {
   "display_name": "Python 3",
   "language": "python",
   "name": "python3"
  },
  "language_info": {
   "codemirror_mode": {
    "name": "ipython",
    "version": 3
   },
   "file_extension": ".py",
   "mimetype": "text/x-python",
   "name": "python",
   "nbconvert_exporter": "python",
   "pygments_lexer": "ipython3",
   "version": "3.8.5"
  }
 },
 "nbformat": 4,
 "nbformat_minor": 4
}
