{
 "cells": [
  {
   "cell_type": "code",
   "execution_count": 1,
   "metadata": {},
   "outputs": [
    {
     "name": "stdout",
     "output_type": "stream",
     "text": [
      "P g\n",
      "g m\n"
     ]
    }
   ],
   "source": [
    "#문자열의 인덱싱\n",
    "a=\"Python Programming\"\n",
    "print(a[0],a[10])\n",
    "print(a[-1],a[-5])"
   ]
  },
  {
   "cell_type": "code",
   "execution_count": 4,
   "metadata": {},
   "outputs": [
    {
     "name": "stdout",
     "output_type": "stream",
     "text": [
      "Python Programming yt Pto rgamn gnimmargorP nohtyP\n"
     ]
    }
   ],
   "source": [
    "#문자열의 슬라이싱\n",
    "print(a[:], a[1:3:], a[::2], a[::-1], a[-50:50])"
   ]
  },
  {
   "cell_type": "code",
   "execution_count": 5,
   "metadata": {},
   "outputs": [],
   "source": [
    "a='python'\n",
    "b='program'"
   ]
  },
  {
   "cell_type": "code",
   "execution_count": 8,
   "metadata": {},
   "outputs": [
    {
     "name": "stdout",
     "output_type": "stream",
     "text": [
      "pythonprogram\n",
      "pythonpython  programprogram\n",
      "True\n"
     ]
    }
   ],
   "source": [
    "print(a+b)\n",
    "print(a*2+\"  \"+b*2)\n",
    "if 'p' in a:\n",
    "    print(True)\n",
    "else:\n",
    "    print(False)"
   ]
  },
  {
   "cell_type": "code",
   "execution_count": 10,
   "metadata": {},
   "outputs": [
    {
     "name": "stdout",
     "output_type": "stream",
     "text": [
      "python3.8\n"
     ]
    }
   ],
   "source": [
    "print(a+str(3.8))"
   ]
  },
  {
   "cell_type": "code",
   "execution_count": 17,
   "metadata": {},
   "outputs": [],
   "source": [
    "a='Python Programming Process'\n",
    "b='python PROGRAMMING'"
   ]
  },
  {
   "cell_type": "code",
   "execution_count": 15,
   "metadata": {},
   "outputs": [
    {
     "name": "stdout",
     "output_type": "stream",
     "text": [
      "Program\n",
      "Program\n"
     ]
    }
   ],
   "source": [
    "print(b.title())\n",
    "print(b.capitalize())"
   ]
  },
  {
   "cell_type": "code",
   "execution_count": 21,
   "metadata": {},
   "outputs": [
    {
     "name": "stdout",
     "output_type": "stream",
     "text": [
      "26\n",
      "PYTHON PROGRAMMING PROCESS\n",
      "python programming process\n",
      "2\n",
      "True\n",
      "['Python', 'Programming', 'Process']\n"
     ]
    }
   ],
   "source": [
    "#문자열의 연산\n",
    "print(len(a))\n",
    "print(a.upper())\n",
    "print(a.lower())\n",
    "print(a.count('Pro'))\n",
    "print(a.startswith('Py'))\n",
    "str=a.split()\n",
    "print(str)"
   ]
  },
  {
   "cell_type": "code",
   "execution_count": 22,
   "metadata": {},
   "outputs": [
    {
     "name": "stdout",
     "output_type": "stream",
     "text": [
      "['010', '3333', '4545']\n"
     ]
    }
   ],
   "source": [
    "tel='010-3333-4545'\n",
    "print(tel.split('-'))"
   ]
  },
  {
   "cell_type": "code",
   "execution_count": 23,
   "metadata": {},
   "outputs": [],
   "source": [
    "a=\"\"\"\n",
    "It's Ok.\n",
    "I'm happy.\n",
    "See You\n",
    "\"\"\""
   ]
  },
  {
   "cell_type": "code",
   "execution_count": 24,
   "metadata": {},
   "outputs": [
    {
     "name": "stdout",
     "output_type": "stream",
     "text": [
      "\n",
      "It's Ok.\n",
      "I'm happy.\n",
      "See You\n",
      "\n"
     ]
    }
   ],
   "source": [
    "print(a)"
   ]
  },
  {
   "cell_type": "code",
   "execution_count": null,
   "metadata": {},
   "outputs": [],
   "source": []
  }
 ],
 "metadata": {
  "kernelspec": {
   "display_name": "Python 3",
   "language": "python",
   "name": "python3"
  },
  "language_info": {
   "codemirror_mode": {
    "name": "ipython",
    "version": 3
   },
   "file_extension": ".py",
   "mimetype": "text/x-python",
   "name": "python",
   "nbconvert_exporter": "python",
   "pygments_lexer": "ipython3",
   "version": "3.8.5"
  }
 },
 "nbformat": 4,
 "nbformat_minor": 4
}
