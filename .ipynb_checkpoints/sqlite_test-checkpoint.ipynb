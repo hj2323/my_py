{
 "cells": [
  {
   "cell_type": "code",
   "execution_count": 3,
   "metadata": {
    "scrolled": true
   },
   "outputs": [
    {
     "name": "stdout",
     "output_type": "stream",
     "text": [
      "2.6.0\n",
      "3.33.0\n"
     ]
    }
   ],
   "source": [
    "import sqlite3\n",
    "print(sqlite3.version)\n",
    "print(sqlite3.sqlite_version)"
   ]
  },
  {
   "cell_type": "code",
   "execution_count": 15,
   "metadata": {},
   "outputs": [],
   "source": [
    "def create_table():\n",
    "    conn=sqlite3.connect(\"my_books1.db\")\n",
    "    cursor=conn.cursor()\n",
    "    sql=\"\"\"create table if not exists books(\n",
    "    title text,\n",
    "    published_date text,\n",
    "    publisher text,\n",
    "    pages integer,\n",
    "    recommend integer\n",
    "    )\"\"\"\n",
    "    cursor.execute(sql)\n",
    "    conn.commit()\n",
    "    conn.close()"
   ]
  },
  {
   "cell_type": "code",
   "execution_count": 16,
   "metadata": {},
   "outputs": [],
   "source": [
    "create_table()"
   ]
  },
  {
   "cell_type": "code",
   "execution_count": 17,
   "metadata": {},
   "outputs": [],
   "source": [
    "def insert_books():\n",
    "    conn=sqlite3.connect(\"my_books1.db\")\n",
    "    cursor=conn.cursor()\n",
    "    sql=\"insert into books values('java', '2021-01-01', '길벗', 500, 10)\"\n",
    "    cursor.execute(sql)\n",
    "    sql='insert into books values(?,?,?,?,?)'\n",
    "    cursor.execute(sql,('Python','2020-01-02','한빛', 584, 20))\n",
    "    items=[\n",
    "        ('빅데이터', '2021-03-02','한빛',584,10),\n",
    "        ('안드로이드', '2021-03-02','한빛',584,30),\n",
    "        ('스프링', '2021-04-02','한빛',500,15),\n",
    "        ('데이터베이스', '2021-05-02','한빛',484,12)\n",
    "    ]\n",
    "    cursor.executemany(sql, items)\n",
    "    conn.commit()\n",
    "    conn.close()"
   ]
  },
  {
   "cell_type": "code",
   "execution_count": 18,
   "metadata": {},
   "outputs": [],
   "source": [
    "insert_books()"
   ]
  },
  {
   "cell_type": "code",
   "execution_count": 19,
   "metadata": {},
   "outputs": [],
   "source": [
    "def all_books():\n",
    "    conn=sqlite3.connect(\"my_books1.db\")\n",
    "    cursor=conn.cursor()\n",
    "    cursor.execute(\"select * from books\")\n",
    "    print('전체 데이터 출력하기')\n",
    "    books=cursor.fetchall()\n",
    "    print(type(books))\n",
    "    print(len(books))\n",
    "    for book in books:\n",
    "        print(book)\n",
    "    conn.close()"
   ]
  },
  {
   "cell_type": "code",
   "execution_count": 20,
   "metadata": {},
   "outputs": [
    {
     "name": "stdout",
     "output_type": "stream",
     "text": [
      "전체 데이터 출력하기\n",
      "<class 'list'>\n",
      "6\n",
      "('java', '2021-01-01', '길벗', 500, 10)\n",
      "('Python', '2020-01-02', '한빛', 584, 20)\n",
      "('빅데이터', '2021-03-02', '한빛', 584, 10)\n",
      "('안드로이드', '2021-03-02', '한빛', 584, 30)\n",
      "('스프링', '2021-04-02', '한빛', 500, 15)\n",
      "('데이터베이스', '2021-05-02', '한빛', 484, 12)\n"
     ]
    }
   ],
   "source": [
    "all_books()"
   ]
  },
  {
   "cell_type": "code",
   "execution_count": null,
   "metadata": {},
   "outputs": [],
   "source": []
  }
 ],
 "metadata": {
  "kernelspec": {
   "display_name": "Python 3",
   "language": "python",
   "name": "python3"
  },
  "language_info": {
   "codemirror_mode": {
    "name": "ipython",
    "version": 3
   },
   "file_extension": ".py",
   "mimetype": "text/x-python",
   "name": "python",
   "nbconvert_exporter": "python",
   "pygments_lexer": "ipython3",
   "version": "3.8.5"
  }
 },
 "nbformat": 4,
 "nbformat_minor": 4
}
