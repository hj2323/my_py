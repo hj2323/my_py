{
 "cells": [
  {
   "cell_type": "code",
   "execution_count": null,
   "metadata": {},
   "outputs": [],
   "source": [
    "#기본자료형"
   ]
  },
  {
   "cell_type": "code",
   "execution_count": 5,
   "metadata": {},
   "outputs": [
    {
     "name": "stdout",
     "output_type": "stream",
     "text": [
      "a = 1\n",
      "b = 1\n"
     ]
    }
   ],
   "source": [
    "a=1#정수형\n",
    "b=1#정수형\n",
    "print('a =',a)\n",
    "print('b =',b)"
   ]
  },
  {
   "cell_type": "code",
   "execution_count": 6,
   "metadata": {},
   "outputs": [
    {
     "name": "stdout",
     "output_type": "stream",
     "text": [
      "a = 1.5\n",
      "b = 3.5\n"
     ]
    }
   ],
   "source": [
    "a=1.5#실수형\n",
    "b=3.5#실수형\n",
    "print('a =',a)\n",
    "print('b =',b)"
   ]
  },
  {
   "cell_type": "code",
   "execution_count": 7,
   "metadata": {},
   "outputs": [
    {
     "name": "stdout",
     "output_type": "stream",
     "text": [
      "abcd ancd\n"
     ]
    }
   ],
   "source": [
    "s1='abcd'#문자형\n",
    "s2='ancd'#문자형\n",
    "print(s1, s2)"
   ]
  },
  {
   "cell_type": "code",
   "execution_count": 8,
   "metadata": {},
   "outputs": [
    {
     "name": "stdout",
     "output_type": "stream",
     "text": [
      "True False\n"
     ]
    }
   ],
   "source": [
    "#불린형\n",
    "b1=True\n",
    "b2=False\n",
    "print(b1, b2)"
   ]
  },
  {
   "cell_type": "code",
   "execution_count": 12,
   "metadata": {},
   "outputs": [
    {
     "name": "stdout",
     "output_type": "stream",
     "text": [
      "13\n",
      "7\n",
      "30\n",
      "3.3333333333333335\n",
      "3\n",
      "1\n",
      "1000\n"
     ]
    }
   ],
   "source": [
    "#간단한 연산들\n",
    "a=10\n",
    "b=3\n",
    "print(a+b)\n",
    "print(a-b)\n",
    "print(a*b)\n",
    "print(a/b)#divide\n",
    "print(a//b)#몫\n",
    "print(a%b)#나머지\n",
    "print(a**b)#a의 b승 exponent"
   ]
  },
  {
   "cell_type": "code",
   "execution_count": 16,
   "metadata": {},
   "outputs": [
    {
     "name": "stdout",
     "output_type": "stream",
     "text": [
      "abcabcabcabcabcabcabcabcabcabc\n",
      "****************************************************************************************************\n"
     ]
    }
   ],
   "source": [
    "#python의 재밋는 기능\n",
    "s=\"abc\"\n",
    "print(s*10)\n",
    "s2=\"*\"\n",
    "print(s2*100)"
   ]
  },
  {
   "cell_type": "code",
   "execution_count": 34,
   "metadata": {},
   "outputs": [
    {
     "name": "stdout",
     "output_type": "stream",
     "text": [
      "2 0\n",
      "6\n"
     ]
    }
   ],
   "source": [
    "#복합연산자\n",
    "a=1\n",
    "b=2\n",
    "a+=1\n",
    "b-=b\n",
    "print(a,b)\n",
    "a*=3\n",
    "print(a)"
   ]
  },
  {
   "cell_type": "code",
   "execution_count": null,
   "metadata": {},
   "outputs": [],
   "source": [
    "#자료형 변환"
   ]
  },
  {
   "cell_type": "code",
   "execution_count": 21,
   "metadata": {},
   "outputs": [
    {
     "name": "stdout",
     "output_type": "stream",
     "text": [
      "10\n",
      "10.0\n",
      "3\n"
     ]
    }
   ],
   "source": [
    "#float()함수: 정수형->실수형\n",
    "a=10\n",
    "print(a)\n",
    "a=float(a)\n",
    "print(a)\n",
    "a=10\n",
    "b=3\n",
    "print(a//b)"
   ]
  },
  {
   "cell_type": "code",
   "execution_count": 22,
   "metadata": {},
   "outputs": [
    {
     "name": "stdout",
     "output_type": "stream",
     "text": [
      "3.5\n",
      "3\n"
     ]
    }
   ],
   "source": [
    "#int()함수:실수형->정수형 변환\n",
    "b=3.5\n",
    "print(b)\n",
    "b=int(b)\n",
    "print(b)"
   ]
  },
  {
   "cell_type": "code",
   "execution_count": 2,
   "metadata": {},
   "outputs": [
    {
     "name": "stdout",
     "output_type": "stream",
     "text": [
      "5.5 5.5\n",
      "5.52\n",
      "7.5\n",
      "ab\n"
     ]
    }
   ],
   "source": [
    "#문자열형->숫자형 변환\n",
    "s1='5.5'\n",
    "f=float(s1)\n",
    "print(s1,f)\n",
    "print(s1+str(2))#str()함수: 숫자형-> 문자형 변환\n",
    "print(f+2)\n",
    "s1='a'\n",
    "s2='b'\n",
    "print(s1+s2)#문자열 간 덧셈은 문자열 간 단순 연결"
   ]
  },
  {
   "cell_type": "code",
   "execution_count": null,
   "metadata": {},
   "outputs": [],
   "source": [
    "#자료형 확인하기"
   ]
  },
  {
   "cell_type": "code",
   "execution_count": 28,
   "metadata": {},
   "outputs": [
    {
     "name": "stdout",
     "output_type": "stream",
     "text": [
      "<class 'int'>\n",
      "<class 'float'>\n",
      "<class 'str'>\n"
     ]
    }
   ],
   "source": [
    "#type()함수\n",
    "a=10\n",
    "b=3.5\n",
    "c='abc'\n",
    "print(type(a))\n",
    "print(type(b))\n",
    "print(type(c))"
   ]
  },
  {
   "cell_type": "code",
   "execution_count": 36,
   "metadata": {},
   "outputs": [
    {
     "name": "stdout",
     "output_type": "stream",
     "text": [
      "최혜지 20 M\n",
      "20,M\n"
     ]
    }
   ],
   "source": [
    "#print()함수\n",
    "name='최혜지'\n",
    "age=20\n",
    "gender='M'\n",
    "print(name, age, gender)\n",
    "print(age, end=\",\")# 줄바꿈 안하고 싶을 때 end 붙여줌\n",
    "print(gender)"
   ]
  },
  {
   "cell_type": "code",
   "execution_count": 38,
   "metadata": {},
   "outputs": [
    {
     "name": "stdout",
     "output_type": "stream",
     "text": [
      "3, 3.500000, python\n",
      "  3,  3.50,     python\n"
     ]
    }
   ],
   "source": [
    "#print함수 출력 형식\n",
    "a=3\n",
    "b=3.5\n",
    "c='python'\n",
    "#%d는 정수\n",
    "#%f는 실수\n",
    "#%s는 문자열\n",
    "print('%d, %f, %s' %(a, b, c))\n",
    "print('%3d, %5.2f, %10s' %(a, b, c))"
   ]
  },
  {
   "cell_type": "code",
   "execution_count": 39,
   "metadata": {},
   "outputs": [
    {
     "name": "stdout",
     "output_type": "stream",
     "text": [
      "이름을 입력하세요\n",
      "최혜지\n",
      "최혜지\n"
     ]
    }
   ],
   "source": [
    "print(\"이름을 입력하세요\")\n",
    "name=input()\n",
    "print(name)"
   ]
  },
  {
   "cell_type": "code",
   "execution_count": 41,
   "metadata": {},
   "outputs": [
    {
     "name": "stdout",
     "output_type": "stream",
     "text": [
      "나이를 입력하세요20\n",
      "20\n"
     ]
    }
   ],
   "source": [
    "age=int(input(\"나이를 입력하세요\"))\n",
    "print(age)"
   ]
  },
  {
   "cell_type": "code",
   "execution_count": 42,
   "metadata": {},
   "outputs": [
    {
     "name": "stdout",
     "output_type": "stream",
     "text": [
      "name:최혜지\n",
      "age:28\n",
      "최혜지 28\n"
     ]
    }
   ],
   "source": [
    "name=input(\"name:\")\n",
    "age=int(input(\"age:\"))\n",
    "print(name, age)"
   ]
  },
  {
   "cell_type": "code",
   "execution_count": 44,
   "metadata": {},
   "outputs": [
    {
     "name": "stdout",
     "output_type": "stream",
     "text": [
      "본 프로그램은 섭씨온도를 화씨온도로 변환하는 프로그램입니다.\n",
      "변환하고 싶은 섭씨온도를 입력하세요.32.2\n",
      "섭씨온도 :  32.2\n",
      "화씨온도 :  89.96000000000001\n",
      "화씨온도 : 89.96\n"
     ]
    }
   ],
   "source": [
    "#Fahreheit temperature converter\n",
    "print(\"본 프로그램은 섭씨온도를 화씨온도로 변환하는 프로그램입니다.\")\n",
    "Ctemp=float(input(\"변환하고 싶은 섭씨온도를 입력하세요.\"))\n",
    "print(\"섭씨온도 : \", Ctemp)\n",
    "Ftemp = (Ctemp * 1.8)+32\n",
    "print('화씨온도 : %5.2f' %(Ftemp))"
   ]
  },
  {
   "cell_type": "code",
   "execution_count": null,
   "metadata": {},
   "outputs": [],
   "source": []
  }
 ],
 "metadata": {
  "kernelspec": {
   "display_name": "Python 3",
   "language": "python",
   "name": "python3"
  },
  "language_info": {
   "codemirror_mode": {
    "name": "ipython",
    "version": 3
   },
   "file_extension": ".py",
   "mimetype": "text/x-python",
   "name": "python",
   "nbconvert_exporter": "python",
   "pygments_lexer": "ipython3",
   "version": "3.8.5"
  }
 },
 "nbformat": 4,
 "nbformat_minor": 4
}
