{
 "cells": [
  {
   "cell_type": "code",
   "execution_count": 3,
   "metadata": {
    "scrolled": true
   },
   "outputs": [
    {
     "name": "stdout",
     "output_type": "stream",
     "text": [
      "2.6.0\n",
      "3.33.0\n"
     ]
    }
   ],
   "source": [
    "import sqlite3  #python설치하면 기본적으로 있음\n",
    "print(sqlite3.version)\n",
    "print(sqlite3.sqlite_version)"
   ]
  },
  {
   "cell_type": "code",
   "execution_count": 15,
   "metadata": {},
   "outputs": [],
   "source": [
    "def create_table():\n",
    "    conn=sqlite3.connect(\"my_books1.db\")\n",
    "    cursor=conn.cursor()\n",
    "    sql=\"\"\"create table if not exists books(\n",
    "    title text,\n",
    "    published_date text,\n",
    "    publisher text,\n",
    "    pages integer,\n",
    "    recommend integer\n",
    "    )\"\"\"\n",
    "    cursor.execute(sql)\n",
    "    conn.commit()\n",
    "    conn.close()"
   ]
  },
  {
   "cell_type": "code",
   "execution_count": 16,
   "metadata": {},
   "outputs": [],
   "source": [
    "create_table()"
   ]
  },
  {
   "cell_type": "code",
   "execution_count": 40,
   "metadata": {},
   "outputs": [],
   "source": [
    "def insert_books():\n",
    "    conn=sqlite3.connect(\"my_books1.db\")\n",
    "    cursor=conn.cursor()\n",
    "    sql=\"insert into books values('java', '2021-01-01', '길벗', 500, 10)\"\n",
    "    cursor.execute(sql)\n",
    "    sql='insert into books values(?,?,?,?,?)'\n",
    "    #tuple형태로 넣어줌\n",
    "    cursor.execute(sql,('Python','2020-01-02','한빛', 584, 20))\n",
    "    #여러개의 tuple들을 넣어줌\n",
    "    items=[\n",
    "        ('빅데이터', '2021-03-02','한빛',584,10),\n",
    "        ('안드로이드', '2021-03-02','한빛',584,30),\n",
    "        ('스프링', '2021-04-02','한빛',500,15),\n",
    "        ('데이터베이스', '2021-05-02','한빛',484,12)\n",
    "    ]\n",
    "    for item in items:\n",
    "        cursor.execute(sql, item)\n",
    "    # 위 코드랑 같은말  \n",
    "    #cursor.executemany(sql, items)\n",
    "    conn.commit()\n",
    "    conn.close()"
   ]
  },
  {
   "cell_type": "code",
   "execution_count": 41,
   "metadata": {},
   "outputs": [],
   "source": [
    "insert_books()"
   ]
  },
  {
   "cell_type": "code",
   "execution_count": 42,
   "metadata": {},
   "outputs": [],
   "source": [
    "def all_books():\n",
    "    conn=sqlite3.connect(\"my_books1.db\")\n",
    "    cursor=conn.cursor()\n",
    "    cursor.execute(\"select * from books\")\n",
    "    print('전체 데이터 출력하기')\n",
    "    books=cursor.fetchall()\n",
    "    print(type(books))\n",
    "    print(len(books))\n",
    "    for book in books:\n",
    "        print(book)\n",
    "    conn.close()"
   ]
  },
  {
   "cell_type": "code",
   "execution_count": 43,
   "metadata": {},
   "outputs": [
    {
     "name": "stdout",
     "output_type": "stream",
     "text": [
      "전체 데이터 출력하기\n",
      "<class 'list'>\n",
      "6\n",
      "('java', '2021-01-01', '길벗', 500, 10)\n",
      "('Python', '2020-01-02', '한빛', 584, 20)\n",
      "('빅데이터', '2021-03-02', '한빛', 584, 10)\n",
      "('안드로이드', '2021-03-02', '한빛', 584, 30)\n",
      "('스프링', '2021-04-02', '한빛', 500, 15)\n",
      "('데이터베이스', '2021-05-02', '한빛', 484, 12)\n"
     ]
    }
   ],
   "source": [
    "all_books()"
   ]
  },
  {
   "cell_type": "code",
   "execution_count": 1,
   "metadata": {},
   "outputs": [],
   "source": [
    "#레코드 갯수 제한해서 불러오기\n",
    "def some_books(number):\n",
    "    conn=sqlite3.connect(\"my_books1.db\")\n",
    "    cursor=conn.cursor()\n",
    "    cursor.execute(\"select * from books\")\n",
    "    books=cursor.fetchmany(number)\n",
    "    for book in books:\n",
    "        print(book)\n",
    "    conn.close()"
   ]
  },
  {
   "cell_type": "code",
   "execution_count": 4,
   "metadata": {},
   "outputs": [
    {
     "name": "stdout",
     "output_type": "stream",
     "text": [
      "('java', '2021-01-01', '길벗', 500, 10)\n",
      "('Python', '2020-01-02', '한빛', 584, 20)\n",
      "('빅데이터', '2021-03-02', '한빛', 584, 10)\n",
      "('안드로이드', '2021-03-02', '한빛', 584, 30)\n"
     ]
    }
   ],
   "source": [
    "some_books(4)"
   ]
  },
  {
   "cell_type": "code",
   "execution_count": 10,
   "metadata": {},
   "outputs": [],
   "source": [
    "def one_book():\n",
    "    conn=sqlite3.connect(\"my_books1.db\")\n",
    "    cursor=conn.cursor()\n",
    "    cursor.execute(\"select * from books\")\n",
    "    book = cursor.fetchone()\n",
    "    print(type(book))\n",
    "    print(book)\n",
    "    conn.close()"
   ]
  },
  {
   "cell_type": "code",
   "execution_count": 11,
   "metadata": {},
   "outputs": [
    {
     "name": "stdout",
     "output_type": "stream",
     "text": [
      "<class 'tuple'>\n",
      "('java', '2021-01-01', '길벗', 500, 10)\n"
     ]
    }
   ],
   "source": [
    "#맨위에 있는 레코드 한개 출력\n",
    "one_book()"
   ]
  },
  {
   "cell_type": "code",
   "execution_count": 14,
   "metadata": {},
   "outputs": [],
   "source": [
    "#조건 지정 및 정렬하여 검색\n",
    "def big_books():\n",
    "    conn=sqlite3.connect(\"my_books1.db\")\n",
    "    cursor=conn.cursor()\n",
    "    cursor.execute(\"select title, pages from books where pages>500 order by pages desc\")\n",
    "    print('전체 데이터 출력하기')\n",
    "    books=cursor.fetchall()\n",
    "    print(type(books))\n",
    "    print(len(books))\n",
    "    for book in books:\n",
    "        print(book)\n",
    "    conn.close()"
   ]
  },
  {
   "cell_type": "code",
   "execution_count": 15,
   "metadata": {},
   "outputs": [
    {
     "name": "stdout",
     "output_type": "stream",
     "text": [
      "전체 데이터 출력하기\n",
      "<class 'list'>\n",
      "3\n",
      "('Python', 584)\n",
      "('빅데이터', 584)\n",
      "('안드로이드', 584)\n"
     ]
    }
   ],
   "source": [
    "big_books()"
   ]
  },
  {
   "cell_type": "code",
   "execution_count": 26,
   "metadata": {},
   "outputs": [],
   "source": [
    "#수정\n",
    "def update_books():\n",
    "    conn=sqlite3.connect(\"my_books1.db\")\n",
    "    cursor=conn.cursor()\n",
    "    sql='update books set recommend=?, pages=? where title=?'\n",
    "    cursor.execute(sql,(200, 30, 'java'))\n",
    "    conn.commit()\n",
    "    conn.close()   "
   ]
  },
  {
   "cell_type": "code",
   "execution_count": 27,
   "metadata": {},
   "outputs": [],
   "source": [
    "update_books()"
   ]
  },
  {
   "cell_type": "code",
   "execution_count": 31,
   "metadata": {},
   "outputs": [
    {
     "name": "stdout",
     "output_type": "stream",
     "text": [
      "전체 데이터 출력하기\n",
      "<class 'list'>\n",
      "6\n",
      "('java', '2021-01-01', '길벗', 30, 200)\n",
      "('Python', '2020-01-02', '한빛', 584, 20)\n",
      "('빅데이터', '2021-03-02', '한빛', 584, 10)\n",
      "('안드로이드', '2021-03-02', '한빛', 584, 30)\n",
      "('스프링', '2021-04-02', '한빛', 500, 15)\n",
      "('데이터베이스', '2021-05-02', '한빛', 484, 12)\n"
     ]
    }
   ],
   "source": [
    "all_books()"
   ]
  },
  {
   "cell_type": "code",
   "execution_count": 45,
   "metadata": {},
   "outputs": [],
   "source": [
    "#삭제\n",
    "def delete_books():\n",
    "    conn=sqlite3.connect(\"my_books1.db\")\n",
    "    cursor=conn.cursor()\n",
    "    sql=\"delete from books where title='Python'\"\n",
    "    cursor.execute(sql)\n",
    "    conn.commit()\n",
    "    conn.close()  "
   ]
  },
  {
   "cell_type": "code",
   "execution_count": 46,
   "metadata": {},
   "outputs": [],
   "source": [
    "delete_books()"
   ]
  },
  {
   "cell_type": "code",
   "execution_count": 47,
   "metadata": {},
   "outputs": [
    {
     "name": "stdout",
     "output_type": "stream",
     "text": [
      "전체 데이터 출력하기\n",
      "<class 'list'>\n",
      "5\n",
      "('java', '2021-01-01', '길벗', 500, 10)\n",
      "('빅데이터', '2021-03-02', '한빛', 584, 10)\n",
      "('안드로이드', '2021-03-02', '한빛', 584, 30)\n",
      "('스프링', '2021-04-02', '한빛', 500, 15)\n",
      "('데이터베이스', '2021-05-02', '한빛', 484, 12)\n"
     ]
    }
   ],
   "source": [
    "all_books()"
   ]
  },
  {
   "cell_type": "code",
   "execution_count": null,
   "metadata": {},
   "outputs": [],
   "source": []
  }
 ],
 "metadata": {
  "kernelspec": {
   "display_name": "Python 3",
   "language": "python",
   "name": "python3"
  },
  "language_info": {
   "codemirror_mode": {
    "name": "ipython",
    "version": 3
   },
   "file_extension": ".py",
   "mimetype": "text/x-python",
   "name": "python",
   "nbconvert_exporter": "python",
   "pygments_lexer": "ipython3",
   "version": "3.8.5"
  }
 },
 "nbformat": 4,
 "nbformat_minor": 4
}
