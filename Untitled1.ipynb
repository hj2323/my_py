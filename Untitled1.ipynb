{
 "cells": [
  {
   "cell_type": "code",
   "execution_count": 2,
   "metadata": {},
   "outputs": [
    {
     "name": "stdout",
     "output_type": "stream",
     "text": [
      "a 3\n",
      "an 3\n",
      "of 3\n",
      "press 2\n",
      "release 2\n",
      "is 2\n",
      "official 2\n",
      "the 2\n",
      "statement 1\n",
      "delivered 1\n",
      "to 1\n",
      "members 1\n",
      "news 1\n",
      "media 1\n",
      "for 1\n",
      "purpose 1\n",
      "providing 1\n",
      "information, 1\n",
      "statement, 1\n",
      "or 1\n",
      "making 1\n",
      "announcement. 1\n",
      "traditionally 1\n",
      "composed 1\n",
      "nine 1\n",
      "structural 1\n",
      "elements, 1\n",
      "including 1\n",
      "headline, 1\n",
      "introduction, 1\n",
      "body, 1\n",
      "and 1\n",
      "other 1\n",
      "information. 1\n"
     ]
    }
   ],
   "source": [
    "text=\"\"\"\n",
    "A press release is an official statement delivered to members of the news media for\n",
    "the purpose of providing information, an official statement, or making an announcement\n",
    ". A press release is traditionally composed of nine structural elements, \n",
    "including a headline, introduction, body, and other information.\n",
    "\"\"\".lower().split()\n",
    "\n",
    "from collections import defaultdict\n",
    "\n",
    "word_count = defaultdict(lambda:0)\n",
    "for word in text:\n",
    "    word_count[word]+=1\n",
    "\n",
    "from collections import OrderedDict\n",
    "for i, v in OrderedDict(sorted(word_count.items(), key=lambda t: t[1], reverse=True)).items():\n",
    "    print(i,v)"
   ]
  },
  {
   "cell_type": "code",
   "execution_count": null,
   "metadata": {},
   "outputs": [],
   "source": []
  }
 ],
 "metadata": {
  "kernelspec": {
   "display_name": "Python 3",
   "language": "python",
   "name": "python3"
  },
  "language_info": {
   "codemirror_mode": {
    "name": "ipython",
    "version": 3
   },
   "file_extension": ".py",
   "mimetype": "text/x-python",
   "name": "python",
   "nbconvert_exporter": "python",
   "pygments_lexer": "ipython3",
   "version": "3.8.5"
  }
 },
 "nbformat": 4,
 "nbformat_minor": 4
}
