{
 "cells": [
  {
   "cell_type": "code",
   "execution_count": 1,
   "metadata": {},
   "outputs": [
    {
     "name": "stdout",
     "output_type": "stream",
     "text": [
      "사각형 x의 길이: 10\n",
      "사각형 y의 길이: 20\n",
      "사각형의 넓이: 200\n"
     ]
    }
   ],
   "source": [
    "def calculate_rectangle_area(x,y):\n",
    "    return x*y\n",
    "rectangle_x=10\n",
    "rectangle_y=20\n",
    "print(\"사각형 x의 길이:\", rectangle_x)\n",
    "print(\"사각형 y의 길이:\", rectangle_y)\n",
    "\n",
    "#넓이를 구하는 함수 호출\n",
    "print(\"사각형의 넓이:\", calculate_rectangle_area(rectangle_x, rectangle_y))"
   ]
  },
  {
   "cell_type": "code",
   "execution_count": 2,
   "metadata": {},
   "outputs": [
    {
     "name": "stdout",
     "output_type": "stream",
     "text": [
      "15\n",
      "3\n"
     ]
    }
   ],
   "source": [
    "#함수의 호출 방식\n",
    "#call by value\n",
    "def f(x):\n",
    "    y=x\n",
    "    x=5\n",
    "    return x*y\n",
    "x=3\n",
    "print(f(x))\n",
    "print(x)"
   ]
  },
  {
   "cell_type": "code",
   "execution_count": 3,
   "metadata": {},
   "outputs": [
    {
     "name": "stdout",
     "output_type": "stream",
     "text": [
      "[0, 1]\n"
     ]
    }
   ],
   "source": [
    "#함수의 호출 방식\n",
    "#call by reference\n",
    "def spam(eggs):\n",
    "    eggs.append(1)\n",
    "    eggs=[2,3]\n",
    "ham=[0]\n",
    "spam(ham)\n",
    "print(ham)"
   ]
  },
  {
   "cell_type": "code",
   "execution_count": 4,
   "metadata": {},
   "outputs": [
    {
     "name": "stdout",
     "output_type": "stream",
     "text": [
      "[47.0, 74.0, 51.0, 60.0, 90.0]\n"
     ]
    }
   ],
   "source": [
    "#평균 구하기\n",
    "kor_score=[49,80,20,100,80]\n",
    "math_score=[43,60,85,30,90]\n",
    "eng_score=[49,82,48,50,100]\n",
    "midterm_score=[kor_score, math_score, eng_score]\n",
    "\n",
    "student_score=[0,0,0,0,0]\n",
    "i=0\n",
    "for subject in midterm_score:\n",
    "    for score in subject:\n",
    "        student_score[i]+=score\n",
    "        i+=1\n",
    "    i=0\n",
    "else:\n",
    "    a,b,c,d,e=student_score\n",
    "    student_average=[a/3, b/3, c/3, d/3, e/3]\n",
    "    print(student_average)"
   ]
  },
  {
   "cell_type": "code",
   "execution_count": 5,
   "metadata": {},
   "outputs": [],
   "source": [
    "#재귀함수 recursive function\n"
   ]
  },
  {
   "cell_type": "code",
   "execution_count": 6,
   "metadata": {},
   "outputs": [
    {
     "name": "stdout",
     "output_type": "stream",
     "text": [
      "HelloTeamlab, My name  is Park\n",
      "HelloTeamlab, My name  is Park\n"
     ]
    }
   ],
   "source": [
    "#함수의 인수 - 키워드 인수\n",
    "def print_something(my_name, your_name):\n",
    "    print(\"Hello{0}, My name  is {1}\".format(your_name, my_name))\n",
    "print_something(\"Park\",\"Teamlab\")\n",
    "print_something(your_name=\"Teamlab\", my_name=\"Park\")"
   ]
  },
  {
   "cell_type": "code",
   "execution_count": 7,
   "metadata": {},
   "outputs": [
    {
     "name": "stdout",
     "output_type": "stream",
     "text": [
      "HelloTeamlab, My name  is Park\n",
      "HelloTeamlab, My name  is Park\n"
     ]
    }
   ],
   "source": [
    "#함수의 인수 - 디폴트 인수\n",
    "def print_something2(my_name, your_name=\"Teamlab\"):\n",
    "    print(\"Hello{0}, My name  is {1}\".format(your_name, my_name))\n",
    "print_something2(\"Park\",\"Teamlab\")\n",
    "print_something2(\"Park\")"
   ]
  },
  {
   "cell_type": "code",
   "execution_count": 8,
   "metadata": {},
   "outputs": [
    {
     "name": "stdout",
     "output_type": "stream",
     "text": [
      "1 2 3\n",
      "6\n",
      "1 2 3 4\n",
      "10\n",
      "1 2 3 4 5\n",
      "15\n"
     ]
    }
   ],
   "source": [
    "#가변인수\n",
    "def func1(a,b,*args):\n",
    "    print(a,b,*args)\n",
    "    return a+b+sum(args)\n",
    "\n",
    "print(func1(1,2,3))\n",
    "print(func1(1,2,3,4))\n",
    "print(func1(1,2,3,4,5))"
   ]
  },
  {
   "cell_type": "code",
   "execution_count": 9,
   "metadata": {},
   "outputs": [
    {
     "name": "stdout",
     "output_type": "stream",
     "text": [
      "(1, 2, 3)\n",
      "(1, 2, [3])\n",
      "(1, 2, 3, 4)\n",
      "(1, 2, [3, 4])\n",
      "(1, 2, 3, 4, 5)\n",
      "(1, 2, [3, 4, 5])\n"
     ]
    }
   ],
   "source": [
    "#가변인수\n",
    "def func1(*args):\n",
    "    print(args)\n",
    "    x,y,*z=args\n",
    "    return x,y,z\n",
    "\n",
    "print(func1(1,2,3))\n",
    "print(func1(1,2,3,4))\n",
    "print(func1(1,2,3,4,5))"
   ]
  },
  {
   "cell_type": "code",
   "execution_count": 10,
   "metadata": {},
   "outputs": [
    {
     "name": "stdout",
     "output_type": "stream",
     "text": [
      "{'first': 1, 'second': 2, 'third': 3}\n",
      "First value is 1\n",
      "Second value is 2\n",
      "Third value is 3\n"
     ]
    }
   ],
   "source": [
    "#키워드 가변인수\n",
    "def kw_test(**kwargs):\n",
    "    print(kwargs)\n",
    "    print(\"First value is {first}\".format(**kwargs))\n",
    "    print(\"Second value is {second}\".format(**kwargs))\n",
    "    print(\"Third value is {third}\".format(**kwargs))\n",
    "kw_test(first=1, second=2, third=3)"
   ]
  },
  {
   "cell_type": "code",
   "execution_count": 12,
   "metadata": {},
   "outputs": [
    {
     "name": "stdout",
     "output_type": "stream",
     "text": [
      "28\n",
      "{'first': 3, 'second': 4, 'third': 5}\n",
      "First value is 3\n",
      "Second value is 4\n",
      "Third value is 5\n"
     ]
    }
   ],
   "source": [
    "def kwargs_test2(one,two,*args, **kwargs):\n",
    "    print(one+two+sum(args))\n",
    "    print(kwargs)\n",
    "    print(\"First value is {first}\".format(**kwargs))\n",
    "    print(\"Second value is {second}\".format(**kwargs))\n",
    "    print(\"Third value is {third}\".format(**kwargs))\n",
    "    \n",
    "kwargs_test2(1,2,3,4,5,6,7, first=3, second=4, third=5)"
   ]
  },
  {
   "cell_type": "code",
   "execution_count": null,
   "metadata": {},
   "outputs": [],
   "source": []
  }
 ],
 "metadata": {
  "kernelspec": {
   "display_name": "Python 3",
   "language": "python",
   "name": "python3"
  },
  "language_info": {
   "codemirror_mode": {
    "name": "ipython",
    "version": 3
   },
   "file_extension": ".py",
   "mimetype": "text/x-python",
   "name": "python",
   "nbconvert_exporter": "python",
   "pygments_lexer": "ipython3",
   "version": "3.8.5"
  }
 },
 "nbformat": 4,
 "nbformat_minor": 4
}
