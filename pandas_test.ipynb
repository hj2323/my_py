{
 "cells": [
  {
   "cell_type": "code",
   "execution_count": 1,
   "metadata": {},
   "outputs": [],
   "source": [
    "#pandas를 쓸때 보통 numpy랑 함께 쓴다\n",
    "import numpy as np\n",
    "import pandas as pd"
   ]
  },
  {
   "cell_type": "code",
   "execution_count": 3,
   "metadata": {},
   "outputs": [
    {
     "name": "stdout",
     "output_type": "stream",
     "text": [
      "0    4\n",
      "1    3\n",
      "2    2\n",
      "3    1\n",
      "dtype: int64\n",
      "<class 'pandas.core.series.Series'>\n",
      "RangeIndex(start=0, stop=4, step=1)\n",
      "[4 3 2 1]\n",
      "int64\n"
     ]
    }
   ],
   "source": [
    "x=pd.Series([4,3,2,1], index=['a','b','c','d'])\n",
    "print(x)\n",
    "print(type(x))\n",
    "print(x.index)\n",
    "print(x.values)\n",
    "print(x.dtype)"
   ]
  },
  {
   "cell_type": "code",
   "execution_count": 4,
   "metadata": {},
   "outputs": [
    {
     "name": "stdout",
     "output_type": "stream",
     "text": [
      "가    4\n",
      "나    3\n",
      "다    2\n",
      "라    1\n",
      "dtype: int64\n"
     ]
    }
   ],
   "source": [
    "x.index=['가','나','다','라']\n",
    "print(x)"
   ]
  },
  {
   "cell_type": "code",
   "execution_count": 6,
   "metadata": {},
   "outputs": [
    {
     "name": "stdout",
     "output_type": "stream",
     "text": [
      "가    4\n",
      "나    3\n",
      "다    2\n",
      "dtype: int64\n",
      "가    4\n",
      "다    2\n",
      "dtype: int64\n"
     ]
    }
   ],
   "source": [
    "print(x['가':'다'])\n",
    "print(x[['가','다']])"
   ]
  },
  {
   "cell_type": "code",
   "execution_count": 7,
   "metadata": {},
   "outputs": [
    {
     "name": "stdout",
     "output_type": "stream",
     "text": [
      "광주     NaN\n",
      "대구     NaN\n",
      "부산     8.0\n",
      "서울    12.0\n",
      "울산     NaN\n",
      "인천     NaN\n",
      "dtype: float64\n"
     ]
    }
   ],
   "source": [
    "x=pd.Series([7,3,4,5],index=['서울','대구','부산','울산'])\n",
    "y=pd.Series([5,3,2,4], index=['서울','인천','광주','부산'])\n",
    "print(x+y)"
   ]
  },
  {
   "cell_type": "code",
   "execution_count": 8,
   "metadata": {},
   "outputs": [
    {
     "name": "stdout",
     "output_type": "stream",
     "text": [
      "0    1\n",
      "1    2\n",
      "2    3\n",
      "3    4\n",
      "4    2\n",
      "5    3\n",
      "dtype: int64\n",
      "[1 2 3 4]\n"
     ]
    }
   ],
   "source": [
    "model=[1,2,3,4,2,3]\n",
    "c=pd.Series(model)\n",
    "print(c)\n",
    "print(pd.unique(c))"
   ]
  },
  {
   "cell_type": "code",
   "execution_count": 11,
   "metadata": {},
   "outputs": [
    {
     "name": "stdout",
     "output_type": "stream",
     "text": [
      "3    4\n",
      "4    2\n",
      "5    3\n",
      "dtype: int64\n",
      "0    4\n",
      "1    2\n",
      "2    3\n",
      "dtype: int64\n"
     ]
    }
   ],
   "source": [
    "a=c[3:6]\n",
    "print(a)\n",
    "a.index=[0,1,2]\n",
    "print(a)"
   ]
  },
  {
   "cell_type": "code",
   "execution_count": null,
   "metadata": {},
   "outputs": [],
   "source": []
  }
 ],
 "metadata": {
  "kernelspec": {
   "display_name": "Python 3",
   "language": "python",
   "name": "python3"
  },
  "language_info": {
   "codemirror_mode": {
    "name": "ipython",
    "version": 3
   },
   "file_extension": ".py",
   "mimetype": "text/x-python",
   "name": "python",
   "nbconvert_exporter": "python",
   "pygments_lexer": "ipython3",
   "version": "3.8.5"
  }
 },
 "nbformat": 4,
 "nbformat_minor": 4
}
