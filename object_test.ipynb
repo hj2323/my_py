{
 "cells": [
  {
   "cell_type": "code",
   "execution_count": 3,
   "metadata": {},
   "outputs": [],
   "source": [
    "class SoccerPlayer(object):\n",
    "    def __init__(self, name, position, back_number): # 생성자\n",
    "        self.name=name\n",
    "        self.position=position\n",
    "        self.back_number=back_number\n",
    "    def change_back_number(self, new_number):\n",
    "        print('선수의 등번호를 변경한다: From %d to %d'%(self.back_number, new_number))\n",
    "        self.back_number=new_number\n",
    "    def __str__(self):\n",
    "        return \"name is %s. I play in %s, back_number is %d\"%(self.name, self.position, self.back_number)\n",
    "        "
   ]
  },
  {
   "cell_type": "code",
   "execution_count": 4,
   "metadata": {},
   "outputs": [
    {
     "name": "stdout",
     "output_type": "stream",
     "text": [
      "name is Park. I play in MF, back_number is 10\n",
      "선수의 등번호를 변경한다: From 10 to 5\n",
      "name is Park. I play in MF, back_number is 5\n"
     ]
    }
   ],
   "source": [
    "park=SoccerPlayer('Park','MF',10)\n",
    "print(park)\n",
    "park.change_back_number(5)\n",
    "print(park)"
   ]
  },
  {
   "cell_type": "code",
   "execution_count": 6,
   "metadata": {},
   "outputs": [],
   "source": [
    "#학생 문제\n",
    "class Student(object):\n",
    "    def __init__(self, name, sno, major):\n",
    "        self.name=name\n",
    "        self.sno=sno\n",
    "        self.major=major\n",
    "    def __str__(self):\n",
    "        return \"이름: %s, 학번 : %d, 전공 : %s\"%(self.name, self.sno, self.major)\n",
    "    def change_major(self, new_major):\n",
    "        print(\"전공이 %s 에서 %s로 변경되었습니다\")\n",
    "        self.major=new_major"
   ]
  },
  {
   "cell_type": "code",
   "execution_count": 7,
   "metadata": {},
   "outputs": [
    {
     "name": "stdout",
     "output_type": "stream",
     "text": [
      "이름: 홍길동, 학번 : 1, 전공 : 컴공\n",
      "전공이 %s 에서 %s로 변경되었습니다\n",
      "이름: 홍길동, 학번 : 1, 전공 : AI응용\n"
     ]
    }
   ],
   "source": [
    "s1=Student('홍길동',1,'컴공')\n",
    "print(s1)\n",
    "s1.change_major('AI응용')\n",
    "print(s1)"
   ]
  },
  {
   "cell_type": "code",
   "execution_count": 22,
   "metadata": {},
   "outputs": [],
   "source": [
    "class Person(object):\n",
    "    def __init__(self, name, age, gender):\n",
    "        self.name=name\n",
    "        self.age=age\n",
    "        self.gender=gender\n",
    "    def about_me(self):\n",
    "        print('이름은', self.name, '이고 나이는', self.age, '성별은', self.gender,'입니다')\n",
    "    "
   ]
  },
  {
   "cell_type": "code",
   "execution_count": 23,
   "metadata": {},
   "outputs": [
    {
     "name": "stdout",
     "output_type": "stream",
     "text": [
      "이름은 홍길동 이고 나이는 30 성별은 남자 입니다\n"
     ]
    }
   ],
   "source": [
    "p1=Person('홍길동', 30, '남자')\n",
    "p1.about_me();"
   ]
  },
  {
   "cell_type": "code",
   "execution_count": 29,
   "metadata": {},
   "outputs": [],
   "source": [
    "#Person으로 부터 상속받은 Employee클래스\n",
    "class Employee(Person):\n",
    "    def __init__(self, name, age, gender, salary, hire_date):\n",
    "        super().__init__(name, age, gender)\n",
    "        self.salary=salary\n",
    "        self.hire_date=hire_date\n",
    "    def do_work(self):\n",
    "        print(\"열심히 일한다\")\n",
    "    def about_me(self):\n",
    "        super().about_me()\n",
    "        print(\"급여는\", self.salary, '입사일은', self.hire_date, '입니다')"
   ]
  },
  {
   "cell_type": "code",
   "execution_count": 30,
   "metadata": {},
   "outputs": [
    {
     "name": "stdout",
     "output_type": "stream",
     "text": [
      "열심히 일한다\n",
      "이름은 박경미 이고 나이는 30 성별은 여자 입니다\n",
      "급여는 500 입사일은 2020-01-01 입니다\n"
     ]
    }
   ],
   "source": [
    "e1=Employee('박경미',30,'여자',500,'2020-01-01')\n",
    "e1.do_work()\n",
    "e1.about_me()"
   ]
  },
  {
   "cell_type": "code",
   "execution_count": null,
   "metadata": {},
   "outputs": [],
   "source": [
    "e1.name='홍길동'\n",
    "e1.age=25\n",
    "e1.about_me()"
   ]
  },
  {
   "cell_type": "code",
   "execution_count": 26,
   "metadata": {},
   "outputs": [],
   "source": [
    "#멤버변수 가시성 제한\n",
    "class Product(object):\n",
    "    def __init__(self, pno, pname, price):\n",
    "        self.__pno=pno #자바에서 private처럼 만들어줄떄 __(underbar 2개)변수 앞에 붙임\n",
    "        self.pname=pname\n",
    "        self.price=price\n",
    "    def show(self):\n",
    "        print(self.__pno, self.pname, self.price)"
   ]
  },
  {
   "cell_type": "code",
   "execution_count": 27,
   "metadata": {},
   "outputs": [
    {
     "name": "stdout",
     "output_type": "stream",
     "text": [
      "1 노트 1000\n"
     ]
    }
   ],
   "source": [
    "p1=Product(1, '노트', 1000)\n",
    "p1.show()"
   ]
  },
  {
   "cell_type": "code",
   "execution_count": 28,
   "metadata": {},
   "outputs": [
    {
     "name": "stdout",
     "output_type": "stream",
     "text": [
      "1 연필 1000\n"
     ]
    }
   ],
   "source": [
    "p1.__pno=2\n",
    "p1.pname='연필'\n",
    "p1.show()"
   ]
  },
  {
   "cell_type": "code",
   "execution_count": null,
   "metadata": {},
   "outputs": [],
   "source": []
  }
 ],
 "metadata": {
  "kernelspec": {
   "display_name": "Python 3",
   "language": "python",
   "name": "python3"
  },
  "language_info": {
   "codemirror_mode": {
    "name": "ipython",
    "version": 3
   },
   "file_extension": ".py",
   "mimetype": "text/x-python",
   "name": "python",
   "nbconvert_exporter": "python",
   "pygments_lexer": "ipython3",
   "version": "3.8.5"
  }
 },
 "nbformat": 4,
 "nbformat_minor": 4
}
