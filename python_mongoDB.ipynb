{
 "cells": [
  {
   "cell_type": "code",
   "execution_count": 11,
   "metadata": {},
   "outputs": [],
   "source": [
    "from pymongo import MongoClient\n",
    "#client를 통해서 mongoDB에 연결"
   ]
  },
  {
   "cell_type": "code",
   "execution_count": 12,
   "metadata": {},
   "outputs": [],
   "source": [
    "client = MongoClient('localhost',27017) #클래스 객체 할당\n",
    "#27017 몽고디비의 포트 번호 "
   ]
  },
  {
   "cell_type": "code",
   "execution_count": 13,
   "metadata": {},
   "outputs": [],
   "source": [
    "db=client['chj']\n",
    "collection=db['employees']\n",
    "collection=db.employees"
   ]
  },
  {
   "cell_type": "code",
   "execution_count": 14,
   "metadata": {},
   "outputs": [
    {
     "name": "stdout",
     "output_type": "stream",
     "text": [
      "7369.0 SMITH 800.0\n",
      "7499.0 ALLEN 1600.0\n",
      "7521.0 WARD 1250.0\n",
      "7566.0 JONES 2975.0\n",
      "7654.0 MARTIN 1250.0\n",
      "7698.0 BLAKE 2850.0\n",
      "7782.0 CLARK 2450.0\n",
      "7788.0 SCOTT 3000.0\n",
      "7839.0 KING 5000.0\n",
      "7844.0 TURNER 1500.0\n",
      "7876.0 ADAMS 1100.0\n",
      "7900.0 JAMES 950.0\n",
      "7902.0 FORD 3000.0\n",
      "7934.0 CLERK 1300.0\n"
     ]
    }
   ],
   "source": [
    "for emp in collection.find():\n",
    "    print(emp['empno'],emp['ename'],emp['sal'])"
   ]
  },
  {
   "cell_type": "code",
   "execution_count": 15,
   "metadata": {},
   "outputs": [
    {
     "name": "stderr",
     "output_type": "stream",
     "text": [
      "<ipython-input-15-b46f3f18dc91>:4: DeprecationWarning: insert is deprecated. Use insert_one or insert_many instead.\n",
      "  col.insert(s1)\n"
     ]
    },
    {
     "data": {
      "text/plain": [
       "ObjectId('60486e43afa9f51e94f65ca5')"
      ]
     },
     "execution_count": 15,
     "metadata": {},
     "output_type": "execute_result"
    }
   ],
   "source": [
    "#데이터 입력\n",
    "db=client['test']\n",
    "col=db['student']\n",
    "s1={'sno':1, 'name':'홍길동','major':'컴공'}\n",
    "col.insert(s1)"
   ]
  },
  {
   "cell_type": "code",
   "execution_count": 16,
   "metadata": {},
   "outputs": [
    {
     "name": "stdout",
     "output_type": "stream",
     "text": [
      "{'_id': ObjectId('60486e43afa9f51e94f65ca5'), 'sno': 1, 'name': '홍길동', 'major': '컴공'}\n"
     ]
    }
   ],
   "source": [
    "stud=col.find()\n",
    "for s in stud:\n",
    "    print(s)"
   ]
  },
  {
   "cell_type": "code",
   "execution_count": 17,
   "metadata": {},
   "outputs": [],
   "source": [
    "items=[\n",
    "    {'sno':3, 'name':'홍길수','major':'컴공'},\n",
    "    {'sno':4, 'name':'홍길현','major':'수학'},\n",
    "    {'sno':5, 'name':'이길동','major':'컴멀'}\n",
    "]"
   ]
  },
  {
   "cell_type": "code",
   "execution_count": 20,
   "metadata": {},
   "outputs": [
    {
     "data": {
      "text/plain": [
       "<pymongo.results.InsertManyResult at 0x1eb92841c80>"
      ]
     },
     "execution_count": 20,
     "metadata": {},
     "output_type": "execute_result"
    }
   ],
   "source": [
    "col.insert_many(items)"
   ]
  },
  {
   "cell_type": "code",
   "execution_count": 21,
   "metadata": {},
   "outputs": [
    {
     "name": "stdout",
     "output_type": "stream",
     "text": [
      "{'_id': ObjectId('60486e43afa9f51e94f65ca5'), 'sno': 1, 'name': '홍길동', 'major': '컴공'}\n",
      "{'_id': ObjectId('60487132afa9f51e94f65ca6'), 'sno': 3, 'name': '홍길수', 'major': '컴공'}\n",
      "{'_id': ObjectId('60487132afa9f51e94f65ca7'), 'sno': 4, 'name': '홍길현', 'major': '수학'}\n",
      "{'_id': ObjectId('60487132afa9f51e94f65ca8'), 'sno': 5, 'name': '이길동', 'major': '컴멀'}\n"
     ]
    }
   ],
   "source": [
    "for s in col.find():\n",
    "    print(s)"
   ]
  },
  {
   "cell_type": "code",
   "execution_count": 22,
   "metadata": {},
   "outputs": [
    {
     "name": "stderr",
     "output_type": "stream",
     "text": [
      "<ipython-input-22-32b2d6242a7c>:2: DeprecationWarning: update is deprecated. Use replace_one, update_one or update_many instead.\n",
      "  col.update({'sno':1},{'major':'컴퓨터공학'})\n"
     ]
    },
    {
     "data": {
      "text/plain": [
       "{'n': 1, 'nModified': 1, 'ok': 1.0, 'updatedExisting': True}"
      ]
     },
     "execution_count": 22,
     "metadata": {},
     "output_type": "execute_result"
    }
   ],
   "source": [
    "#update\n",
    "col.update({'sno':1},{'sno':1. 'name':'홍길동', 'major':'컴퓨터공학'})"
   ]
  },
  {
   "cell_type": "code",
   "execution_count": 24,
   "metadata": {},
   "outputs": [
    {
     "ename": "NameError",
     "evalue": "name 'ObjectId' is not defined",
     "output_type": "error",
     "traceback": [
      "\u001b[1;31m---------------------------------------------------------------------------\u001b[0m",
      "\u001b[1;31mNameError\u001b[0m                                 Traceback (most recent call last)",
      "\u001b[1;32m<ipython-input-24-24a3784c1ef1>\u001b[0m in \u001b[0;36m<module>\u001b[1;34m\u001b[0m\n\u001b[1;32m----> 1\u001b[1;33m \u001b[0mcol\u001b[0m\u001b[1;33m.\u001b[0m\u001b[0mupdate\u001b[0m\u001b[1;33m(\u001b[0m\u001b[1;33m{\u001b[0m\u001b[1;34m'_id'\u001b[0m\u001b[1;33m:\u001b[0m\u001b[0mObjectId\u001b[0m\u001b[1;33m(\u001b[0m\u001b[1;34m\"60486e43afa9f51e94f65ca5\"\u001b[0m\u001b[1;33m)\u001b[0m\u001b[1;33m}\u001b[0m\u001b[1;33m,\u001b[0m\u001b[1;33m{\u001b[0m\u001b[1;34m'sno'\u001b[0m\u001b[1;33m:\u001b[0m\u001b[1;36m2\u001b[0m\u001b[1;33m,\u001b[0m \u001b[1;34m'name'\u001b[0m\u001b[1;33m:\u001b[0m\u001b[1;34m'김길동'\u001b[0m\u001b[1;33m,\u001b[0m \u001b[1;34m'major'\u001b[0m\u001b[1;33m:\u001b[0m\u001b[1;34m'컴퓨터공학'\u001b[0m\u001b[1;33m}\u001b[0m\u001b[1;33m)\u001b[0m\u001b[1;33m\u001b[0m\u001b[1;33m\u001b[0m\u001b[0m\n\u001b[0m",
      "\u001b[1;31mNameError\u001b[0m: name 'ObjectId' is not defined"
     ]
    }
   ],
   "source": [
    "col.update({'_id':ObjectId(\"60486e43afa9f51e94f65ca5\")},{'sno':2, 'name':'김길동', 'major':'컴퓨터공학'})"
   ]
  },
  {
   "cell_type": "code",
   "execution_count": 25,
   "metadata": {},
   "outputs": [
    {
     "name": "stderr",
     "output_type": "stream",
     "text": [
      "<ipython-input-25-e93320aafb0e>:1: DeprecationWarning: remove is deprecated. Use delete_one or delete_many instead.\n",
      "  col.remove({'major':'컴퓨터공학'})\n"
     ]
    },
    {
     "data": {
      "text/plain": [
       "{'n': 1, 'ok': 1.0}"
      ]
     },
     "execution_count": 25,
     "metadata": {},
     "output_type": "execute_result"
    }
   ],
   "source": [
    "col.remove({'major':'컴퓨터공학'})"
   ]
  },
  {
   "cell_type": "code",
   "execution_count": 26,
   "metadata": {},
   "outputs": [
    {
     "name": "stderr",
     "output_type": "stream",
     "text": [
      "<ipython-input-26-5bab372238d8>:1: DeprecationWarning: remove is deprecated. Use delete_one or delete_many instead.\n",
      "  col.remove({'sno':1})\n"
     ]
    },
    {
     "data": {
      "text/plain": [
       "{'n': 0, 'ok': 1.0}"
      ]
     },
     "execution_count": 26,
     "metadata": {},
     "output_type": "execute_result"
    }
   ],
   "source": [
    "col.remove({'sno':1})"
   ]
  },
  {
   "cell_type": "code",
   "execution_count": null,
   "metadata": {},
   "outputs": [],
   "source": []
  }
 ],
 "metadata": {
  "kernelspec": {
   "display_name": "Python 3",
   "language": "python",
   "name": "python3"
  },
  "language_info": {
   "codemirror_mode": {
    "name": "ipython",
    "version": 3
   },
   "file_extension": ".py",
   "mimetype": "text/x-python",
   "name": "python",
   "nbconvert_exporter": "python",
   "pygments_lexer": "ipython3",
   "version": "3.8.5"
  }
 },
 "nbformat": 4,
 "nbformat_minor": 4
}
