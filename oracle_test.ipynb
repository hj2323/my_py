{
 "cells": [
  {
   "cell_type": "code",
   "execution_count": 1,
   "metadata": {},
   "outputs": [],
   "source": [
    "#pip install cx_oracle\n",
    "import cx_Oracle"
   ]
  },
  {
   "cell_type": "code",
   "execution_count": 20,
   "metadata": {},
   "outputs": [],
   "source": [
    "#전체 레코드 조회\n",
    "def all_product():\n",
    "    conn=cx_Oracle.connect(\"chj/1234@localhost:1521/xe\")  #oracle port 번호 1521\n",
    "    cursor=conn.cursor()\n",
    "    sql=\"select * from product\"\n",
    "    cursor.execute(sql)\n",
    "    for row in cursor:\n",
    "        id,name,price, des,pic=row\n",
    "        #description=row[3].read() #CLOB 필드 읽는 방법\n",
    "        print(id, name, price, des.read(), pic)\n",
    "    cursor.close()\n",
    "    conn.close()"
   ]
  },
  {
   "cell_type": "code",
   "execution_count": 21,
   "metadata": {},
   "outputs": [
    {
     "name": "stdout",
     "output_type": "stream",
     "text": [
      "1 사과 10000 청도 꿀사과 당도가 매우 높음 apple.jpg\n",
      "2 배 20000 나주 배입니다. 과즙이 풍부함 pear.jpg\n",
      "3 포도 10000 칠레산 적포도입니다 grape.jpg\n",
      "4 레몬 1500 레몬에 포함된 구연산은 피로회복에 좋습니다. lemon.jpg\n"
     ]
    }
   ],
   "source": [
    "all_product()"
   ]
  },
  {
   "cell_type": "code",
   "execution_count": 17,
   "metadata": {},
   "outputs": [],
   "source": [
    "#1개 레코드 삽입\n",
    "def insert_one():\n",
    "    conn=cx_Oracle.connect(\"chj/1234@localhost:1521/xe\")  #oracle port 번호 1521\n",
    "    cursor=conn.cursor()\n",
    "    sql=\"\"\"insert into product(product_id, product_name, price, description, picture_url)\n",
    "    values(:1,:2,:3,:4,:5)\n",
    "    \"\"\"\n",
    "    data=(4, '레몬', 1500, '레몬에 포함된 구연산은 피로회복에 좋습니다.', 'lemon.jpg')\n",
    "    cursor.execute(sql,data)\n",
    "    cursor.close()\n",
    "    conn.commit()\n",
    "    conn.close()"
   ]
  },
  {
   "cell_type": "code",
   "execution_count": 18,
   "metadata": {},
   "outputs": [
    {
     "ename": "IntegrityError",
     "evalue": "ORA-00001: unique constraint (CHJ.PRODUCT_PK) violated",
     "output_type": "error",
     "traceback": [
      "\u001b[1;31m---------------------------------------------------------------------------\u001b[0m",
      "\u001b[1;31mIntegrityError\u001b[0m                            Traceback (most recent call last)",
      "\u001b[1;32m<ipython-input-18-4bd506c161be>\u001b[0m in \u001b[0;36m<module>\u001b[1;34m\u001b[0m\n\u001b[1;32m----> 1\u001b[1;33m \u001b[0minsert_one\u001b[0m\u001b[1;33m(\u001b[0m\u001b[1;33m)\u001b[0m\u001b[1;33m\u001b[0m\u001b[1;33m\u001b[0m\u001b[0m\n\u001b[0m",
      "\u001b[1;32m<ipython-input-17-bc5097489b64>\u001b[0m in \u001b[0;36minsert_one\u001b[1;34m()\u001b[0m\n\u001b[0;32m      5\u001b[0m     \u001b[0msql\u001b[0m\u001b[1;33m=\u001b[0m\u001b[1;34m\"insert into product(product_id, product_name, price, description, picture_url) values(:1,:2,:3,:4,:5)\"\u001b[0m\u001b[1;33m\u001b[0m\u001b[1;33m\u001b[0m\u001b[0m\n\u001b[0;32m      6\u001b[0m     \u001b[0mdata\u001b[0m\u001b[1;33m=\u001b[0m\u001b[1;33m(\u001b[0m\u001b[1;36m4\u001b[0m\u001b[1;33m,\u001b[0m \u001b[1;34m'레몬'\u001b[0m\u001b[1;33m,\u001b[0m \u001b[1;36m1500\u001b[0m\u001b[1;33m,\u001b[0m \u001b[1;34m'레몬에 포함된 구연산은 피로회복에 좋습니다.'\u001b[0m\u001b[1;33m,\u001b[0m \u001b[1;34m'lemon.jpg'\u001b[0m\u001b[1;33m)\u001b[0m\u001b[1;33m\u001b[0m\u001b[1;33m\u001b[0m\u001b[0m\n\u001b[1;32m----> 7\u001b[1;33m     \u001b[0mcursor\u001b[0m\u001b[1;33m.\u001b[0m\u001b[0mexecute\u001b[0m\u001b[1;33m(\u001b[0m\u001b[0msql\u001b[0m\u001b[1;33m,\u001b[0m\u001b[0mdata\u001b[0m\u001b[1;33m)\u001b[0m\u001b[1;33m\u001b[0m\u001b[1;33m\u001b[0m\u001b[0m\n\u001b[0m\u001b[0;32m      8\u001b[0m     \u001b[0mcursor\u001b[0m\u001b[1;33m.\u001b[0m\u001b[0mclose\u001b[0m\u001b[1;33m(\u001b[0m\u001b[1;33m)\u001b[0m\u001b[1;33m\u001b[0m\u001b[1;33m\u001b[0m\u001b[0m\n\u001b[0;32m      9\u001b[0m     \u001b[0mconn\u001b[0m\u001b[1;33m.\u001b[0m\u001b[0mcommit\u001b[0m\u001b[1;33m(\u001b[0m\u001b[1;33m)\u001b[0m\u001b[1;33m\u001b[0m\u001b[1;33m\u001b[0m\u001b[0m\n",
      "\u001b[1;31mIntegrityError\u001b[0m: ORA-00001: unique constraint (CHJ.PRODUCT_PK) violated"
     ]
    }
   ],
   "source": [
    "insert_one()"
   ]
  },
  {
   "cell_type": "code",
   "execution_count": 22,
   "metadata": {},
   "outputs": [
    {
     "name": "stdout",
     "output_type": "stream",
     "text": [
      "1 사과 10000 청도 꿀사과 당도가 매우 높음 apple.jpg\n",
      "2 배 20000 나주 배입니다. 과즙이 풍부함 pear.jpg\n",
      "3 포도 10000 칠레산 적포도입니다 grape.jpg\n",
      "4 레몬 1500 레몬에 포함된 구연산은 피로회복에 좋습니다. lemon.jpg\n"
     ]
    }
   ],
   "source": [
    "all_product()"
   ]
  },
  {
   "cell_type": "code",
   "execution_count": 23,
   "metadata": {},
   "outputs": [],
   "source": [
    "#복수개 레코드 삽입\n",
    "def insert_records():\n",
    "    conn=cx_Oracle.connect(\"chj/1234@localhost:1521/xe\")  #oracle port 번호 1521\n",
    "    cursor=conn.cursor()\n",
    "    items=[\n",
    "        (5, '오렌지', 1500, '비타민 C가 풍부합니다. 생과일 주스로 마시면 좋습니다.', 'orange.jpg'),\n",
    "        (6, '레몬', 1500, '비타민 C가 매우 풍부합니다. 다이어트나 미용에 좋습니다.', 'kiwi.jpg'),\n",
    "        (7, '포도', 5000, '폴리페놀을 다량함유하고 있어 항산화 작용을 합니다.', 'grape.jpg'),\n",
    "        (8, '딸기', 8000, '비타민 C나 플로보노이드를 다량 함유하고 있습니다.', 'strawberry.jpg'),\n",
    "        (9, '귤', 7000, '시네피린을 함유하고 있어 감기 예방에 좋다고 합니다.', 'tangerine.jpg')\n",
    "    ]\n",
    "    sql=\"insert into product values(:1,:2,:3,:4,:5)\"\n",
    "    #data=(10,'토마토', 5000, '채소입니다', 'tomato.jpg')\n",
    "    for row in items:\n",
    "        cursor.execute(sql, row)\n",
    "    #cursor.close()\n",
    "    conn.commit()\n",
    "    conn.close()"
   ]
  },
  {
   "cell_type": "code",
   "execution_count": 24,
   "metadata": {},
   "outputs": [],
   "source": [
    "insert_records()"
   ]
  },
  {
   "cell_type": "code",
   "execution_count": 25,
   "metadata": {},
   "outputs": [
    {
     "name": "stdout",
     "output_type": "stream",
     "text": [
      "1 사과 10000 청도 꿀사과 당도가 매우 높음 apple.jpg\n",
      "2 배 20000 나주 배입니다. 과즙이 풍부함 pear.jpg\n",
      "3 포도 10000 칠레산 적포도입니다 grape.jpg\n",
      "4 레몬 1500 레몬에 포함된 구연산은 피로회복에 좋습니다. lemon.jpg\n",
      "5 오렌지 1500 비타민 C가 풍부합니다. 생과일 주스로 마시면 좋습니다. orange.jpg\n",
      "6 레몬 1500 비타민 C가 매우 풍부합니다. 다이어트나 미용에 좋습니다. kiwi.jpg\n",
      "7 포도 5000 폴리페놀을 다량함유하고 있어 항산화 작용을 합니다. grape.jpg\n",
      "8 딸기 8000 비타민 C나 플로보노이드를 다량 함유하고 있습니다. strawberry.jpg\n",
      "9 귤 7000 시네피린을 함유하고 있어 감기 예방에 좋다고 합니다. tangerine.jpg\n"
     ]
    }
   ],
   "source": [
    "all_product()"
   ]
  },
  {
   "cell_type": "code",
   "execution_count": 28,
   "metadata": {},
   "outputs": [],
   "source": [
    "#레코드 갯수 조회\n",
    "def count_product():\n",
    "    conn=cx_Oracle.connect(\"chj/1234@localhost:1521/xe\")  #oracle port 번호 1521\n",
    "    cursor=conn.cursor()\n",
    "    sql=\"select count(*) from product\"\n",
    "    cursor.execute(sql)\n",
    "    count=cursor.fetchone()\n",
    "    print(\"상품갯수:\", count[0])\n",
    "    cursor.close()\n",
    "    conn.close()"
   ]
  },
  {
   "cell_type": "code",
   "execution_count": 29,
   "metadata": {},
   "outputs": [
    {
     "name": "stdout",
     "output_type": "stream",
     "text": [
      "상품갯수: 9\n"
     ]
    }
   ],
   "source": [
    "count_product()"
   ]
  },
  {
   "cell_type": "code",
   "execution_count": 30,
   "metadata": {},
   "outputs": [],
   "source": [
    "#일부 레코드 삭제\n",
    "def delete_some():\n",
    "    conn=cx_Oracle.connect(\"chj/1234@localhost:1521/xe\")  #oracle port 번호 1521\n",
    "    cursor=conn.cursor()\n",
    "    sql=\"delete from product where product_id=:product_id\"\n",
    "    cursor.execute(sql,{'product_id':5})\n",
    "    cursor.close()\n",
    "    conn.commit()\n",
    "    conn.close()"
   ]
  },
  {
   "cell_type": "code",
   "execution_count": 31,
   "metadata": {},
   "outputs": [],
   "source": [
    "delete_some()"
   ]
  },
  {
   "cell_type": "code",
   "execution_count": 32,
   "metadata": {},
   "outputs": [
    {
     "name": "stdout",
     "output_type": "stream",
     "text": [
      "1 사과 10000 청도 꿀사과 당도가 매우 높음 apple.jpg\n",
      "2 배 20000 나주 배입니다. 과즙이 풍부함 pear.jpg\n",
      "3 포도 10000 칠레산 적포도입니다 grape.jpg\n",
      "4 레몬 1500 레몬에 포함된 구연산은 피로회복에 좋습니다. lemon.jpg\n",
      "6 레몬 1500 비타민 C가 매우 풍부합니다. 다이어트나 미용에 좋습니다. kiwi.jpg\n",
      "7 포도 5000 폴리페놀을 다량함유하고 있어 항산화 작용을 합니다. grape.jpg\n",
      "8 딸기 8000 비타민 C나 플로보노이드를 다량 함유하고 있습니다. strawberry.jpg\n",
      "9 귤 7000 시네피린을 함유하고 있어 감기 예방에 좋다고 합니다. tangerine.jpg\n"
     ]
    }
   ],
   "source": [
    "all_product()"
   ]
  },
  {
   "cell_type": "code",
   "execution_count": 38,
   "metadata": {},
   "outputs": [],
   "source": [
    "#수정\n",
    "def update():\n",
    "    conn=cx_Oracle.connect(\"chj/1234@localhost:1521/xe\")  #oracle port 번호 1521\n",
    "    cursor=conn.cursor()\n",
    "    product_name=str(input(\"input:\"))\n",
    "    product_id=str(input(\"input:\"))\n",
    "    sql=\"update product set product_name=\"+product_name+\" WHERE product_id=\"+product_id\n",
    "    cursor.execute(sql)\n",
    "    conn.commit()\n",
    "    cursor.close()\n",
    "    conn.close()"
   ]
  },
  {
   "cell_type": "code",
   "execution_count": 39,
   "metadata": {},
   "outputs": [
    {
     "name": "stdout",
     "output_type": "stream",
     "text": [
      "input:키위\n",
      "input:6\n"
     ]
    },
    {
     "ename": "DatabaseError",
     "evalue": "ORA-00904: \"키위\": invalid identifier",
     "output_type": "error",
     "traceback": [
      "\u001b[1;31m---------------------------------------------------------------------------\u001b[0m",
      "\u001b[1;31mDatabaseError\u001b[0m                             Traceback (most recent call last)",
      "\u001b[1;32m<ipython-input-39-1b4527802232>\u001b[0m in \u001b[0;36m<module>\u001b[1;34m\u001b[0m\n\u001b[1;32m----> 1\u001b[1;33m \u001b[0mupdate\u001b[0m\u001b[1;33m(\u001b[0m\u001b[1;33m)\u001b[0m\u001b[1;33m\u001b[0m\u001b[1;33m\u001b[0m\u001b[0m\n\u001b[0m",
      "\u001b[1;32m<ipython-input-38-8ec77ac25ead>\u001b[0m in \u001b[0;36mupdate\u001b[1;34m()\u001b[0m\n\u001b[0;32m      6\u001b[0m     \u001b[0mproduct_id\u001b[0m\u001b[1;33m=\u001b[0m\u001b[0mstr\u001b[0m\u001b[1;33m(\u001b[0m\u001b[0minput\u001b[0m\u001b[1;33m(\u001b[0m\u001b[1;34m\"input:\"\u001b[0m\u001b[1;33m)\u001b[0m\u001b[1;33m)\u001b[0m\u001b[1;33m\u001b[0m\u001b[1;33m\u001b[0m\u001b[0m\n\u001b[0;32m      7\u001b[0m     \u001b[0msql\u001b[0m\u001b[1;33m=\u001b[0m\u001b[1;34m\"update product set product_name=\"\u001b[0m\u001b[1;33m+\u001b[0m\u001b[0mproduct_name\u001b[0m\u001b[1;33m+\u001b[0m\u001b[1;34m\" WHERE product_id=\"\u001b[0m\u001b[1;33m+\u001b[0m\u001b[0mproduct_id\u001b[0m\u001b[1;33m\u001b[0m\u001b[1;33m\u001b[0m\u001b[0m\n\u001b[1;32m----> 8\u001b[1;33m     \u001b[0mcursor\u001b[0m\u001b[1;33m.\u001b[0m\u001b[0mexecute\u001b[0m\u001b[1;33m(\u001b[0m\u001b[0msql\u001b[0m\u001b[1;33m)\u001b[0m\u001b[1;33m\u001b[0m\u001b[1;33m\u001b[0m\u001b[0m\n\u001b[0m\u001b[0;32m      9\u001b[0m     \u001b[0mconn\u001b[0m\u001b[1;33m.\u001b[0m\u001b[0mcommit\u001b[0m\u001b[1;33m(\u001b[0m\u001b[1;33m)\u001b[0m\u001b[1;33m\u001b[0m\u001b[1;33m\u001b[0m\u001b[0m\n\u001b[0;32m     10\u001b[0m     \u001b[0mcursor\u001b[0m\u001b[1;33m.\u001b[0m\u001b[0mclose\u001b[0m\u001b[1;33m(\u001b[0m\u001b[1;33m)\u001b[0m\u001b[1;33m\u001b[0m\u001b[1;33m\u001b[0m\u001b[0m\n",
      "\u001b[1;31mDatabaseError\u001b[0m: ORA-00904: \"키위\": invalid identifier"
     ]
    }
   ],
   "source": [
    "update()"
   ]
  },
  {
   "cell_type": "code",
   "execution_count": 35,
   "metadata": {},
   "outputs": [
    {
     "name": "stdout",
     "output_type": "stream",
     "text": [
      "1 사과 10000 청도 꿀사과 당도가 매우 높음 apple.jpg\n",
      "2 배 20000 나주 배입니다. 과즙이 풍부함 pear.jpg\n",
      "3 포도 10000 칠레산 적포도입니다 grape.jpg\n",
      "4 레몬 1500 레몬에 포함된 구연산은 피로회복에 좋습니다. lemon.jpg\n",
      "6 레몬 5000 비타민 C가 매우 풍부합니다. 다이어트나 미용에 좋습니다. kiwi.jpg\n",
      "7 포도 5000 폴리페놀을 다량함유하고 있어 항산화 작용을 합니다. grape.jpg\n",
      "8 딸기 8000 비타민 C나 플로보노이드를 다량 함유하고 있습니다. strawberry.jpg\n",
      "9 귤 7000 시네피린을 함유하고 있어 감기 예방에 좋다고 합니다. tangerine.jpg\n"
     ]
    }
   ],
   "source": [
    "all_product()"
   ]
  },
  {
   "cell_type": "code",
   "execution_count": null,
   "metadata": {},
   "outputs": [],
   "source": []
  }
 ],
 "metadata": {
  "kernelspec": {
   "display_name": "Python 3",
   "language": "python",
   "name": "python3"
  },
  "language_info": {
   "codemirror_mode": {
    "name": "ipython",
    "version": 3
   },
   "file_extension": ".py",
   "mimetype": "text/x-python",
   "name": "python",
   "nbconvert_exporter": "python",
   "pygments_lexer": "ipython3",
   "version": "3.8.5"
  }
 },
 "nbformat": 4,
 "nbformat_minor": 4
}
