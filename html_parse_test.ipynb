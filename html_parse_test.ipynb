{
 "cells": [
  {
   "cell_type": "code",
   "execution_count": 3,
   "metadata": {},
   "outputs": [],
   "source": [
    "#BeautifulSoup 라이브러리 실습\n",
    "from bs4 import BeautifulSoup"
   ]
  },
  {
   "cell_type": "code",
   "execution_count": 12,
   "metadata": {},
   "outputs": [],
   "source": [
    "html_doc=\"\"\"\n",
    "<!DOCTYPE html>\n",
    "<html>\n",
    "    <head>\n",
    "        <meta charset=\"utf-8\">\n",
    "        <title>Test BeautifulSoup</title>\n",
    "    </head>\n",
    "    <body>\n",
    "        <p align='center'>P태그의 컨텐츠</p>\n",
    "        <img src=\"http://unico2013.dothome.co.kr/image/flower.jpg\" width=\"300\">\n",
    "        <h1>테스트</h1>\n",
    "        <ul>\n",
    "            <li>테스트1<strong>강조</strong></li>\n",
    "            <li>테스트2</li>\n",
    "            <li>테스트3</li>\n",
    "            <li>테스트4</li>\n",
    "        </ul>\n",
    "    </body>\n",
    "</html>        \n",
    "\"\"\""
   ]
  },
  {
   "cell_type": "code",
   "execution_count": 13,
   "metadata": {},
   "outputs": [
    {
     "name": "stdout",
     "output_type": "stream",
     "text": [
      "<class 'bs4.BeautifulSoup'>\n",
      "<!DOCTYPE html>\n",
      "<html>\n",
      " <head>\n",
      "  <meta charset=\"utf-8\"/>\n",
      "  <title>\n",
      "   Test BeautifulSoup\n",
      "  </title>\n",
      " </head>\n",
      " <body>\n",
      "  <p align=\"center\">\n",
      "   P태그의 컨텐츠\n",
      "  </p>\n",
      "  <img src=\"http://unico2013.dothome.co.kr/image/flower.jpg\" width=\"300\"/>\n",
      "  <h1>\n",
      "   테스트\n",
      "  </h1>\n",
      "  <ul>\n",
      "   <li>\n",
      "    테스트1\n",
      "    <string>\n",
      "     강조\n",
      "    </string>\n",
      "   </li>\n",
      "   <li>\n",
      "    테스트2\n",
      "   </li>\n",
      "   <li>\n",
      "    테스트3\n",
      "   </li>\n",
      "   <li>\n",
      "    테스트4\n",
      "   </li>\n",
      "  </ul>\n",
      " </body>\n",
      "</html>\n",
      "\n"
     ]
    }
   ],
   "source": [
    "bs=BeautifulSoup(html_doc, 'html.parser')\n",
    "print(type(bs))\n",
    "print(bs.prettify())"
   ]
  },
  {
   "cell_type": "code",
   "execution_count": 36,
   "metadata": {},
   "outputs": [
    {
     "name": "stdout",
     "output_type": "stream",
     "text": [
      "[<li>테스트1<string>강조</string></li>, <li>테스트2</li>, <li>테스트3</li>, <li>테스트4</li>]\n"
     ]
    },
    {
     "ename": "NameError",
     "evalue": "name 're' is not defined",
     "output_type": "error",
     "traceback": [
      "\u001b[1;31m---------------------------------------------------------------------------\u001b[0m",
      "\u001b[1;31mNameError\u001b[0m                                 Traceback (most recent call last)",
      "\u001b[1;32m<ipython-input-36-cb4f28c93e22>\u001b[0m in \u001b[0;36m<module>\u001b[1;34m\u001b[0m\n\u001b[0;32m      1\u001b[0m \u001b[0mprint\u001b[0m\u001b[1;33m(\u001b[0m\u001b[0mbs\u001b[0m\u001b[1;33m.\u001b[0m\u001b[0mfind_all\u001b[0m\u001b[1;33m(\u001b[0m\u001b[1;34m'li'\u001b[0m\u001b[1;33m)\u001b[0m\u001b[1;33m)\u001b[0m\u001b[1;33m\u001b[0m\u001b[1;33m\u001b[0m\u001b[0m\n\u001b[1;32m----> 2\u001b[1;33m \u001b[0mprint\u001b[0m\u001b[1;33m(\u001b[0m\u001b[0mbs\u001b[0m\u001b[1;33m.\u001b[0m\u001b[0mfind_all\u001b[0m\u001b[1;33m(\u001b[0m\u001b[0msrc\u001b[0m\u001b[1;33m=\u001b[0m\u001b[0mre\u001b[0m\u001b[1;33m.\u001b[0m\u001b[0mcommpile\u001b[0m\u001b[1;33m(\u001b[0m\u001b[1;34m\"jpg$\"\u001b[0m\u001b[1;33m)\u001b[0m\u001b[1;33m)\u001b[0m\u001b[1;33m)\u001b[0m\u001b[1;33m\u001b[0m\u001b[1;33m\u001b[0m\u001b[0m\n\u001b[0m",
      "\u001b[1;31mNameError\u001b[0m: name 're' is not defined"
     ]
    }
   ],
   "source": [
    "print(bs.find_all('li'))\n",
    "print(bs.find_all(src=re.commpile(\"jpg$\")))"
   ]
  },
  {
   "cell_type": "code",
   "execution_count": 17,
   "metadata": {},
   "outputs": [
    {
     "name": "stdout",
     "output_type": "stream",
     "text": [
      "<class 'bs4.element.Tag'> : <title>Test BeautifulSoup</title>\n",
      "<class 'str'> : title\n",
      "<class 'bs4.element.NavigableString'> : Test BeautifulSoup\n",
      "<class 'str'> : center\n",
      "http://unico2013.dothome.co.kr/image/flower.jpg\n",
      "{'src': 'http://unico2013.dothome.co.kr/image/flower.jpg', 'width': '300'}\n"
     ]
    }
   ],
   "source": [
    "print(type(bs.title),':',bs.title)\n",
    "print(type(bs.title.name),':',bs.title.name)\n",
    "print(type(bs.title.string),':',bs.title.string)\n",
    "\n",
    "print(type(bs.p['align']),':', bs.p['align'])\n",
    "print(bs.img['src'])\n",
    "print(bs.img.attrs)"
   ]
  },
  {
   "cell_type": "code",
   "execution_count": 20,
   "metadata": {},
   "outputs": [
    {
     "name": "stdout",
     "output_type": "stream",
     "text": [
      "<class 'bs4.element.NavigableString'> : P태그의 컨텐츠\n",
      "<class 'NoneType'> : None\n",
      "<class 'NoneType'> : None\n"
     ]
    }
   ],
   "source": [
    "print(type(bs.p.string),':',bs.p.string)\n",
    "print(type(bs.ul.string),':',bs.ul.string)\n",
    "print(type(bs.ul.li.string),':',bs.ul.li.string)\n",
    "print(type(bs.ul.li.strong.string),':',bs.ul.li.strong.string)"
   ]
  },
  {
   "cell_type": "code",
   "execution_count": 40,
   "metadata": {},
   "outputs": [
    {
     "name": "stdout",
     "output_type": "stream",
     "text": [
      "<class 'str'> : P태그의 컨텐츠\n",
      "<class 'str'> : \n",
      "테스트1강조\n",
      "테스트2\n",
      "테스트3\n",
      "테스트4\n",
      "\n",
      "<class 'str'> : 테스트1강조\n"
     ]
    },
    {
     "ename": "AttributeError",
     "evalue": "'NoneType' object has no attribute 'text'",
     "output_type": "error",
     "traceback": [
      "\u001b[1;31m---------------------------------------------------------------------------\u001b[0m",
      "\u001b[1;31mAttributeError\u001b[0m                            Traceback (most recent call last)",
      "\u001b[1;32m<ipython-input-40-d8b55e5216ac>\u001b[0m in \u001b[0;36m<module>\u001b[1;34m\u001b[0m\n\u001b[0;32m      2\u001b[0m \u001b[0mprint\u001b[0m\u001b[1;33m(\u001b[0m\u001b[0mtype\u001b[0m\u001b[1;33m(\u001b[0m\u001b[0mbs\u001b[0m\u001b[1;33m.\u001b[0m\u001b[0mul\u001b[0m\u001b[1;33m.\u001b[0m\u001b[0mtext\u001b[0m\u001b[1;33m)\u001b[0m\u001b[1;33m,\u001b[0m\u001b[1;34m':'\u001b[0m\u001b[1;33m,\u001b[0m\u001b[0mbs\u001b[0m\u001b[1;33m.\u001b[0m\u001b[0mul\u001b[0m\u001b[1;33m.\u001b[0m\u001b[0mtext\u001b[0m\u001b[1;33m)\u001b[0m\u001b[1;33m\u001b[0m\u001b[1;33m\u001b[0m\u001b[0m\n\u001b[0;32m      3\u001b[0m \u001b[0mprint\u001b[0m\u001b[1;33m(\u001b[0m\u001b[0mtype\u001b[0m\u001b[1;33m(\u001b[0m\u001b[0mbs\u001b[0m\u001b[1;33m.\u001b[0m\u001b[0mul\u001b[0m\u001b[1;33m.\u001b[0m\u001b[0mli\u001b[0m\u001b[1;33m.\u001b[0m\u001b[0mtext\u001b[0m\u001b[1;33m)\u001b[0m\u001b[1;33m,\u001b[0m\u001b[1;34m':'\u001b[0m\u001b[1;33m,\u001b[0m\u001b[0mbs\u001b[0m\u001b[1;33m.\u001b[0m\u001b[0mul\u001b[0m\u001b[1;33m.\u001b[0m\u001b[0mli\u001b[0m\u001b[1;33m.\u001b[0m\u001b[0mtext\u001b[0m\u001b[1;33m)\u001b[0m\u001b[1;33m\u001b[0m\u001b[1;33m\u001b[0m\u001b[0m\n\u001b[1;32m----> 4\u001b[1;33m \u001b[0mprint\u001b[0m\u001b[1;33m(\u001b[0m\u001b[0mtype\u001b[0m\u001b[1;33m(\u001b[0m\u001b[0mbs\u001b[0m\u001b[1;33m.\u001b[0m\u001b[0mul\u001b[0m\u001b[1;33m.\u001b[0m\u001b[0mli\u001b[0m\u001b[1;33m.\u001b[0m\u001b[0mstrong\u001b[0m\u001b[1;33m.\u001b[0m\u001b[0mtext\u001b[0m\u001b[1;33m)\u001b[0m\u001b[1;33m,\u001b[0m\u001b[1;34m':'\u001b[0m\u001b[1;33m,\u001b[0m\u001b[0mbs\u001b[0m\u001b[1;33m.\u001b[0m\u001b[0mul\u001b[0m\u001b[1;33m.\u001b[0m\u001b[0mli\u001b[0m\u001b[1;33m.\u001b[0m\u001b[0mstrong\u001b[0m\u001b[1;33m.\u001b[0m\u001b[0mtext\u001b[0m\u001b[1;33m)\u001b[0m\u001b[1;33m\u001b[0m\u001b[1;33m\u001b[0m\u001b[0m\n\u001b[0m",
      "\u001b[1;31mAttributeError\u001b[0m: 'NoneType' object has no attribute 'text'"
     ]
    }
   ],
   "source": [
    "print(type(bs.p.text),':',bs.p.text)\n",
    "print(type(bs.ul.text),':',bs.ul.text)\n",
    "print(type(bs.ul.li.text),':',bs.ul.li.text)\n",
    "print(type(bs.ul.li.strong.text),':',bs.ul.li.strong.text)"
   ]
  },
  {
   "cell_type": "code",
   "execution_count": 41,
   "metadata": {},
   "outputs": [
    {
     "name": "stdout",
     "output_type": "stream",
     "text": [
      "<class 'list'> : ['P태그의 컨텐츠']\n",
      "<class 'list'> : ['\\n', <li>테스트1<string>강조</string></li>, '\\n', <li>테스트2</li>, '\\n', <li>테스트3</li>, '\\n', <li>테스트4</li>, '\\n']\n",
      "<class 'list'> : ['테스트1', <string>강조</string>]\n"
     ]
    },
    {
     "ename": "AttributeError",
     "evalue": "'NoneType' object has no attribute 'contents'",
     "output_type": "error",
     "traceback": [
      "\u001b[1;31m---------------------------------------------------------------------------\u001b[0m",
      "\u001b[1;31mAttributeError\u001b[0m                            Traceback (most recent call last)",
      "\u001b[1;32m<ipython-input-41-f7a1bcb0c064>\u001b[0m in \u001b[0;36m<module>\u001b[1;34m\u001b[0m\n\u001b[0;32m      2\u001b[0m \u001b[0mprint\u001b[0m\u001b[1;33m(\u001b[0m\u001b[0mtype\u001b[0m\u001b[1;33m(\u001b[0m\u001b[0mbs\u001b[0m\u001b[1;33m.\u001b[0m\u001b[0mul\u001b[0m\u001b[1;33m.\u001b[0m\u001b[0mcontents\u001b[0m\u001b[1;33m)\u001b[0m\u001b[1;33m,\u001b[0m\u001b[1;34m':'\u001b[0m\u001b[1;33m,\u001b[0m\u001b[0mbs\u001b[0m\u001b[1;33m.\u001b[0m\u001b[0mul\u001b[0m\u001b[1;33m.\u001b[0m\u001b[0mcontents\u001b[0m\u001b[1;33m)\u001b[0m\u001b[1;33m\u001b[0m\u001b[1;33m\u001b[0m\u001b[0m\n\u001b[0;32m      3\u001b[0m \u001b[0mprint\u001b[0m\u001b[1;33m(\u001b[0m\u001b[0mtype\u001b[0m\u001b[1;33m(\u001b[0m\u001b[0mbs\u001b[0m\u001b[1;33m.\u001b[0m\u001b[0mul\u001b[0m\u001b[1;33m.\u001b[0m\u001b[0mli\u001b[0m\u001b[1;33m.\u001b[0m\u001b[0mcontents\u001b[0m\u001b[1;33m)\u001b[0m\u001b[1;33m,\u001b[0m\u001b[1;34m':'\u001b[0m\u001b[1;33m,\u001b[0m\u001b[0mbs\u001b[0m\u001b[1;33m.\u001b[0m\u001b[0mul\u001b[0m\u001b[1;33m.\u001b[0m\u001b[0mli\u001b[0m\u001b[1;33m.\u001b[0m\u001b[0mcontents\u001b[0m\u001b[1;33m)\u001b[0m\u001b[1;33m\u001b[0m\u001b[1;33m\u001b[0m\u001b[0m\n\u001b[1;32m----> 4\u001b[1;33m \u001b[0mprint\u001b[0m\u001b[1;33m(\u001b[0m\u001b[0mtype\u001b[0m\u001b[1;33m(\u001b[0m\u001b[0mbs\u001b[0m\u001b[1;33m.\u001b[0m\u001b[0mul\u001b[0m\u001b[1;33m.\u001b[0m\u001b[0mli\u001b[0m\u001b[1;33m.\u001b[0m\u001b[0mstrong\u001b[0m\u001b[1;33m.\u001b[0m\u001b[0mcontents\u001b[0m\u001b[1;33m)\u001b[0m\u001b[1;33m,\u001b[0m\u001b[1;34m':'\u001b[0m\u001b[1;33m,\u001b[0m\u001b[0mbs\u001b[0m\u001b[1;33m.\u001b[0m\u001b[0mul\u001b[0m\u001b[1;33m.\u001b[0m\u001b[0mli\u001b[0m\u001b[1;33m.\u001b[0m\u001b[0mstrong\u001b[0m\u001b[1;33m.\u001b[0m\u001b[0mcontents\u001b[0m\u001b[1;33m)\u001b[0m\u001b[1;33m\u001b[0m\u001b[1;33m\u001b[0m\u001b[0m\n\u001b[0m",
      "\u001b[1;31mAttributeError\u001b[0m: 'NoneType' object has no attribute 'contents'"
     ]
    }
   ],
   "source": [
    "print(type(bs.p.contents),':',bs.p.contents)\n",
    "print(type(bs.ul.contents),':',bs.ul.contents)\n",
    "print(type(bs.ul.li.contents),':',bs.ul.li.contents)\n",
    "print(type(bs.ul.li.strong.contents),':',bs.ul.li.strong.contents)"
   ]
  },
  {
   "cell_type": "code",
   "execution_count": 39,
   "metadata": {},
   "outputs": [
    {
     "name": "stdout",
     "output_type": "stream",
     "text": [
      "<h1>테스트</h1>\n",
      "테스트\n",
      "테스트\n",
      "['테스트']\n",
      "<generator object Tag._all_strings at 0x0000028480397510>\n",
      "테스트\n",
      "테스트\n",
      "테스트\n",
      "<generator object Tag.stripped_strings at 0x0000028480397510>\n",
      "테스트\n"
     ]
    }
   ],
   "source": [
    "print(bs.h1)\n",
    "print(bs.h1.string)\n",
    "print(bs.h1.text)\n",
    "print(bs.h1.contents)\n",
    "print(bs.h1.strings)\n",
    "print(bs.h1.get_text())\n",
    "print(bs.h1.string.strip())\n",
    "print(bs.h1.text.strip())\n",
    "print(bs.h1.stripped_strings)\n",
    "print(bs.h1.get_text(strip=True))"
   ]
  },
  {
   "cell_type": "code",
   "execution_count": 32,
   "metadata": {},
   "outputs": [
    {
     "name": "stdout",
     "output_type": "stream",
     "text": [
      "<li>테스트2</li>\n",
      "<li>테스트1<string>강조</string></li>\n",
      "+++++++++++++++++++++\n",
      "\n",
      "\n",
      "<li>테스트1<string>강조</string></li>\n",
      "테스트1\n",
      "<string>강조</string>\n",
      "강조\n",
      "\n",
      "\n",
      "<li>테스트2</li>\n",
      "테스트2\n",
      "\n",
      "\n",
      "<li>테스트3</li>\n",
      "테스트3\n",
      "\n",
      "\n",
      "<li>테스트4</li>\n",
      "테스트4\n",
      "\n",
      "\n"
     ]
    }
   ],
   "source": [
    "li1=bs.li\n",
    "#print(li)\n",
    "#print(li.parent)#-->ul tag\n",
    "li2=li1.next_sibling.next_sibling\n",
    "print(li2)\n",
    "print(li2.previous_sibling.previous_sibling)\n",
    "ul1=bs.ul\n",
    "#ul_children=ul1.children\n",
    "ul_des=ul1.descendants\n",
    "print('+++++++++++++++++++++')\n",
    "for i in ul_des:\n",
    "    print(i)"
   ]
  },
  {
   "cell_type": "code",
   "execution_count": 52,
   "metadata": {},
   "outputs": [
    {
     "name": "stdout",
     "output_type": "stream",
     "text": [
      "[<img alt=\"NAVER\" height=\"13\" src=\"https://ssl.pstatic.net/static/movie/2013/07/logo_ci.png\" width=\"62\"/>, <img alt=\"영화\" height=\"19\" src=\"https://ssl.pstatic.net/static/movie/2012/06/logo_svc.png\" width=\"34\"/>, <img alt=\"현재 상영영화\" height=\"24\" src=\"https://ssl.pstatic.net/static/movie/2012/09/tit_movie1.png\" width=\"120\"/>, <img alt=\"맨위로\" height=\"35\" src=\"https://ssl.pstatic.net/static/movie/2012/08/btn_top.png\" width=\"33\"/>, <img alt=\"NAVER\" height=\"11\" src=\"https://ssl.pstatic.net/static/movie/2013/07/logo_naver.png\" width=\"63\"/>]\n"
     ]
    }
   ],
   "source": [
    "import urllib.request\n",
    "import re\n",
    "url=\"https://movie.naver.com/movie/running/current.nhn\"\n",
    "res=urllib.request.urlopen(url)\n",
    "#print(res.read())\n",
    "bs=BeautifulSoup(res,'html.parser')\n",
    "images=bs.find_all('img')\n",
    "pngs=bs.find_all(src=re.compile(\"png$\"))\n",
    "print(pngs)"
   ]
  },
  {
   "cell_type": "code",
   "execution_count": 54,
   "metadata": {},
   "outputs": [],
   "source": [
    "#bs.find(), bs.find_all()실습\n",
    "html=\"\"\"\n",
    "<html><body>\n",
    "<h1 id=\"title\">Hello python</h1>\n",
    "<p id=\"body\">웹 페이지 분석</p>\n",
    "<span>데이터 수집1</span>\n",
    "<span>데이터 수집2</span>\n",
    "</body></html>\n",
    "\"\"\""
   ]
  },
  {
   "cell_type": "code",
   "execution_count": 56,
   "metadata": {},
   "outputs": [
    {
     "name": "stdout",
     "output_type": "stream",
     "text": [
      "#title= <h1 id=\"title\">Hello python</h1>\n",
      "#title=Hello python\n",
      "#body= <p id=\"body\">웹 페이지 분석</p>\n",
      "span= 데이터 수집1\n"
     ]
    }
   ],
   "source": [
    "soup=BeautifulSoup(html, 'html.parser')\n",
    "title=soup.find(id='title')\n",
    "body=soup.find(id='body')\n",
    "span=soup.find('span')\n",
    "\n",
    "print('#title=', title)\n",
    "print('#title='+title.string)\n",
    "print('#body=', body)\n",
    "#print('#body='. body.string)\n",
    "print('span=', span.string)"
   ]
  },
  {
   "cell_type": "code",
   "execution_count": null,
   "metadata": {},
   "outputs": [],
   "source": []
  }
 ],
 "metadata": {
  "kernelspec": {
   "display_name": "Python 3",
   "language": "python",
   "name": "python3"
  },
  "language_info": {
   "codemirror_mode": {
    "name": "ipython",
    "version": 3
   },
   "file_extension": ".py",
   "mimetype": "text/x-python",
   "name": "python",
   "nbconvert_exporter": "python",
   "pygments_lexer": "ipython3",
   "version": "3.8.5"
  }
 },
 "nbformat": 4,
 "nbformat_minor": 4
}
